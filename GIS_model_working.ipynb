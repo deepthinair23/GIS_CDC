{
  "cells": [
    {
      "cell_type": "markdown",
      "id": "0a0eb502",
      "metadata": {
        "id": "0a0eb502"
      },
      "source": [
        "Convert MATLAB code to python"
      ]
    },
    {
      "cell_type": "code",
      "execution_count": null,
      "id": "4ce09d3e",
      "metadata": {
        "id": "4ce09d3e"
      },
      "outputs": [],
      "source": [
        "# Polygon dataset was created for each point by using Thiessen Polygon algorithm\n",
        "https://pro.arcgis.com/en/pro-app/latest/tool-reference/analysis/create-thiessen-polygons.htm"
      ]
    },
    {
      "cell_type": "code",
      "execution_count": null,
      "id": "a9280d62",
      "metadata": {
        "id": "a9280d62"
      },
      "outputs": [],
      "source": [
        "# Population density was aggregated for each polygon area\n"
      ]
    },
    {
      "cell_type": "code",
      "execution_count": null,
      "id": "cca05a92",
      "metadata": {
        "id": "cca05a92"
      },
      "outputs": [],
      "source": [
        "import pandas as pd\n",
        "import numpy as np\n",
        "import geopandas as gpd"
      ]
    },
    {
      "cell_type": "code",
      "execution_count": null,
      "id": "6c532148",
      "metadata": {
        "id": "6c532148"
      },
      "outputs": [],
      "source": [
        "postcode=gpd.read_file('D:/Dis/GIS model/data/centroid.shp') # importing shapefile which contain lat long and number of population in each postcode area"
      ]
    },
    {
      "cell_type": "code",
      "execution_count": null,
      "id": "ae32315a",
      "metadata": {
        "id": "ae32315a",
        "outputId": "b90b3803-6140-4994-e362-01a454c12400"
      },
      "outputs": [
        {
          "data": {
            "text/html": [
              "<div>\n",
              "<style scoped>\n",
              "    .dataframe tbody tr th:only-of-type {\n",
              "        vertical-align: middle;\n",
              "    }\n",
              "\n",
              "    .dataframe tbody tr th {\n",
              "        vertical-align: top;\n",
              "    }\n",
              "\n",
              "    .dataframe thead th {\n",
              "        text-align: right;\n",
              "    }\n",
              "</style>\n",
              "<table border=\"1\" class=\"dataframe\">\n",
              "  <thead>\n",
              "    <tr style=\"text-align: right;\">\n",
              "      <th></th>\n",
              "      <th>Id</th>\n",
              "      <th>Input_FID</th>\n",
              "      <th>Shape_Leng</th>\n",
              "      <th>id1</th>\n",
              "      <th>OBJECTID</th>\n",
              "      <th>id1_1</th>\n",
              "      <th>COUNT</th>\n",
              "      <th>AREA</th>\n",
              "      <th>SUM</th>\n",
              "      <th>Shape_Le_1</th>\n",
              "      <th>Shape_Area</th>\n",
              "      <th>ORIG_FID</th>\n",
              "      <th>lat</th>\n",
              "      <th>long</th>\n",
              "      <th>geometry</th>\n",
              "    </tr>\n",
              "  </thead>\n",
              "  <tbody>\n",
              "    <tr>\n",
              "      <th>0</th>\n",
              "      <td>0</td>\n",
              "      <td>49281</td>\n",
              "      <td>0.148670</td>\n",
              "      <td>1</td>\n",
              "      <td>1</td>\n",
              "      <td>0</td>\n",
              "      <td>3215.0</td>\n",
              "      <td>0.000248</td>\n",
              "      <td>10134.064690</td>\n",
              "      <td>0.148670</td>\n",
              "      <td>6.055392e-04</td>\n",
              "      <td>1</td>\n",
              "      <td>50.759681</td>\n",
              "      <td>-1.658104</td>\n",
              "      <td>POINT (-1.65810 50.75968)</td>\n",
              "    </tr>\n",
              "    <tr>\n",
              "      <th>1</th>\n",
              "      <td>0</td>\n",
              "      <td>49285</td>\n",
              "      <td>0.050245</td>\n",
              "      <td>2</td>\n",
              "      <td>2</td>\n",
              "      <td>0</td>\n",
              "      <td>68.0</td>\n",
              "      <td>0.000005</td>\n",
              "      <td>84.336251</td>\n",
              "      <td>0.050245</td>\n",
              "      <td>5.711410e-05</td>\n",
              "      <td>2</td>\n",
              "      <td>50.785958</td>\n",
              "      <td>-1.640108</td>\n",
              "      <td>POINT (-1.64011 50.78596)</td>\n",
              "    </tr>\n",
              "    <tr>\n",
              "      <th>2</th>\n",
              "      <td>0</td>\n",
              "      <td>49283</td>\n",
              "      <td>0.018635</td>\n",
              "      <td>3</td>\n",
              "      <td>3</td>\n",
              "      <td>0</td>\n",
              "      <td>23.0</td>\n",
              "      <td>0.000002</td>\n",
              "      <td>29.302264</td>\n",
              "      <td>0.018635</td>\n",
              "      <td>1.952324e-05</td>\n",
              "      <td>3</td>\n",
              "      <td>50.774809</td>\n",
              "      <td>-1.630178</td>\n",
              "      <td>POINT (-1.63018 50.77481)</td>\n",
              "    </tr>\n",
              "    <tr>\n",
              "      <th>3</th>\n",
              "      <td>0</td>\n",
              "      <td>49284</td>\n",
              "      <td>0.018725</td>\n",
              "      <td>4</td>\n",
              "      <td>4</td>\n",
              "      <td>0</td>\n",
              "      <td>51.0</td>\n",
              "      <td>0.000004</td>\n",
              "      <td>62.574111</td>\n",
              "      <td>0.018725</td>\n",
              "      <td>2.023600e-05</td>\n",
              "      <td>4</td>\n",
              "      <td>50.776017</td>\n",
              "      <td>-1.635331</td>\n",
              "      <td>POINT (-1.63533 50.77602)</td>\n",
              "    </tr>\n",
              "    <tr>\n",
              "      <th>4</th>\n",
              "      <td>0</td>\n",
              "      <td>49286</td>\n",
              "      <td>0.489819</td>\n",
              "      <td>5</td>\n",
              "      <td>5</td>\n",
              "      <td>0</td>\n",
              "      <td>4705.0</td>\n",
              "      <td>0.000363</td>\n",
              "      <td>7432.806049</td>\n",
              "      <td>0.489819</td>\n",
              "      <td>7.913104e-03</td>\n",
              "      <td>5</td>\n",
              "      <td>50.786853</td>\n",
              "      <td>-1.715179</td>\n",
              "      <td>POINT (-1.71518 50.78685)</td>\n",
              "    </tr>\n",
              "    <tr>\n",
              "      <th>...</th>\n",
              "      <td>...</td>\n",
              "      <td>...</td>\n",
              "      <td>...</td>\n",
              "      <td>...</td>\n",
              "      <td>...</td>\n",
              "      <td>...</td>\n",
              "      <td>...</td>\n",
              "      <td>...</td>\n",
              "      <td>...</td>\n",
              "      <td>...</td>\n",
              "      <td>...</td>\n",
              "      <td>...</td>\n",
              "      <td>...</td>\n",
              "      <td>...</td>\n",
              "      <td>...</td>\n",
              "    </tr>\n",
              "    <tr>\n",
              "      <th>242937</th>\n",
              "      <td>0</td>\n",
              "      <td>235851</td>\n",
              "      <td>0.004578</td>\n",
              "      <td>242911</td>\n",
              "      <td>0</td>\n",
              "      <td>0</td>\n",
              "      <td>0.0</td>\n",
              "      <td>0.000000</td>\n",
              "      <td>0.000000</td>\n",
              "      <td>0.004578</td>\n",
              "      <td>1.223438e-06</td>\n",
              "      <td>242938</td>\n",
              "      <td>51.391147</td>\n",
              "      <td>1.398140</td>\n",
              "      <td>POINT (1.39814 51.39115)</td>\n",
              "    </tr>\n",
              "    <tr>\n",
              "      <th>242938</th>\n",
              "      <td>0</td>\n",
              "      <td>235914</td>\n",
              "      <td>0.002495</td>\n",
              "      <td>242913</td>\n",
              "      <td>0</td>\n",
              "      <td>0</td>\n",
              "      <td>0.0</td>\n",
              "      <td>0.000000</td>\n",
              "      <td>0.000000</td>\n",
              "      <td>0.002495</td>\n",
              "      <td>3.392920e-07</td>\n",
              "      <td>242939</td>\n",
              "      <td>51.390944</td>\n",
              "      <td>1.399819</td>\n",
              "      <td>POINT (1.39982 51.39094)</td>\n",
              "    </tr>\n",
              "    <tr>\n",
              "      <th>242939</th>\n",
              "      <td>0</td>\n",
              "      <td>235917</td>\n",
              "      <td>0.005775</td>\n",
              "      <td>242914</td>\n",
              "      <td>0</td>\n",
              "      <td>0</td>\n",
              "      <td>0.0</td>\n",
              "      <td>0.000000</td>\n",
              "      <td>0.000000</td>\n",
              "      <td>0.005775</td>\n",
              "      <td>6.821611e-07</td>\n",
              "      <td>242940</td>\n",
              "      <td>51.392153</td>\n",
              "      <td>1.400192</td>\n",
              "      <td>POINT (1.40019 51.39215)</td>\n",
              "    </tr>\n",
              "    <tr>\n",
              "      <th>242940</th>\n",
              "      <td>0</td>\n",
              "      <td>235901</td>\n",
              "      <td>0.002381</td>\n",
              "      <td>242916</td>\n",
              "      <td>0</td>\n",
              "      <td>0</td>\n",
              "      <td>0.0</td>\n",
              "      <td>0.000000</td>\n",
              "      <td>0.000000</td>\n",
              "      <td>0.002381</td>\n",
              "      <td>2.732927e-07</td>\n",
              "      <td>242941</td>\n",
              "      <td>51.391022</td>\n",
              "      <td>1.404098</td>\n",
              "      <td>POINT (1.40410 51.39102)</td>\n",
              "    </tr>\n",
              "    <tr>\n",
              "      <th>242941</th>\n",
              "      <td>0</td>\n",
              "      <td>235861</td>\n",
              "      <td>0.002972</td>\n",
              "      <td>242927</td>\n",
              "      <td>0</td>\n",
              "      <td>0</td>\n",
              "      <td>0.0</td>\n",
              "      <td>0.000000</td>\n",
              "      <td>0.000000</td>\n",
              "      <td>0.002972</td>\n",
              "      <td>4.218323e-07</td>\n",
              "      <td>242942</td>\n",
              "      <td>51.390875</td>\n",
              "      <td>1.404741</td>\n",
              "      <td>POINT (1.40474 51.39088)</td>\n",
              "    </tr>\n",
              "  </tbody>\n",
              "</table>\n",
              "<p>242942 rows × 15 columns</p>\n",
              "</div>"
            ],
            "text/plain": [
              "        Id  Input_FID  Shape_Leng     id1  OBJECTID  id1_1   COUNT      AREA  \\\n",
              "0        0      49281    0.148670       1         1      0  3215.0  0.000248   \n",
              "1        0      49285    0.050245       2         2      0    68.0  0.000005   \n",
              "2        0      49283    0.018635       3         3      0    23.0  0.000002   \n",
              "3        0      49284    0.018725       4         4      0    51.0  0.000004   \n",
              "4        0      49286    0.489819       5         5      0  4705.0  0.000363   \n",
              "...     ..        ...         ...     ...       ...    ...     ...       ...   \n",
              "242937   0     235851    0.004578  242911         0      0     0.0  0.000000   \n",
              "242938   0     235914    0.002495  242913         0      0     0.0  0.000000   \n",
              "242939   0     235917    0.005775  242914         0      0     0.0  0.000000   \n",
              "242940   0     235901    0.002381  242916         0      0     0.0  0.000000   \n",
              "242941   0     235861    0.002972  242927         0      0     0.0  0.000000   \n",
              "\n",
              "                 SUM  Shape_Le_1    Shape_Area  ORIG_FID        lat      long  \\\n",
              "0       10134.064690    0.148670  6.055392e-04         1  50.759681 -1.658104   \n",
              "1          84.336251    0.050245  5.711410e-05         2  50.785958 -1.640108   \n",
              "2          29.302264    0.018635  1.952324e-05         3  50.774809 -1.630178   \n",
              "3          62.574111    0.018725  2.023600e-05         4  50.776017 -1.635331   \n",
              "4        7432.806049    0.489819  7.913104e-03         5  50.786853 -1.715179   \n",
              "...              ...         ...           ...       ...        ...       ...   \n",
              "242937      0.000000    0.004578  1.223438e-06    242938  51.391147  1.398140   \n",
              "242938      0.000000    0.002495  3.392920e-07    242939  51.390944  1.399819   \n",
              "242939      0.000000    0.005775  6.821611e-07    242940  51.392153  1.400192   \n",
              "242940      0.000000    0.002381  2.732927e-07    242941  51.391022  1.404098   \n",
              "242941      0.000000    0.002972  4.218323e-07    242942  51.390875  1.404741   \n",
              "\n",
              "                         geometry  \n",
              "0       POINT (-1.65810 50.75968)  \n",
              "1       POINT (-1.64011 50.78596)  \n",
              "2       POINT (-1.63018 50.77481)  \n",
              "3       POINT (-1.63533 50.77602)  \n",
              "4       POINT (-1.71518 50.78685)  \n",
              "...                           ...  \n",
              "242937   POINT (1.39814 51.39115)  \n",
              "242938   POINT (1.39982 51.39094)  \n",
              "242939   POINT (1.40019 51.39215)  \n",
              "242940   POINT (1.40410 51.39102)  \n",
              "242941   POINT (1.40474 51.39088)  \n",
              "\n",
              "[242942 rows x 15 columns]"
            ]
          },
          "execution_count": 36,
          "metadata": {},
          "output_type": "execute_result"
        }
      ],
      "source": [
        "postcode"
      ]
    },
    {
      "cell_type": "code",
      "execution_count": null,
      "id": "ab07386f",
      "metadata": {
        "id": "ab07386f"
      },
      "outputs": [],
      "source": [
        "postcode['sum']=postcode['SUM'].astype(int) # converting to integer\n",
        "df=postcode.copy()\n"
      ]
    },
    {
      "cell_type": "code",
      "execution_count": null,
      "id": "cad906a8",
      "metadata": {
        "id": "cad906a8"
      },
      "outputs": [],
      "source": [
        "import numpy as np\n",
        "a=df[[\"lat\"]]\n",
        "b=df[[\"long\"]]\n",
        "X=np.column_stack((a,b))  # creating lat and long pairs"
      ]
    },
    {
      "cell_type": "code",
      "execution_count": null,
      "id": "712514bf",
      "metadata": {
        "id": "712514bf"
      },
      "outputs": [],
      "source": [
        "import pandas as pd\n",
        "from sklearn.cluster import KMeans\n",
        "#from sklearn_extra.cluster import KMedoids\n",
        "kmeans = KMeans(n_clusters = 16,init='k-means++',n_init=10, random_state=0, max_iter=1000)\n",
        "y_kmeans = kmeans.fit_predict(X,sample_weight=df['sum'].values)  # fiting kmeans model where totoal number of population was used as weighting facotr\n",
        "k=pd.DataFrame(y_kmeans, columns=['cluster']) # create new dataframe adding cluster values\n",
        "postcode=postcode.join(k)"
      ]
    },
    {
      "cell_type": "code",
      "execution_count": null,
      "id": "ee84aa5d",
      "metadata": {
        "id": "ee84aa5d",
        "outputId": "2f2db976-1b64-48e8-b32e-b0bccd714e53"
      },
      "outputs": [
        {
          "data": {
            "text/html": [
              "<style>#sk-container-id-2 {color: black;background-color: white;}#sk-container-id-2 pre{padding: 0;}#sk-container-id-2 div.sk-toggleable {background-color: white;}#sk-container-id-2 label.sk-toggleable__label {cursor: pointer;display: block;width: 100%;margin-bottom: 0;padding: 0.3em;box-sizing: border-box;text-align: center;}#sk-container-id-2 label.sk-toggleable__label-arrow:before {content: \"▸\";float: left;margin-right: 0.25em;color: #696969;}#sk-container-id-2 label.sk-toggleable__label-arrow:hover:before {color: black;}#sk-container-id-2 div.sk-estimator:hover label.sk-toggleable__label-arrow:before {color: black;}#sk-container-id-2 div.sk-toggleable__content {max-height: 0;max-width: 0;overflow: hidden;text-align: left;background-color: #f0f8ff;}#sk-container-id-2 div.sk-toggleable__content pre {margin: 0.2em;color: black;border-radius: 0.25em;background-color: #f0f8ff;}#sk-container-id-2 input.sk-toggleable__control:checked~div.sk-toggleable__content {max-height: 200px;max-width: 100%;overflow: auto;}#sk-container-id-2 input.sk-toggleable__control:checked~label.sk-toggleable__label-arrow:before {content: \"▾\";}#sk-container-id-2 div.sk-estimator input.sk-toggleable__control:checked~label.sk-toggleable__label {background-color: #d4ebff;}#sk-container-id-2 div.sk-label input.sk-toggleable__control:checked~label.sk-toggleable__label {background-color: #d4ebff;}#sk-container-id-2 input.sk-hidden--visually {border: 0;clip: rect(1px 1px 1px 1px);clip: rect(1px, 1px, 1px, 1px);height: 1px;margin: -1px;overflow: hidden;padding: 0;position: absolute;width: 1px;}#sk-container-id-2 div.sk-estimator {font-family: monospace;background-color: #f0f8ff;border: 1px dotted black;border-radius: 0.25em;box-sizing: border-box;margin-bottom: 0.5em;}#sk-container-id-2 div.sk-estimator:hover {background-color: #d4ebff;}#sk-container-id-2 div.sk-parallel-item::after {content: \"\";width: 100%;border-bottom: 1px solid gray;flex-grow: 1;}#sk-container-id-2 div.sk-label:hover label.sk-toggleable__label {background-color: #d4ebff;}#sk-container-id-2 div.sk-serial::before {content: \"\";position: absolute;border-left: 1px solid gray;box-sizing: border-box;top: 0;bottom: 0;left: 50%;z-index: 0;}#sk-container-id-2 div.sk-serial {display: flex;flex-direction: column;align-items: center;background-color: white;padding-right: 0.2em;padding-left: 0.2em;position: relative;}#sk-container-id-2 div.sk-item {position: relative;z-index: 1;}#sk-container-id-2 div.sk-parallel {display: flex;align-items: stretch;justify-content: center;background-color: white;position: relative;}#sk-container-id-2 div.sk-item::before, #sk-container-id-2 div.sk-parallel-item::before {content: \"\";position: absolute;border-left: 1px solid gray;box-sizing: border-box;top: 0;bottom: 0;left: 50%;z-index: -1;}#sk-container-id-2 div.sk-parallel-item {display: flex;flex-direction: column;z-index: 1;position: relative;background-color: white;}#sk-container-id-2 div.sk-parallel-item:first-child::after {align-self: flex-end;width: 50%;}#sk-container-id-2 div.sk-parallel-item:last-child::after {align-self: flex-start;width: 50%;}#sk-container-id-2 div.sk-parallel-item:only-child::after {width: 0;}#sk-container-id-2 div.sk-dashed-wrapped {border: 1px dashed gray;margin: 0 0.4em 0.5em 0.4em;box-sizing: border-box;padding-bottom: 0.4em;background-color: white;}#sk-container-id-2 div.sk-label label {font-family: monospace;font-weight: bold;display: inline-block;line-height: 1.2em;}#sk-container-id-2 div.sk-label-container {text-align: center;}#sk-container-id-2 div.sk-container {/* jupyter's `normalize.less` sets `[hidden] { display: none; }` but bootstrap.min.css set `[hidden] { display: none !important; }` so we also need the `!important` here to be able to override the default hidden behavior on the sphinx rendered scikit-learn.org. See: https://github.com/scikit-learn/scikit-learn/issues/21755 */display: inline-block !important;position: relative;}#sk-container-id-2 div.sk-text-repr-fallback {display: none;}</style><div id=\"sk-container-id-2\" class=\"sk-top-container\"><div class=\"sk-text-repr-fallback\"><pre>KMeans(max_iter=1000, n_clusters=16, random_state=0)</pre><b>In a Jupyter environment, please rerun this cell to show the HTML representation or trust the notebook. <br />On GitHub, the HTML representation is unable to render, please try loading this page with nbviewer.org.</b></div><div class=\"sk-container\" hidden><div class=\"sk-item\"><div class=\"sk-estimator sk-toggleable\"><input class=\"sk-toggleable__control sk-hidden--visually\" id=\"sk-estimator-id-2\" type=\"checkbox\" checked><label for=\"sk-estimator-id-2\" class=\"sk-toggleable__label sk-toggleable__label-arrow\">KMeans</label><div class=\"sk-toggleable__content\"><pre>KMeans(max_iter=1000, n_clusters=16, random_state=0)</pre></div></div></div></div></div>"
            ],
            "text/plain": [
              "KMeans(max_iter=1000, n_clusters=16, random_state=0)"
            ]
          },
          "execution_count": 42,
          "metadata": {},
          "output_type": "execute_result"
        }
      ],
      "source": [
        "kmeans"
      ]
    },
    {
      "cell_type": "code",
      "execution_count": null,
      "id": "d4f358b3",
      "metadata": {
        "id": "d4f358b3",
        "outputId": "60f4003b-c563-4705-a016-9ad68d956cc1"
      },
      "outputs": [
        {
          "data": {
            "text/plain": [
              "array([[51.28568683,  1.35264903],\n",
              "       [50.9426361 , -1.42909917],\n",
              "       [51.3440408 , -0.49311881],\n",
              "       [51.32717098,  0.57199577],\n",
              "       [51.77878128, -1.31946263],\n",
              "       [51.57857987, -0.67619361],\n",
              "       [50.86948863, -0.11759603],\n",
              "       [50.82348046, -1.10412278],\n",
              "       [51.29976878,  0.26795867],\n",
              "       [50.84187829, -0.5481606 ],\n",
              "       [50.86427561,  0.40814925],\n",
              "       [51.288329  , -0.78218055],\n",
              "       [51.20314101, -0.19595365],\n",
              "       [51.40382669, -1.07178817],\n",
              "       [51.20180424,  1.01601967],\n",
              "       [51.96175143, -0.79171216]])"
            ]
          },
          "execution_count": 43,
          "metadata": {},
          "output_type": "execute_result"
        }
      ],
      "source": [
        "C=kmeans.cluster_centers_ # cluster center points C\n",
        "C"
      ]
    },
    {
      "cell_type": "code",
      "execution_count": null,
      "id": "26ea0171",
      "metadata": {
        "id": "26ea0171"
      },
      "outputs": [],
      "source": [
        "df=pd.DataFrame(C,columns=['latitude','longitude']) # convert center points into lat and long"
      ]
    },
    {
      "cell_type": "code",
      "execution_count": null,
      "id": "2bb178aa",
      "metadata": {
        "id": "2bb178aa",
        "outputId": "be211432-1c94-42cc-cf0d-fc07fe6d5d19"
      },
      "outputs": [
        {
          "data": {
            "text/html": [
              "<div>\n",
              "<style scoped>\n",
              "    .dataframe tbody tr th:only-of-type {\n",
              "        vertical-align: middle;\n",
              "    }\n",
              "\n",
              "    .dataframe tbody tr th {\n",
              "        vertical-align: top;\n",
              "    }\n",
              "\n",
              "    .dataframe thead th {\n",
              "        text-align: right;\n",
              "    }\n",
              "</style>\n",
              "<table border=\"1\" class=\"dataframe\">\n",
              "  <thead>\n",
              "    <tr style=\"text-align: right;\">\n",
              "      <th></th>\n",
              "      <th>latitude</th>\n",
              "      <th>longitude</th>\n",
              "    </tr>\n",
              "  </thead>\n",
              "  <tbody>\n",
              "    <tr>\n",
              "      <th>0</th>\n",
              "      <td>51.285687</td>\n",
              "      <td>1.352649</td>\n",
              "    </tr>\n",
              "    <tr>\n",
              "      <th>1</th>\n",
              "      <td>50.942636</td>\n",
              "      <td>-1.429099</td>\n",
              "    </tr>\n",
              "    <tr>\n",
              "      <th>2</th>\n",
              "      <td>51.344041</td>\n",
              "      <td>-0.493119</td>\n",
              "    </tr>\n",
              "    <tr>\n",
              "      <th>3</th>\n",
              "      <td>51.327171</td>\n",
              "      <td>0.571996</td>\n",
              "    </tr>\n",
              "    <tr>\n",
              "      <th>4</th>\n",
              "      <td>51.778781</td>\n",
              "      <td>-1.319463</td>\n",
              "    </tr>\n",
              "    <tr>\n",
              "      <th>5</th>\n",
              "      <td>51.578580</td>\n",
              "      <td>-0.676194</td>\n",
              "    </tr>\n",
              "    <tr>\n",
              "      <th>6</th>\n",
              "      <td>50.869489</td>\n",
              "      <td>-0.117596</td>\n",
              "    </tr>\n",
              "    <tr>\n",
              "      <th>7</th>\n",
              "      <td>50.823480</td>\n",
              "      <td>-1.104123</td>\n",
              "    </tr>\n",
              "    <tr>\n",
              "      <th>8</th>\n",
              "      <td>51.299769</td>\n",
              "      <td>0.267959</td>\n",
              "    </tr>\n",
              "    <tr>\n",
              "      <th>9</th>\n",
              "      <td>50.841878</td>\n",
              "      <td>-0.548161</td>\n",
              "    </tr>\n",
              "    <tr>\n",
              "      <th>10</th>\n",
              "      <td>50.864276</td>\n",
              "      <td>0.408149</td>\n",
              "    </tr>\n",
              "    <tr>\n",
              "      <th>11</th>\n",
              "      <td>51.288329</td>\n",
              "      <td>-0.782181</td>\n",
              "    </tr>\n",
              "    <tr>\n",
              "      <th>12</th>\n",
              "      <td>51.203141</td>\n",
              "      <td>-0.195954</td>\n",
              "    </tr>\n",
              "    <tr>\n",
              "      <th>13</th>\n",
              "      <td>51.403827</td>\n",
              "      <td>-1.071788</td>\n",
              "    </tr>\n",
              "    <tr>\n",
              "      <th>14</th>\n",
              "      <td>51.201804</td>\n",
              "      <td>1.016020</td>\n",
              "    </tr>\n",
              "    <tr>\n",
              "      <th>15</th>\n",
              "      <td>51.961751</td>\n",
              "      <td>-0.791712</td>\n",
              "    </tr>\n",
              "  </tbody>\n",
              "</table>\n",
              "</div>"
            ],
            "text/plain": [
              "     latitude  longitude\n",
              "0   51.285687   1.352649\n",
              "1   50.942636  -1.429099\n",
              "2   51.344041  -0.493119\n",
              "3   51.327171   0.571996\n",
              "4   51.778781  -1.319463\n",
              "5   51.578580  -0.676194\n",
              "6   50.869489  -0.117596\n",
              "7   50.823480  -1.104123\n",
              "8   51.299769   0.267959\n",
              "9   50.841878  -0.548161\n",
              "10  50.864276   0.408149\n",
              "11  51.288329  -0.782181\n",
              "12  51.203141  -0.195954\n",
              "13  51.403827  -1.071788\n",
              "14  51.201804   1.016020\n",
              "15  51.961751  -0.791712"
            ]
          },
          "execution_count": 45,
          "metadata": {},
          "output_type": "execute_result"
        }
      ],
      "source": [
        "df"
      ]
    },
    {
      "cell_type": "code",
      "execution_count": null,
      "id": "b25f8148",
      "metadata": {
        "id": "b25f8148"
      },
      "outputs": [],
      "source": [
        "df.to_csv(\"D:/Dis/GIS model/kmplus.csv\") # save the file in excel to visualize in gis software"
      ]
    },
    {
      "cell_type": "code",
      "execution_count": null,
      "id": "3d6be19a",
      "metadata": {
        "id": "3d6be19a"
      },
      "outputs": [],
      "source": []
    },
    {
      "cell_type": "code",
      "execution_count": null,
      "id": "20becbc4",
      "metadata": {
        "id": "20becbc4"
      },
      "outputs": [],
      "source": []
    },
    {
      "cell_type": "code",
      "execution_count": null,
      "id": "b4220935",
      "metadata": {
        "id": "b4220935"
      },
      "outputs": [],
      "source": []
    },
    {
      "cell_type": "code",
      "execution_count": null,
      "id": "c0abb6b7",
      "metadata": {
        "id": "c0abb6b7"
      },
      "outputs": [],
      "source": []
    },
    {
      "cell_type": "code",
      "execution_count": null,
      "id": "febfe01c",
      "metadata": {
        "id": "febfe01c"
      },
      "outputs": [],
      "source": []
    },
    {
      "cell_type": "code",
      "execution_count": null,
      "id": "b54d9982",
      "metadata": {
        "id": "b54d9982"
      },
      "outputs": [],
      "source": []
    },
    {
      "cell_type": "code",
      "execution_count": null,
      "id": "1911b823",
      "metadata": {
        "id": "1911b823"
      },
      "outputs": [],
      "source": []
    },
    {
      "cell_type": "code",
      "execution_count": null,
      "id": "4bab3952",
      "metadata": {
        "id": "4bab3952"
      },
      "outputs": [],
      "source": []
    },
    {
      "cell_type": "code",
      "execution_count": null,
      "id": "d1b67f0e",
      "metadata": {
        "id": "d1b67f0e"
      },
      "outputs": [],
      "source": []
    },
    {
      "cell_type": "code",
      "execution_count": null,
      "id": "d1a26db3",
      "metadata": {
        "id": "d1a26db3"
      },
      "outputs": [],
      "source": []
    },
    {
      "cell_type": "code",
      "execution_count": null,
      "id": "4dfd9a5b",
      "metadata": {
        "id": "4dfd9a5b"
      },
      "outputs": [],
      "source": []
    },
    {
      "cell_type": "code",
      "execution_count": null,
      "id": "825023b1",
      "metadata": {
        "id": "825023b1"
      },
      "outputs": [],
      "source": []
    },
    {
      "cell_type": "code",
      "execution_count": null,
      "id": "0e872761",
      "metadata": {
        "id": "0e872761"
      },
      "outputs": [],
      "source": [
        "# ignor these parts"
      ]
    },
    {
      "cell_type": "code",
      "execution_count": null,
      "id": "5d8f6d39",
      "metadata": {
        "id": "5d8f6d39"
      },
      "outputs": [],
      "source": []
    },
    {
      "cell_type": "code",
      "execution_count": null,
      "id": "0cec6624",
      "metadata": {
        "id": "0cec6624"
      },
      "outputs": [],
      "source": []
    },
    {
      "cell_type": "code",
      "execution_count": null,
      "id": "eab14b43",
      "metadata": {
        "id": "eab14b43"
      },
      "outputs": [],
      "source": []
    },
    {
      "cell_type": "code",
      "execution_count": null,
      "id": "840a455a",
      "metadata": {
        "id": "840a455a"
      },
      "outputs": [],
      "source": [
        "list1=['BN','BR','CR','CT','DA','GU','HP','KT','ME','MK','OX','PO',\n",
        "    'RG','RH','SL','SM','SO','TN','TW','UB','WD']"
      ]
    },
    {
      "cell_type": "code",
      "execution_count": null,
      "id": "59c418e1",
      "metadata": {
        "id": "59c418e1"
      },
      "outputs": [],
      "source": [
        "data=postcode[postcode.postcode.str.startswith(tuple(list1))]"
      ]
    },
    {
      "cell_type": "code",
      "execution_count": null,
      "id": "afa92b7e",
      "metadata": {
        "id": "afa92b7e",
        "outputId": "b9ccf362-df86-43e6-ab89-06371f94b3a3"
      },
      "outputs": [
        {
          "data": {
            "text/html": [
              "<div>\n",
              "<style scoped>\n",
              "    .dataframe tbody tr th:only-of-type {\n",
              "        vertical-align: middle;\n",
              "    }\n",
              "\n",
              "    .dataframe tbody tr th {\n",
              "        vertical-align: top;\n",
              "    }\n",
              "\n",
              "    .dataframe thead th {\n",
              "        text-align: right;\n",
              "    }\n",
              "</style>\n",
              "<table border=\"1\" class=\"dataframe\">\n",
              "  <thead>\n",
              "    <tr style=\"text-align: right;\">\n",
              "      <th></th>\n",
              "      <th>id</th>\n",
              "      <th>postcode</th>\n",
              "      <th>latitude</th>\n",
              "      <th>longitude</th>\n",
              "    </tr>\n",
              "  </thead>\n",
              "  <tbody>\n",
              "    <tr>\n",
              "      <th>65591</th>\n",
              "      <td>69025</td>\n",
              "      <td>WD7 9EU</td>\n",
              "      <td>51.694131</td>\n",
              "      <td>-0.292763</td>\n",
              "    </tr>\n",
              "    <tr>\n",
              "      <th>65592</th>\n",
              "      <td>69026</td>\n",
              "      <td>WD7 9EW</td>\n",
              "      <td>51.684390</td>\n",
              "      <td>-0.272313</td>\n",
              "    </tr>\n",
              "    <tr>\n",
              "      <th>65593</th>\n",
              "      <td>69027</td>\n",
              "      <td>WD7 9EX</td>\n",
              "      <td>51.693555</td>\n",
              "      <td>-0.292090</td>\n",
              "    </tr>\n",
              "    <tr>\n",
              "      <th>65594</th>\n",
              "      <td>69028</td>\n",
              "      <td>WD7 9EY</td>\n",
              "      <td>51.694202</td>\n",
              "      <td>-0.291487</td>\n",
              "    </tr>\n",
              "    <tr>\n",
              "      <th>65595</th>\n",
              "      <td>69029</td>\n",
              "      <td>WD7 9EZ</td>\n",
              "      <td>51.692161</td>\n",
              "      <td>-0.292099</td>\n",
              "    </tr>\n",
              "    <tr>\n",
              "      <th>...</th>\n",
              "      <td>...</td>\n",
              "      <td>...</td>\n",
              "      <td>...</td>\n",
              "      <td>...</td>\n",
              "    </tr>\n",
              "    <tr>\n",
              "      <th>1784675</th>\n",
              "      <td>2693324</td>\n",
              "      <td>WD6 9PZ</td>\n",
              "      <td>51.655359</td>\n",
              "      <td>-0.279031</td>\n",
              "    </tr>\n",
              "    <tr>\n",
              "      <th>1784676</th>\n",
              "      <td>2693327</td>\n",
              "      <td>WD7 0GJ</td>\n",
              "      <td>51.683007</td>\n",
              "      <td>-0.317272</td>\n",
              "    </tr>\n",
              "    <tr>\n",
              "      <th>1784677</th>\n",
              "      <td>2693328</td>\n",
              "      <td>WD7 9FL</td>\n",
              "      <td>51.703386</td>\n",
              "      <td>-0.303694</td>\n",
              "    </tr>\n",
              "    <tr>\n",
              "      <th>1784678</th>\n",
              "      <td>2693329</td>\n",
              "      <td>WD7 9FN</td>\n",
              "      <td>51.703231</td>\n",
              "      <td>-0.302918</td>\n",
              "    </tr>\n",
              "    <tr>\n",
              "      <th>1784679</th>\n",
              "      <td>2693330</td>\n",
              "      <td>WD7 9FP</td>\n",
              "      <td>51.707718</td>\n",
              "      <td>-0.259343</td>\n",
              "    </tr>\n",
              "  </tbody>\n",
              "</table>\n",
              "<p>309944 rows × 4 columns</p>\n",
              "</div>"
            ],
            "text/plain": [
              "              id postcode   latitude  longitude\n",
              "65591      69025  WD7 9EU  51.694131  -0.292763\n",
              "65592      69026  WD7 9EW  51.684390  -0.272313\n",
              "65593      69027  WD7 9EX  51.693555  -0.292090\n",
              "65594      69028  WD7 9EY  51.694202  -0.291487\n",
              "65595      69029  WD7 9EZ  51.692161  -0.292099\n",
              "...          ...      ...        ...        ...\n",
              "1784675  2693324  WD6 9PZ  51.655359  -0.279031\n",
              "1784676  2693327  WD7 0GJ  51.683007  -0.317272\n",
              "1784677  2693328  WD7 9FL  51.703386  -0.303694\n",
              "1784678  2693329  WD7 9FN  51.703231  -0.302918\n",
              "1784679  2693330  WD7 9FP  51.707718  -0.259343\n",
              "\n",
              "[309944 rows x 4 columns]"
            ]
          },
          "execution_count": 7,
          "metadata": {},
          "output_type": "execute_result"
        }
      ],
      "source": [
        "data"
      ]
    },
    {
      "cell_type": "code",
      "execution_count": null,
      "id": "ff375f6d",
      "metadata": {
        "id": "ff375f6d"
      },
      "outputs": [],
      "source": [
        "data.to_csv(\"D:/Dis/GIS model/south_east_post.csv\",index=False)"
      ]
    },
    {
      "cell_type": "code",
      "execution_count": null,
      "id": "ad40313f",
      "metadata": {
        "id": "ad40313f"
      },
      "outputs": [],
      "source": [
        "import geopandas as gpd"
      ]
    },
    {
      "cell_type": "code",
      "execution_count": null,
      "id": "69f53d81",
      "metadata": {
        "id": "69f53d81"
      },
      "outputs": [],
      "source": [
        "gdf = gpd.GeoDataFrame(\n",
        "    data, geometry=gpd.points_from_xy(data.longitude, data.latitude))"
      ]
    },
    {
      "cell_type": "code",
      "execution_count": null,
      "id": "6279fb9b",
      "metadata": {
        "id": "6279fb9b",
        "outputId": "a3fd75ad-ea17-42c8-9eef-d686b6f4d9ae"
      },
      "outputs": [
        {
          "data": {
            "text/plain": [
              "<AxesSubplot:>"
            ]
          },
          "execution_count": 59,
          "metadata": {},
          "output_type": "execute_result"
        },
        {
          "data": {
            "image/png": "[encoded data removed]",
            "text/plain": [
              "<Figure size 640x480 with 1 Axes>"
            ]
          },
          "metadata": {},
          "output_type": "display_data"
        }
      ],
      "source": [
        "gdf.plot()"
      ]
    },
    {
      "cell_type": "code",
      "execution_count": null,
      "id": "284993fc",
      "metadata": {
        "id": "284993fc"
      },
      "outputs": [],
      "source": [
        "gdf=gdf.dropna()"
      ]
    },
    {
      "cell_type": "code",
      "execution_count": null,
      "id": "1c0ae471",
      "metadata": {
        "id": "1c0ae471"
      },
      "outputs": [],
      "source": [
        "import numpy as np\n",
        "a=gdf[[\"latitude\"]]\n",
        "b=gdf[[\"longitude\"]]\n",
        "X=np.column_stack((a,b))"
      ]
    },
    {
      "cell_type": "code",
      "execution_count": null,
      "id": "ada39bc4",
      "metadata": {
        "id": "ada39bc4"
      },
      "outputs": [],
      "source": [
        "import pandas as pd\n",
        "from sklearn.cluster import KMeans\n",
        "#from sklearn_extra.cluster import KMedoids\n",
        "kmeans = KMeans(n_clusters = 16)\n",
        "y_kmeans = kmeans.fit_predict(X)\n",
        "k=pd.DataFrame(y_kmeans, columns=['cluster'])\n",
        "gdf=gdf.join(k)"
      ]
    },
    {
      "cell_type": "code",
      "execution_count": null,
      "id": "27dbb97e",
      "metadata": {
        "id": "27dbb97e",
        "outputId": "6160ef84-f891-4b5e-954f-8ac40021dfa4"
      },
      "outputs": [
        {
          "data": {
            "text/html": [
              "<div>\n",
              "<style scoped>\n",
              "    .dataframe tbody tr th:only-of-type {\n",
              "        vertical-align: middle;\n",
              "    }\n",
              "\n",
              "    .dataframe tbody tr th {\n",
              "        vertical-align: top;\n",
              "    }\n",
              "\n",
              "    .dataframe thead th {\n",
              "        text-align: right;\n",
              "    }\n",
              "</style>\n",
              "<table border=\"1\" class=\"dataframe\">\n",
              "  <thead>\n",
              "    <tr style=\"text-align: right;\">\n",
              "      <th></th>\n",
              "      <th>id</th>\n",
              "      <th>postcode</th>\n",
              "      <th>latitude</th>\n",
              "      <th>longitude</th>\n",
              "      <th>geometry</th>\n",
              "      <th>cluster</th>\n",
              "    </tr>\n",
              "  </thead>\n",
              "  <tbody>\n",
              "    <tr>\n",
              "      <th>65591</th>\n",
              "      <td>69025</td>\n",
              "      <td>WD7 9EU</td>\n",
              "      <td>51.694131</td>\n",
              "      <td>-0.292763</td>\n",
              "      <td>POINT (-0.29276 51.69413)</td>\n",
              "      <td>1.0</td>\n",
              "    </tr>\n",
              "    <tr>\n",
              "      <th>65592</th>\n",
              "      <td>69026</td>\n",
              "      <td>WD7 9EW</td>\n",
              "      <td>51.684390</td>\n",
              "      <td>-0.272313</td>\n",
              "      <td>POINT (-0.27231 51.68439)</td>\n",
              "      <td>1.0</td>\n",
              "    </tr>\n",
              "    <tr>\n",
              "      <th>65593</th>\n",
              "      <td>69027</td>\n",
              "      <td>WD7 9EX</td>\n",
              "      <td>51.693555</td>\n",
              "      <td>-0.292090</td>\n",
              "      <td>POINT (-0.29209 51.69356)</td>\n",
              "      <td>1.0</td>\n",
              "    </tr>\n",
              "    <tr>\n",
              "      <th>65594</th>\n",
              "      <td>69028</td>\n",
              "      <td>WD7 9EY</td>\n",
              "      <td>51.694202</td>\n",
              "      <td>-0.291487</td>\n",
              "      <td>POINT (-0.29149 51.69420)</td>\n",
              "      <td>1.0</td>\n",
              "    </tr>\n",
              "    <tr>\n",
              "      <th>65595</th>\n",
              "      <td>69029</td>\n",
              "      <td>WD7 9EZ</td>\n",
              "      <td>51.692161</td>\n",
              "      <td>-0.292099</td>\n",
              "      <td>POINT (-0.29210 51.69216)</td>\n",
              "      <td>1.0</td>\n",
              "    </tr>\n",
              "    <tr>\n",
              "      <th>...</th>\n",
              "      <td>...</td>\n",
              "      <td>...</td>\n",
              "      <td>...</td>\n",
              "      <td>...</td>\n",
              "      <td>...</td>\n",
              "      <td>...</td>\n",
              "    </tr>\n",
              "    <tr>\n",
              "      <th>1784675</th>\n",
              "      <td>2693324</td>\n",
              "      <td>WD6 9PZ</td>\n",
              "      <td>51.655359</td>\n",
              "      <td>-0.279031</td>\n",
              "      <td>POINT (-0.27903 51.65536)</td>\n",
              "      <td>NaN</td>\n",
              "    </tr>\n",
              "    <tr>\n",
              "      <th>1784676</th>\n",
              "      <td>2693327</td>\n",
              "      <td>WD7 0GJ</td>\n",
              "      <td>51.683007</td>\n",
              "      <td>-0.317272</td>\n",
              "      <td>POINT (-0.31727 51.68301)</td>\n",
              "      <td>NaN</td>\n",
              "    </tr>\n",
              "    <tr>\n",
              "      <th>1784677</th>\n",
              "      <td>2693328</td>\n",
              "      <td>WD7 9FL</td>\n",
              "      <td>51.703386</td>\n",
              "      <td>-0.303694</td>\n",
              "      <td>POINT (-0.30369 51.70339)</td>\n",
              "      <td>NaN</td>\n",
              "    </tr>\n",
              "    <tr>\n",
              "      <th>1784678</th>\n",
              "      <td>2693329</td>\n",
              "      <td>WD7 9FN</td>\n",
              "      <td>51.703231</td>\n",
              "      <td>-0.302918</td>\n",
              "      <td>POINT (-0.30292 51.70323)</td>\n",
              "      <td>NaN</td>\n",
              "    </tr>\n",
              "    <tr>\n",
              "      <th>1784679</th>\n",
              "      <td>2693330</td>\n",
              "      <td>WD7 9FP</td>\n",
              "      <td>51.707718</td>\n",
              "      <td>-0.259343</td>\n",
              "      <td>POINT (-0.25934 51.70772)</td>\n",
              "      <td>NaN</td>\n",
              "    </tr>\n",
              "  </tbody>\n",
              "</table>\n",
              "<p>309942 rows × 6 columns</p>\n",
              "</div>"
            ],
            "text/plain": [
              "              id postcode   latitude  longitude                   geometry  \\\n",
              "65591      69025  WD7 9EU  51.694131  -0.292763  POINT (-0.29276 51.69413)   \n",
              "65592      69026  WD7 9EW  51.684390  -0.272313  POINT (-0.27231 51.68439)   \n",
              "65593      69027  WD7 9EX  51.693555  -0.292090  POINT (-0.29209 51.69356)   \n",
              "65594      69028  WD7 9EY  51.694202  -0.291487  POINT (-0.29149 51.69420)   \n",
              "65595      69029  WD7 9EZ  51.692161  -0.292099  POINT (-0.29210 51.69216)   \n",
              "...          ...      ...        ...        ...                        ...   \n",
              "1784675  2693324  WD6 9PZ  51.655359  -0.279031  POINT (-0.27903 51.65536)   \n",
              "1784676  2693327  WD7 0GJ  51.683007  -0.317272  POINT (-0.31727 51.68301)   \n",
              "1784677  2693328  WD7 9FL  51.703386  -0.303694  POINT (-0.30369 51.70339)   \n",
              "1784678  2693329  WD7 9FN  51.703231  -0.302918  POINT (-0.30292 51.70323)   \n",
              "1784679  2693330  WD7 9FP  51.707718  -0.259343  POINT (-0.25934 51.70772)   \n",
              "\n",
              "         cluster  \n",
              "65591        1.0  \n",
              "65592        1.0  \n",
              "65593        1.0  \n",
              "65594        1.0  \n",
              "65595        1.0  \n",
              "...          ...  \n",
              "1784675      NaN  \n",
              "1784676      NaN  \n",
              "1784677      NaN  \n",
              "1784678      NaN  \n",
              "1784679      NaN  \n",
              "\n",
              "[309942 rows x 6 columns]"
            ]
          },
          "execution_count": 63,
          "metadata": {},
          "output_type": "execute_result"
        }
      ],
      "source": [
        "gdf # clustered values"
      ]
    },
    {
      "cell_type": "code",
      "execution_count": null,
      "id": "f1c4d536",
      "metadata": {
        "id": "f1c4d536",
        "outputId": "443142c2-31d9-41ac-d7c0-a3a36ee47ed5"
      },
      "outputs": [
        {
          "data": {
            "text/plain": [
              "array([[50.83306807, -1.08272081],\n",
              "       [51.33297694, -0.22020083],\n",
              "       [51.28309554, -0.71335483],\n",
              "       [51.31425033,  0.47276921],\n",
              "       [52.06426882, -0.65405937],\n",
              "       [51.25593092,  1.24166293],\n",
              "       [51.80321212, -1.31703208],\n",
              "       [50.95206496, -0.152059  ],\n",
              "       [50.91337372,  0.32706145],\n",
              "       [50.908254  , -1.39055435],\n",
              "       [50.85015565, -0.56841502],\n",
              "       [51.65479722, -0.7453154 ],\n",
              "       [51.52854943, -0.43311092],\n",
              "       [51.20462671,  0.82621326],\n",
              "       [51.37917013,  0.10410051],\n",
              "       [51.39170924, -1.08954263]])"
            ]
          },
          "execution_count": 64,
          "metadata": {},
          "output_type": "execute_result"
        }
      ],
      "source": [
        "C=kmeans.cluster_centers_ # cluster center points C\n",
        "C"
      ]
    },
    {
      "cell_type": "code",
      "execution_count": null,
      "id": "046215be",
      "metadata": {
        "id": "046215be"
      },
      "outputs": [],
      "source": [
        "df=pd.DataFrame(C,columns=['latitude','longitude']) # convert center points into dataframe "
      ]
    },
    {
      "cell_type": "code",
      "execution_count": null,
      "id": "0b2aa197",
      "metadata": {
        "id": "0b2aa197",
        "outputId": "f2a8e323-0d1b-4885-c5bc-ab2e55deb680"
      },
      "outputs": [
        {
          "data": {
            "text/html": [
              "<div>\n",
              "<style scoped>\n",
              "    .dataframe tbody tr th:only-of-type {\n",
              "        vertical-align: middle;\n",
              "    }\n",
              "\n",
              "    .dataframe tbody tr th {\n",
              "        vertical-align: top;\n",
              "    }\n",
              "\n",
              "    .dataframe thead th {\n",
              "        text-align: right;\n",
              "    }\n",
              "</style>\n",
              "<table border=\"1\" class=\"dataframe\">\n",
              "  <thead>\n",
              "    <tr style=\"text-align: right;\">\n",
              "      <th></th>\n",
              "      <th>latitude</th>\n",
              "      <th>longitude</th>\n",
              "    </tr>\n",
              "  </thead>\n",
              "  <tbody>\n",
              "    <tr>\n",
              "      <th>0</th>\n",
              "      <td>50.833068</td>\n",
              "      <td>-1.082721</td>\n",
              "    </tr>\n",
              "    <tr>\n",
              "      <th>1</th>\n",
              "      <td>51.332977</td>\n",
              "      <td>-0.220201</td>\n",
              "    </tr>\n",
              "    <tr>\n",
              "      <th>2</th>\n",
              "      <td>51.283096</td>\n",
              "      <td>-0.713355</td>\n",
              "    </tr>\n",
              "    <tr>\n",
              "      <th>3</th>\n",
              "      <td>51.314250</td>\n",
              "      <td>0.472769</td>\n",
              "    </tr>\n",
              "    <tr>\n",
              "      <th>4</th>\n",
              "      <td>52.064269</td>\n",
              "      <td>-0.654059</td>\n",
              "    </tr>\n",
              "    <tr>\n",
              "      <th>5</th>\n",
              "      <td>51.255931</td>\n",
              "      <td>1.241663</td>\n",
              "    </tr>\n",
              "    <tr>\n",
              "      <th>6</th>\n",
              "      <td>51.803212</td>\n",
              "      <td>-1.317032</td>\n",
              "    </tr>\n",
              "    <tr>\n",
              "      <th>7</th>\n",
              "      <td>50.952065</td>\n",
              "      <td>-0.152059</td>\n",
              "    </tr>\n",
              "    <tr>\n",
              "      <th>8</th>\n",
              "      <td>50.913374</td>\n",
              "      <td>0.327061</td>\n",
              "    </tr>\n",
              "    <tr>\n",
              "      <th>9</th>\n",
              "      <td>50.908254</td>\n",
              "      <td>-1.390554</td>\n",
              "    </tr>\n",
              "    <tr>\n",
              "      <th>10</th>\n",
              "      <td>50.850156</td>\n",
              "      <td>-0.568415</td>\n",
              "    </tr>\n",
              "    <tr>\n",
              "      <th>11</th>\n",
              "      <td>51.654797</td>\n",
              "      <td>-0.745315</td>\n",
              "    </tr>\n",
              "    <tr>\n",
              "      <th>12</th>\n",
              "      <td>51.528549</td>\n",
              "      <td>-0.433111</td>\n",
              "    </tr>\n",
              "    <tr>\n",
              "      <th>13</th>\n",
              "      <td>51.204627</td>\n",
              "      <td>0.826213</td>\n",
              "    </tr>\n",
              "    <tr>\n",
              "      <th>14</th>\n",
              "      <td>51.379170</td>\n",
              "      <td>0.104101</td>\n",
              "    </tr>\n",
              "    <tr>\n",
              "      <th>15</th>\n",
              "      <td>51.391709</td>\n",
              "      <td>-1.089543</td>\n",
              "    </tr>\n",
              "  </tbody>\n",
              "</table>\n",
              "</div>"
            ],
            "text/plain": [
              "     latitude  longitude\n",
              "0   50.833068  -1.082721\n",
              "1   51.332977  -0.220201\n",
              "2   51.283096  -0.713355\n",
              "3   51.314250   0.472769\n",
              "4   52.064269  -0.654059\n",
              "5   51.255931   1.241663\n",
              "6   51.803212  -1.317032\n",
              "7   50.952065  -0.152059\n",
              "8   50.913374   0.327061\n",
              "9   50.908254  -1.390554\n",
              "10  50.850156  -0.568415\n",
              "11  51.654797  -0.745315\n",
              "12  51.528549  -0.433111\n",
              "13  51.204627   0.826213\n",
              "14  51.379170   0.104101\n",
              "15  51.391709  -1.089543"
            ]
          },
          "execution_count": 70,
          "metadata": {},
          "output_type": "execute_result"
        }
      ],
      "source": [
        "df"
      ]
    },
    {
      "cell_type": "code",
      "execution_count": null,
      "id": "6c2ef24f",
      "metadata": {
        "id": "6c2ef24f"
      },
      "outputs": [],
      "source": [
        "df.to_csv(\"D:/Dis/GIS model/check.csv\") # save the file in excel to visualize in gis software"
      ]
    },
    {
      "cell_type": "code",
      "execution_count": null,
      "id": "31728cd8",
      "metadata": {
        "id": "31728cd8"
      },
      "outputs": [],
      "source": [
        "# visualizaation"
      ]
    },
    {
      "cell_type": "code",
      "execution_count": null,
      "id": "c4ec692e",
      "metadata": {
        "id": "c4ec692e"
      },
      "outputs": [],
      "source": [
        "gdf = gpd.GeoDataFrame(\n",
        "    df, geometry=gpd.points_from_xy(df.longitude, df.latitude)) # convert center points into geodataframe"
      ]
    },
    {
      "cell_type": "code",
      "execution_count": null,
      "id": "4006bfdb",
      "metadata": {
        "id": "4006bfdb",
        "outputId": "70400268-c87e-4749-cfcc-ddd04957eb80"
      },
      "outputs": [
        {
          "data": {
            "text/plain": [
              "<AxesSubplot:>"
            ]
          },
          "execution_count": 73,
          "metadata": {},
          "output_type": "execute_result"
        },
        {
          "data": {
            "image/png": "[encoded data removed]",
            "text/plain": [
              "<Figure size 640x480 with 1 Axes>"
            ]
          },
          "metadata": {},
          "output_type": "display_data"
        }
      ],
      "source": [
        "gdf.plot()"
      ]
    },
    {
      "cell_type": "code",
      "execution_count": null,
      "id": "56c1af87",
      "metadata": {
        "id": "56c1af87"
      },
      "outputs": [],
      "source": [
        "#import existing hospitals locations"
      ]
    },
    {
      "cell_type": "code",
      "execution_count": null,
      "id": "f339c224",
      "metadata": {
        "id": "f339c224"
      },
      "outputs": [],
      "source": [
        "cdc=pd.read_csv(r'D:\\Dis\\GIS model\\cdc.csv')"
      ]
    },
    {
      "cell_type": "code",
      "execution_count": null,
      "id": "50546167",
      "metadata": {
        "id": "50546167"
      },
      "outputs": [],
      "source": [
        "gdf = gpd.GeoDataFrame(\n",
        "    cdc, geometry=gpd.points_from_xy(cdc.longitude, cdc.latitude)) # convert center points into geodataframe"
      ]
    },
    {
      "cell_type": "code",
      "execution_count": null,
      "id": "86b580d2",
      "metadata": {
        "id": "86b580d2",
        "outputId": "0c6c796a-40ee-4c57-94f8-954633f74d25"
      },
      "outputs": [
        {
          "data": {
            "text/plain": [
              "<AxesSubplot:>"
            ]
          },
          "execution_count": 76,
          "metadata": {},
          "output_type": "execute_result"
        },
        {
          "data": {
            "image/png": "[encoded data removed]",
            "text/plain": [
              "<Figure size 640x480 with 1 Axes>"
            ]
          },
          "metadata": {},
          "output_type": "display_data"
        }
      ],
      "source": [
        "gdf.plot()"
      ]
    },
    {
      "cell_type": "code",
      "execution_count": null,
      "id": "cb2efe2b",
      "metadata": {
        "id": "cb2efe2b"
      },
      "outputs": [],
      "source": []
    },
    {
      "cell_type": "code",
      "execution_count": null,
      "id": "ee8cbd70",
      "metadata": {
        "id": "ee8cbd70"
      },
      "outputs": [],
      "source": [
        "# It's better to visualize in GIS softwares"
      ]
    },
    {
      "cell_type": "code",
      "execution_count": null,
      "id": "2895ce33",
      "metadata": {
        "id": "2895ce33"
      },
      "outputs": [],
      "source": []
    },
    {
      "cell_type": "code",
      "execution_count": null,
      "id": "b17712f2",
      "metadata": {
        "id": "b17712f2"
      },
      "outputs": [],
      "source": []
    },
    {
      "cell_type": "code",
      "execution_count": null,
      "id": "811852df",
      "metadata": {
        "id": "811852df"
      },
      "outputs": [],
      "source": []
    },
    {
      "cell_type": "code",
      "execution_count": null,
      "id": "3c05c156",
      "metadata": {
        "id": "3c05c156"
      },
      "outputs": [],
      "source": [
        "###### ignor these parts"
      ]
    },
    {
      "cell_type": "code",
      "execution_count": null,
      "id": "2f39697e",
      "metadata": {
        "id": "2f39697e"
      },
      "outputs": [],
      "source": []
    },
    {
      "cell_type": "code",
      "execution_count": null,
      "id": "c3b21cba",
      "metadata": {
        "id": "c3b21cba"
      },
      "outputs": [],
      "source": []
    },
    {
      "cell_type": "code",
      "execution_count": null,
      "id": "79ca8882",
      "metadata": {
        "id": "79ca8882"
      },
      "outputs": [],
      "source": []
    },
    {
      "cell_type": "code",
      "execution_count": null,
      "id": "a9f1bf76",
      "metadata": {
        "id": "a9f1bf76"
      },
      "outputs": [],
      "source": []
    },
    {
      "cell_type": "code",
      "execution_count": null,
      "id": "9b156956",
      "metadata": {
        "id": "9b156956"
      },
      "outputs": [],
      "source": []
    },
    {
      "cell_type": "code",
      "execution_count": null,
      "id": "722e894b",
      "metadata": {
        "id": "722e894b"
      },
      "outputs": [],
      "source": []
    },
    {
      "cell_type": "code",
      "execution_count": null,
      "id": "df45e9b0",
      "metadata": {
        "id": "df45e9b0"
      },
      "outputs": [],
      "source": []
    },
    {
      "cell_type": "code",
      "execution_count": null,
      "id": "4e35635b",
      "metadata": {
        "id": "4e35635b"
      },
      "outputs": [],
      "source": []
    },
    {
      "cell_type": "code",
      "execution_count": null,
      "id": "244b65ff",
      "metadata": {
        "id": "244b65ff"
      },
      "outputs": [],
      "source": []
    },
    {
      "cell_type": "code",
      "execution_count": null,
      "id": "5d5b8569",
      "metadata": {
        "id": "5d5b8569"
      },
      "outputs": [],
      "source": []
    },
    {
      "cell_type": "code",
      "execution_count": null,
      "id": "10df2ea1",
      "metadata": {
        "id": "10df2ea1"
      },
      "outputs": [],
      "source": []
    },
    {
      "cell_type": "code",
      "execution_count": null,
      "id": "4255ba84",
      "metadata": {
        "id": "4255ba84"
      },
      "outputs": [],
      "source": []
    },
    {
      "cell_type": "code",
      "execution_count": null,
      "id": "600afe1e",
      "metadata": {
        "id": "600afe1e"
      },
      "outputs": [],
      "source": []
    },
    {
      "cell_type": "code",
      "execution_count": null,
      "id": "e7ed3346",
      "metadata": {
        "id": "e7ed3346"
      },
      "outputs": [],
      "source": [
        "sub=pd.read_csv('D:/Dis/GIS model/CDC location extract.csv')\n",
        "subset_list=sub['_address'].values"
      ]
    },
    {
      "cell_type": "code",
      "execution_count": null,
      "id": "7bc3fea1",
      "metadata": {
        "id": "7bc3fea1",
        "outputId": "bfcc3058-51e7-4fe5-b2c4-040237fc8966"
      },
      "outputs": [
        {
          "data": {
            "text/html": [
              "<div>\n",
              "<style scoped>\n",
              "    .dataframe tbody tr th:only-of-type {\n",
              "        vertical-align: middle;\n",
              "    }\n",
              "\n",
              "    .dataframe tbody tr th {\n",
              "        vertical-align: top;\n",
              "    }\n",
              "\n",
              "    .dataframe thead th {\n",
              "        text-align: right;\n",
              "    }\n",
              "</style>\n",
              "<table border=\"1\" class=\"dataframe\">\n",
              "  <thead>\n",
              "    <tr style=\"text-align: right;\">\n",
              "      <th></th>\n",
              "      <th>Sites</th>\n",
              "      <th>Run_By</th>\n",
              "      <th>Type</th>\n",
              "      <th>_address</th>\n",
              "    </tr>\n",
              "  </thead>\n",
              "  <tbody>\n",
              "    <tr>\n",
              "      <th>0</th>\n",
              "      <td>Buckland Hospital, Dover</td>\n",
              "      <td>East Kent University Hospitals</td>\n",
              "      <td>Large excl endoscopy</td>\n",
              "      <td>CT17 0HD</td>\n",
              "    </tr>\n",
              "    <tr>\n",
              "      <th>1</th>\n",
              "      <td>West Kent Early Adopter Site</td>\n",
              "      <td>MTW</td>\n",
              "      <td>Large excl endoscopy</td>\n",
              "      <td>ME16 9NT</td>\n",
              "    </tr>\n",
              "    <tr>\n",
              "      <th>2</th>\n",
              "      <td>Bexhill Hospital, Bexhill</td>\n",
              "      <td>East Sussex NHS Trust</td>\n",
              "      <td>Large excl endoscopy</td>\n",
              "      <td>TN40 2DZ</td>\n",
              "    </tr>\n",
              "    <tr>\n",
              "      <th>3</th>\n",
              "      <td>Queen Victoria Hospital</td>\n",
              "      <td>East Sussex NHS Trust</td>\n",
              "      <td>Large excl endoscopy</td>\n",
              "      <td>RH19 3DZ</td>\n",
              "    </tr>\n",
              "    <tr>\n",
              "      <th>4</th>\n",
              "      <td>Falmer Community Stadium, Brighton</td>\n",
              "      <td>Sussex MSK Partnership</td>\n",
              "      <td>Large excl endoscopy</td>\n",
              "      <td>BN1 9SG</td>\n",
              "    </tr>\n",
              "    <tr>\n",
              "      <th>5</th>\n",
              "      <td>Southlands Hospital, Shoreham with Spoke at Bo...</td>\n",
              "      <td>University Hospitals Sussex</td>\n",
              "      <td>Standard with spoke</td>\n",
              "      <td>BN43 6TQ</td>\n",
              "    </tr>\n",
              "    <tr>\n",
              "      <th>6</th>\n",
              "      <td>St Mary’s Community Hospital Campus, Portsmouth</td>\n",
              "      <td>Portsmouth Hospitals NHS Trust</td>\n",
              "      <td>Large with endoscopy</td>\n",
              "      <td>PO3 6AD</td>\n",
              "    </tr>\n",
              "    <tr>\n",
              "      <th>7</th>\n",
              "      <td>Lymington New Forest Hospital</td>\n",
              "      <td>Southern Heath NHS FT</td>\n",
              "      <td>Large with Endoscopy</td>\n",
              "      <td>SO41 8QD</td>\n",
              "    </tr>\n",
              "    <tr>\n",
              "      <th>8</th>\n",
              "      <td>Aldershot Centre for Health</td>\n",
              "      <td>Frimley Health NHS FT</td>\n",
              "      <td>Permanent CT scanning</td>\n",
              "      <td>GU11 1AY</td>\n",
              "    </tr>\n",
              "    <tr>\n",
              "      <th>9</th>\n",
              "      <td>St Marks Hospital Maidenhead</td>\n",
              "      <td>Frimley Health NHS FT</td>\n",
              "      <td>NOUS</td>\n",
              "      <td>SL6 6DU</td>\n",
              "    </tr>\n",
              "    <tr>\n",
              "      <th>10</th>\n",
              "      <td>Slough - King Edward V11 Hospital</td>\n",
              "      <td>Berkshire Healthcare NHS FT</td>\n",
              "      <td>Echocardiography service</td>\n",
              "      <td>SL4 3DP</td>\n",
              "    </tr>\n",
              "    <tr>\n",
              "      <th>11</th>\n",
              "      <td>Slough - Wexham Park Hospital</td>\n",
              "      <td>Frimley Health NHS FT</td>\n",
              "      <td>Wexham Park Hospital MRI scanning and endoscop...</td>\n",
              "      <td>SL2 4HL</td>\n",
              "    </tr>\n",
              "    <tr>\n",
              "      <th>12</th>\n",
              "      <td>Amersham Hospital</td>\n",
              "      <td>Buckinghamshire Health NHS FT</td>\n",
              "      <td>Standard</td>\n",
              "      <td>HP7 0JD</td>\n",
              "    </tr>\n",
              "    <tr>\n",
              "      <th>13</th>\n",
              "      <td>West Berkshire Community Hospital</td>\n",
              "      <td>Berkshire Healthcare NHS FT</td>\n",
              "      <td>Large - incl endoscopy</td>\n",
              "      <td>RG18 3AS</td>\n",
              "    </tr>\n",
              "    <tr>\n",
              "      <th>14</th>\n",
              "      <td>Milford Community Hospital - Guildford &amp; Waverley</td>\n",
              "      <td>Royal Surrey NHS FT</td>\n",
              "      <td>Large - excl endoscopy</td>\n",
              "      <td>GU7 1UG</td>\n",
              "    </tr>\n",
              "    <tr>\n",
              "      <th>15</th>\n",
              "      <td>Woking Community Hospital</td>\n",
              "      <td>CSH Surrey</td>\n",
              "      <td>Audiology and Ophthalmology Sensory Centre</td>\n",
              "      <td>GU22 7HS</td>\n",
              "    </tr>\n",
              "  </tbody>\n",
              "</table>\n",
              "</div>"
            ],
            "text/plain": [
              "                                                Sites  \\\n",
              "0                            Buckland Hospital, Dover   \n",
              "1                        West Kent Early Adopter Site   \n",
              "2                           Bexhill Hospital, Bexhill   \n",
              "3                             Queen Victoria Hospital   \n",
              "4                  Falmer Community Stadium, Brighton   \n",
              "5   Southlands Hospital, Shoreham with Spoke at Bo...   \n",
              "6    St Mary’s Community Hospital Campus, Portsmouth    \n",
              "7                       Lymington New Forest Hospital   \n",
              "8                         Aldershot Centre for Health   \n",
              "9                        St Marks Hospital Maidenhead   \n",
              "10                  Slough - King Edward V11 Hospital   \n",
              "11                      Slough - Wexham Park Hospital   \n",
              "12                                  Amersham Hospital   \n",
              "13                  West Berkshire Community Hospital   \n",
              "14  Milford Community Hospital - Guildford & Waverley   \n",
              "15                          Woking Community Hospital   \n",
              "\n",
              "                            Run_By  \\\n",
              "0   East Kent University Hospitals   \n",
              "1                              MTW   \n",
              "2            East Sussex NHS Trust   \n",
              "3            East Sussex NHS Trust   \n",
              "4           Sussex MSK Partnership   \n",
              "5      University Hospitals Sussex   \n",
              "6   Portsmouth Hospitals NHS Trust   \n",
              "7            Southern Heath NHS FT   \n",
              "8            Frimley Health NHS FT   \n",
              "9            Frimley Health NHS FT   \n",
              "10     Berkshire Healthcare NHS FT   \n",
              "11           Frimley Health NHS FT   \n",
              "12   Buckinghamshire Health NHS FT   \n",
              "13     Berkshire Healthcare NHS FT   \n",
              "14             Royal Surrey NHS FT   \n",
              "15                      CSH Surrey   \n",
              "\n",
              "                                                 Type  _address  \n",
              "0                                Large excl endoscopy  CT17 0HD  \n",
              "1                                Large excl endoscopy  ME16 9NT  \n",
              "2                                Large excl endoscopy  TN40 2DZ  \n",
              "3                                Large excl endoscopy  RH19 3DZ  \n",
              "4                                Large excl endoscopy   BN1 9SG  \n",
              "5                                 Standard with spoke  BN43 6TQ  \n",
              "6                                Large with endoscopy   PO3 6AD  \n",
              "7                                Large with Endoscopy  SO41 8QD  \n",
              "8                               Permanent CT scanning  GU11 1AY  \n",
              "9                                                NOUS   SL6 6DU  \n",
              "10                           Echocardiography service   SL4 3DP  \n",
              "11  Wexham Park Hospital MRI scanning and endoscop...   SL2 4HL  \n",
              "12                                           Standard   HP7 0JD  \n",
              "13                             Large - incl endoscopy  RG18 3AS  \n",
              "14                             Large - excl endoscopy   GU7 1UG  \n",
              "15         Audiology and Ophthalmology Sensory Centre  GU22 7HS  "
            ]
          },
          "execution_count": 5,
          "metadata": {},
          "output_type": "execute_result"
        }
      ],
      "source": [
        "sub"
      ]
    },
    {
      "cell_type": "code",
      "execution_count": null,
      "id": "76eff9ec",
      "metadata": {
        "id": "76eff9ec",
        "outputId": "3f237e37-9bc9-42bd-f69c-26af46894d35"
      },
      "outputs": [
        {
          "data": {
            "text/plain": [
              "array(['CT17 0HD', 'ME16 9NT', 'TN40 2DZ', 'RH19 3DZ', 'BN1 9SG',\n",
              "       'BN43 6TQ', 'PO3 6AD', 'SO41 8QD', 'GU11 1AY', 'SL6 6DU',\n",
              "       'SL4 3DP', 'SL2 4HL', 'HP7 0JD', 'RG18 3AS', 'GU7 1UG', 'GU22 7HS'],\n",
              "      dtype=object)"
            ]
          },
          "execution_count": 6,
          "metadata": {},
          "output_type": "execute_result"
        }
      ],
      "source": [
        "subset_list"
      ]
    },
    {
      "cell_type": "code",
      "execution_count": null,
      "id": "062fc1f8",
      "metadata": {
        "id": "062fc1f8"
      },
      "outputs": [],
      "source": [
        "subset=postcodes[postcodes['postcode'].isin(subset_list)]"
      ]
    },
    {
      "cell_type": "code",
      "execution_count": null,
      "id": "288112fa",
      "metadata": {
        "id": "288112fa",
        "outputId": "0318dcd2-f420-437f-c1a4-19b087c9225b"
      },
      "outputs": [
        {
          "data": {
            "text/html": [
              "<div>\n",
              "<style scoped>\n",
              "    .dataframe tbody tr th:only-of-type {\n",
              "        vertical-align: middle;\n",
              "    }\n",
              "\n",
              "    .dataframe tbody tr th {\n",
              "        vertical-align: top;\n",
              "    }\n",
              "\n",
              "    .dataframe thead th {\n",
              "        text-align: right;\n",
              "    }\n",
              "</style>\n",
              "<table border=\"1\" class=\"dataframe\">\n",
              "  <thead>\n",
              "    <tr style=\"text-align: right;\">\n",
              "      <th></th>\n",
              "      <th>id</th>\n",
              "      <th>postcode</th>\n",
              "      <th>latitude</th>\n",
              "      <th>longitude</th>\n",
              "    </tr>\n",
              "  </thead>\n",
              "  <tbody>\n",
              "    <tr>\n",
              "      <th>165874</th>\n",
              "      <td>179321</td>\n",
              "      <td>TN40 2DZ</td>\n",
              "      <td>50.850706</td>\n",
              "      <td>0.475497</td>\n",
              "    </tr>\n",
              "    <tr>\n",
              "      <th>284238</th>\n",
              "      <td>306384</td>\n",
              "      <td>SO41 8QD</td>\n",
              "      <td>50.769099</td>\n",
              "      <td>-1.545476</td>\n",
              "    </tr>\n",
              "    <tr>\n",
              "      <th>316676</th>\n",
              "      <td>341330</td>\n",
              "      <td>SL6 6DU</td>\n",
              "      <td>51.524779</td>\n",
              "      <td>-0.744890</td>\n",
              "    </tr>\n",
              "    <tr>\n",
              "      <th>319644</th>\n",
              "      <td>344611</td>\n",
              "      <td>SL4 3DP</td>\n",
              "      <td>51.473543</td>\n",
              "      <td>-0.614707</td>\n",
              "    </tr>\n",
              "    <tr>\n",
              "      <th>321457</th>\n",
              "      <td>346568</td>\n",
              "      <td>SL2 4HL</td>\n",
              "      <td>51.532007</td>\n",
              "      <td>-0.573992</td>\n",
              "    </tr>\n",
              "    <tr>\n",
              "      <th>435816</th>\n",
              "      <td>469077</td>\n",
              "      <td>RH19 3DZ</td>\n",
              "      <td>51.135114</td>\n",
              "      <td>-0.002900</td>\n",
              "    </tr>\n",
              "    <tr>\n",
              "      <th>462262</th>\n",
              "      <td>498002</td>\n",
              "      <td>RG18 3AS</td>\n",
              "      <td>51.406375</td>\n",
              "      <td>-1.291779</td>\n",
              "    </tr>\n",
              "    <tr>\n",
              "      <th>488896</th>\n",
              "      <td>526513</td>\n",
              "      <td>PO3 6AD</td>\n",
              "      <td>50.800122</td>\n",
              "      <td>-1.063932</td>\n",
              "    </tr>\n",
              "    <tr>\n",
              "      <th>753231</th>\n",
              "      <td>808477</td>\n",
              "      <td>ME16 9NT</td>\n",
              "      <td>51.278267</td>\n",
              "      <td>0.478818</td>\n",
              "    </tr>\n",
              "    <tr>\n",
              "      <th>986629</th>\n",
              "      <td>1055981</td>\n",
              "      <td>HP7 0JD</td>\n",
              "      <td>51.663005</td>\n",
              "      <td>-0.621408</td>\n",
              "    </tr>\n",
              "    <tr>\n",
              "      <th>1020793</th>\n",
              "      <td>1093298</td>\n",
              "      <td>GU7 1UG</td>\n",
              "      <td>51.167749</td>\n",
              "      <td>-0.623702</td>\n",
              "    </tr>\n",
              "    <tr>\n",
              "      <th>1030793</th>\n",
              "      <td>1104122</td>\n",
              "      <td>GU22 7HS</td>\n",
              "      <td>51.315132</td>\n",
              "      <td>-0.556304</td>\n",
              "    </tr>\n",
              "    <tr>\n",
              "      <th>1037254</th>\n",
              "      <td>1111173</td>\n",
              "      <td>GU11 1AY</td>\n",
              "      <td>51.254364</td>\n",
              "      <td>-0.765650</td>\n",
              "    </tr>\n",
              "    <tr>\n",
              "      <th>1304709</th>\n",
              "      <td>1395760</td>\n",
              "      <td>CT17 0HD</td>\n",
              "      <td>51.132061</td>\n",
              "      <td>1.292413</td>\n",
              "    </tr>\n",
              "    <tr>\n",
              "      <th>1441634</th>\n",
              "      <td>1542098</td>\n",
              "      <td>BN43 6TQ</td>\n",
              "      <td>50.840752</td>\n",
              "      <td>-0.256119</td>\n",
              "    </tr>\n",
              "    <tr>\n",
              "      <th>1457292</th>\n",
              "      <td>1558863</td>\n",
              "      <td>BN1 9SG</td>\n",
              "      <td>50.859137</td>\n",
              "      <td>-0.089625</td>\n",
              "    </tr>\n",
              "  </tbody>\n",
              "</table>\n",
              "</div>"
            ],
            "text/plain": [
              "              id  postcode   latitude  longitude\n",
              "165874    179321  TN40 2DZ  50.850706   0.475497\n",
              "284238    306384  SO41 8QD  50.769099  -1.545476\n",
              "316676    341330   SL6 6DU  51.524779  -0.744890\n",
              "319644    344611   SL4 3DP  51.473543  -0.614707\n",
              "321457    346568   SL2 4HL  51.532007  -0.573992\n",
              "435816    469077  RH19 3DZ  51.135114  -0.002900\n",
              "462262    498002  RG18 3AS  51.406375  -1.291779\n",
              "488896    526513   PO3 6AD  50.800122  -1.063932\n",
              "753231    808477  ME16 9NT  51.278267   0.478818\n",
              "986629   1055981   HP7 0JD  51.663005  -0.621408\n",
              "1020793  1093298   GU7 1UG  51.167749  -0.623702\n",
              "1030793  1104122  GU22 7HS  51.315132  -0.556304\n",
              "1037254  1111173  GU11 1AY  51.254364  -0.765650\n",
              "1304709  1395760  CT17 0HD  51.132061   1.292413\n",
              "1441634  1542098  BN43 6TQ  50.840752  -0.256119\n",
              "1457292  1558863   BN1 9SG  50.859137  -0.089625"
            ]
          },
          "execution_count": 8,
          "metadata": {},
          "output_type": "execute_result"
        }
      ],
      "source": [
        "subset"
      ]
    },
    {
      "cell_type": "code",
      "execution_count": null,
      "id": "a1543f7d",
      "metadata": {
        "id": "a1543f7d",
        "outputId": "0e451abb-f4bb-4053-8345-31572845e8dd"
      },
      "outputs": [
        {
          "name": "stderr",
          "output_type": "stream",
          "text": [
            "C:\\Users\\didar\\AppData\\Local\\Temp\\ipykernel_13132\\3377798882.py:2: SettingWithCopyWarning: \n",
            "A value is trying to be set on a copy of a slice from a DataFrame.\n",
            "Try using .loc[row_indexer,col_indexer] = value instead\n",
            "\n",
            "See the caveats in the documentation: https://pandas.pydata.org/pandas-docs/stable/user_guide/indexing.html#returning-a-view-versus-a-copy\n",
            "  subset['postcode']=subset['postcode'].astype(str)\n"
          ]
        }
      ],
      "source": [
        "sub['_address']=sub['_address'].astype(str)\n",
        "subset['postcode']=subset['postcode'].astype(str)"
      ]
    },
    {
      "cell_type": "code",
      "execution_count": null,
      "id": "8e90fe18",
      "metadata": {
        "id": "8e90fe18",
        "outputId": "8f708fa8-c683-448c-bf45-a0a367860637"
      },
      "outputs": [
        {
          "data": {
            "text/html": [
              "<div>\n",
              "<style scoped>\n",
              "    .dataframe tbody tr th:only-of-type {\n",
              "        vertical-align: middle;\n",
              "    }\n",
              "\n",
              "    .dataframe tbody tr th {\n",
              "        vertical-align: top;\n",
              "    }\n",
              "\n",
              "    .dataframe thead th {\n",
              "        text-align: right;\n",
              "    }\n",
              "</style>\n",
              "<table border=\"1\" class=\"dataframe\">\n",
              "  <thead>\n",
              "    <tr style=\"text-align: right;\">\n",
              "      <th></th>\n",
              "      <th>id</th>\n",
              "      <th>postcode</th>\n",
              "      <th>latitude</th>\n",
              "      <th>longitude</th>\n",
              "    </tr>\n",
              "  </thead>\n",
              "  <tbody>\n",
              "    <tr>\n",
              "      <th>165874</th>\n",
              "      <td>179321</td>\n",
              "      <td>TN40 2DZ</td>\n",
              "      <td>50.850706</td>\n",
              "      <td>0.475497</td>\n",
              "    </tr>\n",
              "    <tr>\n",
              "      <th>284238</th>\n",
              "      <td>306384</td>\n",
              "      <td>SO41 8QD</td>\n",
              "      <td>50.769099</td>\n",
              "      <td>-1.545476</td>\n",
              "    </tr>\n",
              "    <tr>\n",
              "      <th>316676</th>\n",
              "      <td>341330</td>\n",
              "      <td>SL6 6DU</td>\n",
              "      <td>51.524779</td>\n",
              "      <td>-0.744890</td>\n",
              "    </tr>\n",
              "    <tr>\n",
              "      <th>319644</th>\n",
              "      <td>344611</td>\n",
              "      <td>SL4 3DP</td>\n",
              "      <td>51.473543</td>\n",
              "      <td>-0.614707</td>\n",
              "    </tr>\n",
              "    <tr>\n",
              "      <th>321457</th>\n",
              "      <td>346568</td>\n",
              "      <td>SL2 4HL</td>\n",
              "      <td>51.532007</td>\n",
              "      <td>-0.573992</td>\n",
              "    </tr>\n",
              "    <tr>\n",
              "      <th>435816</th>\n",
              "      <td>469077</td>\n",
              "      <td>RH19 3DZ</td>\n",
              "      <td>51.135114</td>\n",
              "      <td>-0.002900</td>\n",
              "    </tr>\n",
              "    <tr>\n",
              "      <th>462262</th>\n",
              "      <td>498002</td>\n",
              "      <td>RG18 3AS</td>\n",
              "      <td>51.406375</td>\n",
              "      <td>-1.291779</td>\n",
              "    </tr>\n",
              "    <tr>\n",
              "      <th>488896</th>\n",
              "      <td>526513</td>\n",
              "      <td>PO3 6AD</td>\n",
              "      <td>50.800122</td>\n",
              "      <td>-1.063932</td>\n",
              "    </tr>\n",
              "    <tr>\n",
              "      <th>753231</th>\n",
              "      <td>808477</td>\n",
              "      <td>ME16 9NT</td>\n",
              "      <td>51.278267</td>\n",
              "      <td>0.478818</td>\n",
              "    </tr>\n",
              "    <tr>\n",
              "      <th>986629</th>\n",
              "      <td>1055981</td>\n",
              "      <td>HP7 0JD</td>\n",
              "      <td>51.663005</td>\n",
              "      <td>-0.621408</td>\n",
              "    </tr>\n",
              "    <tr>\n",
              "      <th>1020793</th>\n",
              "      <td>1093298</td>\n",
              "      <td>GU7 1UG</td>\n",
              "      <td>51.167749</td>\n",
              "      <td>-0.623702</td>\n",
              "    </tr>\n",
              "    <tr>\n",
              "      <th>1030793</th>\n",
              "      <td>1104122</td>\n",
              "      <td>GU22 7HS</td>\n",
              "      <td>51.315132</td>\n",
              "      <td>-0.556304</td>\n",
              "    </tr>\n",
              "    <tr>\n",
              "      <th>1037254</th>\n",
              "      <td>1111173</td>\n",
              "      <td>GU11 1AY</td>\n",
              "      <td>51.254364</td>\n",
              "      <td>-0.765650</td>\n",
              "    </tr>\n",
              "    <tr>\n",
              "      <th>1304709</th>\n",
              "      <td>1395760</td>\n",
              "      <td>CT17 0HD</td>\n",
              "      <td>51.132061</td>\n",
              "      <td>1.292413</td>\n",
              "    </tr>\n",
              "    <tr>\n",
              "      <th>1441634</th>\n",
              "      <td>1542098</td>\n",
              "      <td>BN43 6TQ</td>\n",
              "      <td>50.840752</td>\n",
              "      <td>-0.256119</td>\n",
              "    </tr>\n",
              "    <tr>\n",
              "      <th>1457292</th>\n",
              "      <td>1558863</td>\n",
              "      <td>BN1 9SG</td>\n",
              "      <td>50.859137</td>\n",
              "      <td>-0.089625</td>\n",
              "    </tr>\n",
              "  </tbody>\n",
              "</table>\n",
              "</div>"
            ],
            "text/plain": [
              "              id  postcode   latitude  longitude\n",
              "165874    179321  TN40 2DZ  50.850706   0.475497\n",
              "284238    306384  SO41 8QD  50.769099  -1.545476\n",
              "316676    341330   SL6 6DU  51.524779  -0.744890\n",
              "319644    344611   SL4 3DP  51.473543  -0.614707\n",
              "321457    346568   SL2 4HL  51.532007  -0.573992\n",
              "435816    469077  RH19 3DZ  51.135114  -0.002900\n",
              "462262    498002  RG18 3AS  51.406375  -1.291779\n",
              "488896    526513   PO3 6AD  50.800122  -1.063932\n",
              "753231    808477  ME16 9NT  51.278267   0.478818\n",
              "986629   1055981   HP7 0JD  51.663005  -0.621408\n",
              "1020793  1093298   GU7 1UG  51.167749  -0.623702\n",
              "1030793  1104122  GU22 7HS  51.315132  -0.556304\n",
              "1037254  1111173  GU11 1AY  51.254364  -0.765650\n",
              "1304709  1395760  CT17 0HD  51.132061   1.292413\n",
              "1441634  1542098  BN43 6TQ  50.840752  -0.256119\n",
              "1457292  1558863   BN1 9SG  50.859137  -0.089625"
            ]
          },
          "execution_count": 22,
          "metadata": {},
          "output_type": "execute_result"
        }
      ],
      "source": [
        "subset"
      ]
    },
    {
      "cell_type": "code",
      "execution_count": null,
      "id": "636a99a4",
      "metadata": {
        "id": "636a99a4"
      },
      "outputs": [],
      "source": [
        "df = pd.merge(sub, subset,  how='left', left_on=['_address'], right_on = ['postcode'])"
      ]
    },
    {
      "cell_type": "code",
      "execution_count": null,
      "id": "90811d1f",
      "metadata": {
        "id": "90811d1f",
        "outputId": "455e0ea7-ea46-46ea-ba4e-c8123b4c0406"
      },
      "outputs": [
        {
          "data": {
            "text/html": [
              "<div>\n",
              "<style scoped>\n",
              "    .dataframe tbody tr th:only-of-type {\n",
              "        vertical-align: middle;\n",
              "    }\n",
              "\n",
              "    .dataframe tbody tr th {\n",
              "        vertical-align: top;\n",
              "    }\n",
              "\n",
              "    .dataframe thead th {\n",
              "        text-align: right;\n",
              "    }\n",
              "</style>\n",
              "<table border=\"1\" class=\"dataframe\">\n",
              "  <thead>\n",
              "    <tr style=\"text-align: right;\">\n",
              "      <th></th>\n",
              "      <th>Sites</th>\n",
              "      <th>Run_By</th>\n",
              "      <th>Type</th>\n",
              "      <th>_address</th>\n",
              "      <th>id</th>\n",
              "      <th>postcode</th>\n",
              "      <th>latitude</th>\n",
              "      <th>longitude</th>\n",
              "    </tr>\n",
              "  </thead>\n",
              "  <tbody>\n",
              "    <tr>\n",
              "      <th>0</th>\n",
              "      <td>Buckland Hospital, Dover</td>\n",
              "      <td>East Kent University Hospitals</td>\n",
              "      <td>Large excl endoscopy</td>\n",
              "      <td>CT17 0HD</td>\n",
              "      <td>1395760</td>\n",
              "      <td>CT17 0HD</td>\n",
              "      <td>51.132061</td>\n",
              "      <td>1.292413</td>\n",
              "    </tr>\n",
              "    <tr>\n",
              "      <th>1</th>\n",
              "      <td>West Kent Early Adopter Site</td>\n",
              "      <td>MTW</td>\n",
              "      <td>Large excl endoscopy</td>\n",
              "      <td>ME16 9NT</td>\n",
              "      <td>808477</td>\n",
              "      <td>ME16 9NT</td>\n",
              "      <td>51.278267</td>\n",
              "      <td>0.478818</td>\n",
              "    </tr>\n",
              "    <tr>\n",
              "      <th>2</th>\n",
              "      <td>Bexhill Hospital, Bexhill</td>\n",
              "      <td>East Sussex NHS Trust</td>\n",
              "      <td>Large excl endoscopy</td>\n",
              "      <td>TN40 2DZ</td>\n",
              "      <td>179321</td>\n",
              "      <td>TN40 2DZ</td>\n",
              "      <td>50.850706</td>\n",
              "      <td>0.475497</td>\n",
              "    </tr>\n",
              "    <tr>\n",
              "      <th>3</th>\n",
              "      <td>Queen Victoria Hospital</td>\n",
              "      <td>East Sussex NHS Trust</td>\n",
              "      <td>Large excl endoscopy</td>\n",
              "      <td>RH19 3DZ</td>\n",
              "      <td>469077</td>\n",
              "      <td>RH19 3DZ</td>\n",
              "      <td>51.135114</td>\n",
              "      <td>-0.002900</td>\n",
              "    </tr>\n",
              "    <tr>\n",
              "      <th>4</th>\n",
              "      <td>Falmer Community Stadium, Brighton</td>\n",
              "      <td>Sussex MSK Partnership</td>\n",
              "      <td>Large excl endoscopy</td>\n",
              "      <td>BN1 9SG</td>\n",
              "      <td>1558863</td>\n",
              "      <td>BN1 9SG</td>\n",
              "      <td>50.859137</td>\n",
              "      <td>-0.089625</td>\n",
              "    </tr>\n",
              "    <tr>\n",
              "      <th>5</th>\n",
              "      <td>Southlands Hospital, Shoreham with Spoke at Bo...</td>\n",
              "      <td>University Hospitals Sussex</td>\n",
              "      <td>Standard with spoke</td>\n",
              "      <td>BN43 6TQ</td>\n",
              "      <td>1542098</td>\n",
              "      <td>BN43 6TQ</td>\n",
              "      <td>50.840752</td>\n",
              "      <td>-0.256119</td>\n",
              "    </tr>\n",
              "    <tr>\n",
              "      <th>6</th>\n",
              "      <td>St Mary’s Community Hospital Campus, Portsmouth</td>\n",
              "      <td>Portsmouth Hospitals NHS Trust</td>\n",
              "      <td>Large with endoscopy</td>\n",
              "      <td>PO3 6AD</td>\n",
              "      <td>526513</td>\n",
              "      <td>PO3 6AD</td>\n",
              "      <td>50.800122</td>\n",
              "      <td>-1.063932</td>\n",
              "    </tr>\n",
              "    <tr>\n",
              "      <th>7</th>\n",
              "      <td>Lymington New Forest Hospital</td>\n",
              "      <td>Southern Heath NHS FT</td>\n",
              "      <td>Large with Endoscopy</td>\n",
              "      <td>SO41 8QD</td>\n",
              "      <td>306384</td>\n",
              "      <td>SO41 8QD</td>\n",
              "      <td>50.769099</td>\n",
              "      <td>-1.545476</td>\n",
              "    </tr>\n",
              "    <tr>\n",
              "      <th>8</th>\n",
              "      <td>Aldershot Centre for Health</td>\n",
              "      <td>Frimley Health NHS FT</td>\n",
              "      <td>Permanent CT scanning</td>\n",
              "      <td>GU11 1AY</td>\n",
              "      <td>1111173</td>\n",
              "      <td>GU11 1AY</td>\n",
              "      <td>51.254364</td>\n",
              "      <td>-0.765650</td>\n",
              "    </tr>\n",
              "    <tr>\n",
              "      <th>9</th>\n",
              "      <td>St Marks Hospital Maidenhead</td>\n",
              "      <td>Frimley Health NHS FT</td>\n",
              "      <td>NOUS</td>\n",
              "      <td>SL6 6DU</td>\n",
              "      <td>341330</td>\n",
              "      <td>SL6 6DU</td>\n",
              "      <td>51.524779</td>\n",
              "      <td>-0.744890</td>\n",
              "    </tr>\n",
              "    <tr>\n",
              "      <th>10</th>\n",
              "      <td>Slough - King Edward V11 Hospital</td>\n",
              "      <td>Berkshire Healthcare NHS FT</td>\n",
              "      <td>Echocardiography service</td>\n",
              "      <td>SL4 3DP</td>\n",
              "      <td>344611</td>\n",
              "      <td>SL4 3DP</td>\n",
              "      <td>51.473543</td>\n",
              "      <td>-0.614707</td>\n",
              "    </tr>\n",
              "    <tr>\n",
              "      <th>11</th>\n",
              "      <td>Slough - Wexham Park Hospital</td>\n",
              "      <td>Frimley Health NHS FT</td>\n",
              "      <td>Wexham Park Hospital MRI scanning and endoscop...</td>\n",
              "      <td>SL2 4HL</td>\n",
              "      <td>346568</td>\n",
              "      <td>SL2 4HL</td>\n",
              "      <td>51.532007</td>\n",
              "      <td>-0.573992</td>\n",
              "    </tr>\n",
              "    <tr>\n",
              "      <th>12</th>\n",
              "      <td>Amersham Hospital</td>\n",
              "      <td>Buckinghamshire Health NHS FT</td>\n",
              "      <td>Standard</td>\n",
              "      <td>HP7 0JD</td>\n",
              "      <td>1055981</td>\n",
              "      <td>HP7 0JD</td>\n",
              "      <td>51.663005</td>\n",
              "      <td>-0.621408</td>\n",
              "    </tr>\n",
              "    <tr>\n",
              "      <th>13</th>\n",
              "      <td>West Berkshire Community Hospital</td>\n",
              "      <td>Berkshire Healthcare NHS FT</td>\n",
              "      <td>Large - incl endoscopy</td>\n",
              "      <td>RG18 3AS</td>\n",
              "      <td>498002</td>\n",
              "      <td>RG18 3AS</td>\n",
              "      <td>51.406375</td>\n",
              "      <td>-1.291779</td>\n",
              "    </tr>\n",
              "    <tr>\n",
              "      <th>14</th>\n",
              "      <td>Milford Community Hospital - Guildford &amp; Waverley</td>\n",
              "      <td>Royal Surrey NHS FT</td>\n",
              "      <td>Large - excl endoscopy</td>\n",
              "      <td>GU7 1UG</td>\n",
              "      <td>1093298</td>\n",
              "      <td>GU7 1UG</td>\n",
              "      <td>51.167749</td>\n",
              "      <td>-0.623702</td>\n",
              "    </tr>\n",
              "    <tr>\n",
              "      <th>15</th>\n",
              "      <td>Woking Community Hospital</td>\n",
              "      <td>CSH Surrey</td>\n",
              "      <td>Audiology and Ophthalmology Sensory Centre</td>\n",
              "      <td>GU22 7HS</td>\n",
              "      <td>1104122</td>\n",
              "      <td>GU22 7HS</td>\n",
              "      <td>51.315132</td>\n",
              "      <td>-0.556304</td>\n",
              "    </tr>\n",
              "  </tbody>\n",
              "</table>\n",
              "</div>"
            ],
            "text/plain": [
              "                                                Sites  \\\n",
              "0                            Buckland Hospital, Dover   \n",
              "1                        West Kent Early Adopter Site   \n",
              "2                           Bexhill Hospital, Bexhill   \n",
              "3                             Queen Victoria Hospital   \n",
              "4                  Falmer Community Stadium, Brighton   \n",
              "5   Southlands Hospital, Shoreham with Spoke at Bo...   \n",
              "6    St Mary’s Community Hospital Campus, Portsmouth    \n",
              "7                       Lymington New Forest Hospital   \n",
              "8                         Aldershot Centre for Health   \n",
              "9                        St Marks Hospital Maidenhead   \n",
              "10                  Slough - King Edward V11 Hospital   \n",
              "11                      Slough - Wexham Park Hospital   \n",
              "12                                  Amersham Hospital   \n",
              "13                  West Berkshire Community Hospital   \n",
              "14  Milford Community Hospital - Guildford & Waverley   \n",
              "15                          Woking Community Hospital   \n",
              "\n",
              "                            Run_By  \\\n",
              "0   East Kent University Hospitals   \n",
              "1                              MTW   \n",
              "2            East Sussex NHS Trust   \n",
              "3            East Sussex NHS Trust   \n",
              "4           Sussex MSK Partnership   \n",
              "5      University Hospitals Sussex   \n",
              "6   Portsmouth Hospitals NHS Trust   \n",
              "7            Southern Heath NHS FT   \n",
              "8            Frimley Health NHS FT   \n",
              "9            Frimley Health NHS FT   \n",
              "10     Berkshire Healthcare NHS FT   \n",
              "11           Frimley Health NHS FT   \n",
              "12   Buckinghamshire Health NHS FT   \n",
              "13     Berkshire Healthcare NHS FT   \n",
              "14             Royal Surrey NHS FT   \n",
              "15                      CSH Surrey   \n",
              "\n",
              "                                                 Type  _address       id  \\\n",
              "0                                Large excl endoscopy  CT17 0HD  1395760   \n",
              "1                                Large excl endoscopy  ME16 9NT   808477   \n",
              "2                                Large excl endoscopy  TN40 2DZ   179321   \n",
              "3                                Large excl endoscopy  RH19 3DZ   469077   \n",
              "4                                Large excl endoscopy   BN1 9SG  1558863   \n",
              "5                                 Standard with spoke  BN43 6TQ  1542098   \n",
              "6                                Large with endoscopy   PO3 6AD   526513   \n",
              "7                                Large with Endoscopy  SO41 8QD   306384   \n",
              "8                               Permanent CT scanning  GU11 1AY  1111173   \n",
              "9                                                NOUS   SL6 6DU   341330   \n",
              "10                           Echocardiography service   SL4 3DP   344611   \n",
              "11  Wexham Park Hospital MRI scanning and endoscop...   SL2 4HL   346568   \n",
              "12                                           Standard   HP7 0JD  1055981   \n",
              "13                             Large - incl endoscopy  RG18 3AS   498002   \n",
              "14                             Large - excl endoscopy   GU7 1UG  1093298   \n",
              "15         Audiology and Ophthalmology Sensory Centre  GU22 7HS  1104122   \n",
              "\n",
              "    postcode   latitude  longitude  \n",
              "0   CT17 0HD  51.132061   1.292413  \n",
              "1   ME16 9NT  51.278267   0.478818  \n",
              "2   TN40 2DZ  50.850706   0.475497  \n",
              "3   RH19 3DZ  51.135114  -0.002900  \n",
              "4    BN1 9SG  50.859137  -0.089625  \n",
              "5   BN43 6TQ  50.840752  -0.256119  \n",
              "6    PO3 6AD  50.800122  -1.063932  \n",
              "7   SO41 8QD  50.769099  -1.545476  \n",
              "8   GU11 1AY  51.254364  -0.765650  \n",
              "9    SL6 6DU  51.524779  -0.744890  \n",
              "10   SL4 3DP  51.473543  -0.614707  \n",
              "11   SL2 4HL  51.532007  -0.573992  \n",
              "12   HP7 0JD  51.663005  -0.621408  \n",
              "13  RG18 3AS  51.406375  -1.291779  \n",
              "14   GU7 1UG  51.167749  -0.623702  \n",
              "15  GU22 7HS  51.315132  -0.556304  "
            ]
          },
          "execution_count": 34,
          "metadata": {},
          "output_type": "execute_result"
        }
      ],
      "source": [
        "df.to_csv('')"
      ]
    },
    {
      "cell_type": "code",
      "execution_count": null,
      "id": "7b281848",
      "metadata": {
        "id": "7b281848",
        "outputId": "60455a65-3cd2-4bb7-fb78-d09792920f61"
      },
      "outputs": [
        {
          "data": {
            "application/vnd.plotly.v1+json": {
              "config": {
                "plotlyServerURL": "https://plot.ly"
              },
              "data": [
                {
                  "coloraxis": "coloraxis",
                  "hovertemplate": "<b>%{hovertext}</b><br><br>latitude=%{lat}<br>longitude=%{lon}<extra></extra>",
                  "hovertext": [
                    "Buckland Hospital, Dover",
                    "West Kent Early Adopter Site",
                    "Bexhill Hospital, Bexhill",
                    "Queen Victoria Hospital",
                    "Falmer Community Stadium, Brighton",
                    "Southlands Hospital, Shoreham with Spoke at Bognor Regis War Memorial Hospital",
                    "St Mary’s Community Hospital Campus, Portsmouth ",
                    "Lymington New Forest Hospital",
                    "Aldershot Centre for Health",
                    "St Marks Hospital Maidenhead",
                    "Slough - King Edward V11 Hospital",
                    "Slough - Wexham Park Hospital",
                    "Amersham Hospital",
                    "West Berkshire Community Hospital",
                    "Milford Community Hospital - Guildford & Waverley",
                    "Woking Community Hospital"
                  ],
                  "lat": [
                    51.132061,
                    51.278267,
                    50.850706,
                    51.135114,
                    50.859137,
                    50.840752,
                    50.800122,
                    50.769099,
                    51.254364,
                    51.524779,
                    51.473543,
                    51.532007,
                    51.663005,
                    51.406375,
                    51.167749,
                    51.315132
                  ],
                  "lon": [
                    1.292413,
                    0.478818,
                    0.475497,
                    -0.0029,
                    -0.089625,
                    -0.256119,
                    -1.063932,
                    -1.545476,
                    -0.76565,
                    -0.74489,
                    -0.614707,
                    -0.573992,
                    -0.621408,
                    -1.291779,
                    -0.623702,
                    -0.556304
                  ],
                  "name": "",
                  "radius": 10,
                  "subplot": "mapbox",
                  "type": "densitymapbox",
                  "z": [
                    51.132061,
                    51.278267,
                    50.850706,
                    51.135114,
                    50.859137,
                    50.840752,
                    50.800122,
                    50.769099,
                    51.254364,
                    51.524779,
                    51.473543,
                    51.532007,
                    51.663005,
                    51.406375,
                    51.167749,
                    51.315132
                  ]
                }
              ],
              "layout": {
                "coloraxis": {
                  "colorbar": {
                    "title": {
                      "text": "latitude"
                    }
                  },
                  "colorscale": [
                    [
                      0,
                      "#0d0887"
                    ],
                    [
                      0.1111111111111111,
                      "#46039f"
                    ],
                    [
                      0.2222222222222222,
                      "#7201a8"
                    ],
                    [
                      0.3333333333333333,
                      "#9c179e"
                    ],
                    [
                      0.4444444444444444,
                      "#bd3786"
                    ],
                    [
                      0.5555555555555556,
                      "#d8576b"
                    ],
                    [
                      0.6666666666666666,
                      "#ed7953"
                    ],
                    [
                      0.7777777777777778,
                      "#fb9f3a"
                    ],
                    [
                      0.8888888888888888,
                      "#fdca26"
                    ],
                    [
                      1,
                      "#f0f921"
                    ]
                  ]
                },
                "legend": {
                  "tracegroupgap": 0
                },
                "mapbox": {
                  "center": {
                    "lat": 51.524779,
                    "lon": 0.614707
                  },
                  "domain": {
                    "x": [
                      0,
                      1
                    ],
                    "y": [
                      0,
                      1
                    ]
                  },
                  "style": "stamen-terrain",
                  "zoom": 3
                },
                "margin": {
                  "t": 60
                },
                "template": {
                  "data": {
                    "bar": [
                      {
                        "error_x": {
                          "color": "#2a3f5f"
                        },
                        "error_y": {
                          "color": "#2a3f5f"
                        },
                        "marker": {
                          "line": {
                            "color": "#E5ECF6",
                            "width": 0.5
                          },
                          "pattern": {
                            "fillmode": "overlay",
                            "size": 10,
                            "solidity": 0.2
                          }
                        },
                        "type": "bar"
                      }
                    ],
                    "barpolar": [
                      {
                        "marker": {
                          "line": {
                            "color": "#E5ECF6",
                            "width": 0.5
                          },
                          "pattern": {
                            "fillmode": "overlay",
                            "size": 10,
                            "solidity": 0.2
                          }
                        },
                        "type": "barpolar"
                      }
                    ],
                    "carpet": [
                      {
                        "aaxis": {
                          "endlinecolor": "#2a3f5f",
                          "gridcolor": "white",
                          "linecolor": "white",
                          "minorgridcolor": "white",
                          "startlinecolor": "#2a3f5f"
                        },
                        "baxis": {
                          "endlinecolor": "#2a3f5f",
                          "gridcolor": "white",
                          "linecolor": "white",
                          "minorgridcolor": "white",
                          "startlinecolor": "#2a3f5f"
                        },
                        "type": "carpet"
                      }
                    ],
                    "choropleth": [
                      {
                        "colorbar": {
                          "outlinewidth": 0,
                          "ticks": ""
                        },
                        "type": "choropleth"
                      }
                    ],
                    "contour": [
                      {
                        "colorbar": {
                          "outlinewidth": 0,
                          "ticks": ""
                        },
                        "colorscale": [
                          [
                            0,
                            "#0d0887"
                          ],
                          [
                            0.1111111111111111,
                            "#46039f"
                          ],
                          [
                            0.2222222222222222,
                            "#7201a8"
                          ],
                          [
                            0.3333333333333333,
                            "#9c179e"
                          ],
                          [
                            0.4444444444444444,
                            "#bd3786"
                          ],
                          [
                            0.5555555555555556,
                            "#d8576b"
                          ],
                          [
                            0.6666666666666666,
                            "#ed7953"
                          ],
                          [
                            0.7777777777777778,
                            "#fb9f3a"
                          ],
                          [
                            0.8888888888888888,
                            "#fdca26"
                          ],
                          [
                            1,
                            "#f0f921"
                          ]
                        ],
                        "type": "contour"
                      }
                    ],
                    "contourcarpet": [
                      {
                        "colorbar": {
                          "outlinewidth": 0,
                          "ticks": ""
                        },
                        "type": "contourcarpet"
                      }
                    ],
                    "heatmap": [
                      {
                        "colorbar": {
                          "outlinewidth": 0,
                          "ticks": ""
                        },
                        "colorscale": [
                          [
                            0,
                            "#0d0887"
                          ],
                          [
                            0.1111111111111111,
                            "#46039f"
                          ],
                          [
                            0.2222222222222222,
                            "#7201a8"
                          ],
                          [
                            0.3333333333333333,
                            "#9c179e"
                          ],
                          [
                            0.4444444444444444,
                            "#bd3786"
                          ],
                          [
                            0.5555555555555556,
                            "#d8576b"
                          ],
                          [
                            0.6666666666666666,
                            "#ed7953"
                          ],
                          [
                            0.7777777777777778,
                            "#fb9f3a"
                          ],
                          [
                            0.8888888888888888,
                            "#fdca26"
                          ],
                          [
                            1,
                            "#f0f921"
                          ]
                        ],
                        "type": "heatmap"
                      }
                    ],
                    "heatmapgl": [
                      {
                        "colorbar": {
                          "outlinewidth": 0,
                          "ticks": ""
                        },
                        "colorscale": [
                          [
                            0,
                            "#0d0887"
                          ],
                          [
                            0.1111111111111111,
                            "#46039f"
                          ],
                          [
                            0.2222222222222222,
                            "#7201a8"
                          ],
                          [
                            0.3333333333333333,
                            "#9c179e"
                          ],
                          [
                            0.4444444444444444,
                            "#bd3786"
                          ],
                          [
                            0.5555555555555556,
                            "#d8576b"
                          ],
                          [
                            0.6666666666666666,
                            "#ed7953"
                          ],
                          [
                            0.7777777777777778,
                            "#fb9f3a"
                          ],
                          [
                            0.8888888888888888,
                            "#fdca26"
                          ],
                          [
                            1,
                            "#f0f921"
                          ]
                        ],
                        "type": "heatmapgl"
                      }
                    ],
                    "histogram": [
                      {
                        "marker": {
                          "pattern": {
                            "fillmode": "overlay",
                            "size": 10,
                            "solidity": 0.2
                          }
                        },
                        "type": "histogram"
                      }
                    ],
                    "histogram2d": [
                      {
                        "colorbar": {
                          "outlinewidth": 0,
                          "ticks": ""
                        },
                        "colorscale": [
                          [
                            0,
                            "#0d0887"
                          ],
                          [
                            0.1111111111111111,
                            "#46039f"
                          ],
                          [
                            0.2222222222222222,
                            "#7201a8"
                          ],
                          [
                            0.3333333333333333,
                            "#9c179e"
                          ],
                          [
                            0.4444444444444444,
                            "#bd3786"
                          ],
                          [
                            0.5555555555555556,
                            "#d8576b"
                          ],
                          [
                            0.6666666666666666,
                            "#ed7953"
                          ],
                          [
                            0.7777777777777778,
                            "#fb9f3a"
                          ],
                          [
                            0.8888888888888888,
                            "#fdca26"
                          ],
                          [
                            1,
                            "#f0f921"
                          ]
                        ],
                        "type": "histogram2d"
                      }
                    ],
                    "histogram2dcontour": [
                      {
                        "colorbar": {
                          "outlinewidth": 0,
                          "ticks": ""
                        },
                        "colorscale": [
                          [
                            0,
                            "#0d0887"
                          ],
                          [
                            0.1111111111111111,
                            "#46039f"
                          ],
                          [
                            0.2222222222222222,
                            "#7201a8"
                          ],
                          [
                            0.3333333333333333,
                            "#9c179e"
                          ],
                          [
                            0.4444444444444444,
                            "#bd3786"
                          ],
                          [
                            0.5555555555555556,
                            "#d8576b"
                          ],
                          [
                            0.6666666666666666,
                            "#ed7953"
                          ],
                          [
                            0.7777777777777778,
                            "#fb9f3a"
                          ],
                          [
                            0.8888888888888888,
                            "#fdca26"
                          ],
                          [
                            1,
                            "#f0f921"
                          ]
                        ],
                        "type": "histogram2dcontour"
                      }
                    ],
                    "mesh3d": [
                      {
                        "colorbar": {
                          "outlinewidth": 0,
                          "ticks": ""
                        },
                        "type": "mesh3d"
                      }
                    ],
                    "parcoords": [
                      {
                        "line": {
                          "colorbar": {
                            "outlinewidth": 0,
                            "ticks": ""
                          }
                        },
                        "type": "parcoords"
                      }
                    ],
                    "pie": [
                      {
                        "automargin": true,
                        "type": "pie"
                      }
                    ],
                    "scatter": [
                      {
                        "fillpattern": {
                          "fillmode": "overlay",
                          "size": 10,
                          "solidity": 0.2
                        },
                        "type": "scatter"
                      }
                    ],
                    "scatter3d": [
                      {
                        "line": {
                          "colorbar": {
                            "outlinewidth": 0,
                            "ticks": ""
                          }
                        },
                        "marker": {
                          "colorbar": {
                            "outlinewidth": 0,
                            "ticks": ""
                          }
                        },
                        "type": "scatter3d"
                      }
                    ],
                    "scattercarpet": [
                      {
                        "marker": {
                          "colorbar": {
                            "outlinewidth": 0,
                            "ticks": ""
                          }
                        },
                        "type": "scattercarpet"
                      }
                    ],
                    "scattergeo": [
                      {
                        "marker": {
                          "colorbar": {
                            "outlinewidth": 0,
                            "ticks": ""
                          }
                        },
                        "type": "scattergeo"
                      }
                    ],
                    "scattergl": [
                      {
                        "marker": {
                          "colorbar": {
                            "outlinewidth": 0,
                            "ticks": ""
                          }
                        },
                        "type": "scattergl"
                      }
                    ],
                    "scattermapbox": [
                      {
                        "marker": {
                          "colorbar": {
                            "outlinewidth": 0,
                            "ticks": ""
                          }
                        },
                        "type": "scattermapbox"
                      }
                    ],
                    "scatterpolar": [
                      {
                        "marker": {
                          "colorbar": {
                            "outlinewidth": 0,
                            "ticks": ""
                          }
                        },
                        "type": "scatterpolar"
                      }
                    ],
                    "scatterpolargl": [
                      {
                        "marker": {
                          "colorbar": {
                            "outlinewidth": 0,
                            "ticks": ""
                          }
                        },
                        "type": "scatterpolargl"
                      }
                    ],
                    "scatterternary": [
                      {
                        "marker": {
                          "colorbar": {
                            "outlinewidth": 0,
                            "ticks": ""
                          }
                        },
                        "type": "scatterternary"
                      }
                    ],
                    "surface": [
                      {
                        "colorbar": {
                          "outlinewidth": 0,
                          "ticks": ""
                        },
                        "colorscale": [
                          [
                            0,
                            "#0d0887"
                          ],
                          [
                            0.1111111111111111,
                            "#46039f"
                          ],
                          [
                            0.2222222222222222,
                            "#7201a8"
                          ],
                          [
                            0.3333333333333333,
                            "#9c179e"
                          ],
                          [
                            0.4444444444444444,
                            "#bd3786"
                          ],
                          [
                            0.5555555555555556,
                            "#d8576b"
                          ],
                          [
                            0.6666666666666666,
                            "#ed7953"
                          ],
                          [
                            0.7777777777777778,
                            "#fb9f3a"
                          ],
                          [
                            0.8888888888888888,
                            "#fdca26"
                          ],
                          [
                            1,
                            "#f0f921"
                          ]
                        ],
                        "type": "surface"
                      }
                    ],
                    "table": [
                      {
                        "cells": {
                          "fill": {
                            "color": "#EBF0F8"
                          },
                          "line": {
                            "color": "white"
                          }
                        },
                        "header": {
                          "fill": {
                            "color": "#C8D4E3"
                          },
                          "line": {
                            "color": "white"
                          }
                        },
                        "type": "table"
                      }
                    ]
                  },
                  "layout": {
                    "annotationdefaults": {
                      "arrowcolor": "#2a3f5f",
                      "arrowhead": 0,
                      "arrowwidth": 1
                    },
                    "autotypenumbers": "strict",
                    "coloraxis": {
                      "colorbar": {
                        "outlinewidth": 0,
                        "ticks": ""
                      }
                    },
                    "colorscale": {
                      "diverging": [
                        [
                          0,
                          "#8e0152"
                        ],
                        [
                          0.1,
                          "#c51b7d"
                        ],
                        [
                          0.2,
                          "#de77ae"
                        ],
                        [
                          0.3,
                          "#f1b6da"
                        ],
                        [
                          0.4,
                          "#fde0ef"
                        ],
                        [
                          0.5,
                          "#f7f7f7"
                        ],
                        [
                          0.6,
                          "#e6f5d0"
                        ],
                        [
                          0.7,
                          "#b8e186"
                        ],
                        [
                          0.8,
                          "#7fbc41"
                        ],
                        [
                          0.9,
                          "#4d9221"
                        ],
                        [
                          1,
                          "#276419"
                        ]
                      ],
                      "sequential": [
                        [
                          0,
                          "#0d0887"
                        ],
                        [
                          0.1111111111111111,
                          "#46039f"
                        ],
                        [
                          0.2222222222222222,
                          "#7201a8"
                        ],
                        [
                          0.3333333333333333,
                          "#9c179e"
                        ],
                        [
                          0.4444444444444444,
                          "#bd3786"
                        ],
                        [
                          0.5555555555555556,
                          "#d8576b"
                        ],
                        [
                          0.6666666666666666,
                          "#ed7953"
                        ],
                        [
                          0.7777777777777778,
                          "#fb9f3a"
                        ],
                        [
                          0.8888888888888888,
                          "#fdca26"
                        ],
                        [
                          1,
                          "#f0f921"
                        ]
                      ],
                      "sequentialminus": [
                        [
                          0,
                          "#0d0887"
                        ],
                        [
                          0.1111111111111111,
                          "#46039f"
                        ],
                        [
                          0.2222222222222222,
                          "#7201a8"
                        ],
                        [
                          0.3333333333333333,
                          "#9c179e"
                        ],
                        [
                          0.4444444444444444,
                          "#bd3786"
                        ],
                        [
                          0.5555555555555556,
                          "#d8576b"
                        ],
                        [
                          0.6666666666666666,
                          "#ed7953"
                        ],
                        [
                          0.7777777777777778,
                          "#fb9f3a"
                        ],
                        [
                          0.8888888888888888,
                          "#fdca26"
                        ],
                        [
                          1,
                          "#f0f921"
                        ]
                      ]
                    },
                    "colorway": [
                      "#636efa",
                      "#EF553B",
                      "#00cc96",
                      "#ab63fa",
                      "#FFA15A",
                      "#19d3f3",
                      "#FF6692",
                      "#B6E880",
                      "#FF97FF",
                      "#FECB52"
                    ],
                    "font": {
                      "color": "#2a3f5f"
                    },
                    "geo": {
                      "bgcolor": "white",
                      "lakecolor": "white",
                      "landcolor": "#E5ECF6",
                      "showlakes": true,
                      "showland": true,
                      "subunitcolor": "white"
                    },
                    "hoverlabel": {
                      "align": "left"
                    },
                    "hovermode": "closest",
                    "mapbox": {
                      "style": "light"
                    },
                    "paper_bgcolor": "white",
                    "plot_bgcolor": "#E5ECF6",
                    "polar": {
                      "angularaxis": {
                        "gridcolor": "white",
                        "linecolor": "white",
                        "ticks": ""
                      },
                      "bgcolor": "#E5ECF6",
                      "radialaxis": {
                        "gridcolor": "white",
                        "linecolor": "white",
                        "ticks": ""
                      }
                    },
                    "scene": {
                      "xaxis": {
                        "backgroundcolor": "#E5ECF6",
                        "gridcolor": "white",
                        "gridwidth": 2,
                        "linecolor": "white",
                        "showbackground": true,
                        "ticks": "",
                        "zerolinecolor": "white"
                      },
                      "yaxis": {
                        "backgroundcolor": "#E5ECF6",
                        "gridcolor": "white",
                        "gridwidth": 2,
                        "linecolor": "white",
                        "showbackground": true,
                        "ticks": "",
                        "zerolinecolor": "white"
                      },
                      "zaxis": {
                        "backgroundcolor": "#E5ECF6",
                        "gridcolor": "white",
                        "gridwidth": 2,
                        "linecolor": "white",
                        "showbackground": true,
                        "ticks": "",
                        "zerolinecolor": "white"
                      }
                    },
                    "shapedefaults": {
                      "line": {
                        "color": "#2a3f5f"
                      }
                    },
                    "ternary": {
                      "aaxis": {
                        "gridcolor": "white",
                        "linecolor": "white",
                        "ticks": ""
                      },
                      "baxis": {
                        "gridcolor": "white",
                        "linecolor": "white",
                        "ticks": ""
                      },
                      "bgcolor": "#E5ECF6",
                      "caxis": {
                        "gridcolor": "white",
                        "linecolor": "white",
                        "ticks": ""
                      }
                    },
                    "title": {
                      "x": 0.05
                    },
                    "xaxis": {
                      "automargin": true,
                      "gridcolor": "white",
                      "linecolor": "white",
                      "ticks": "",
                      "title": {
                        "standoff": 15
                      },
                      "zerolinecolor": "white",
                      "zerolinewidth": 2
                    },
                    "yaxis": {
                      "automargin": true,
                      "gridcolor": "white",
                      "linecolor": "white",
                      "ticks": "",
                      "title": {
                        "standoff": 15
                      },
                      "zerolinecolor": "white",
                      "zerolinewidth": 2
                    }
                  }
                }
              }
            },
            "text/html": [
              "<div>                            <div id=\"5b0e4a6f-9eb7-4465-a04f-27af7376c6b2\" class=\"plotly-graph-div\" style=\"height:525px; width:100%;\"></div>            <script type=\"text/javascript\">                require([\"plotly\"], function(Plotly) {                    window.PLOTLYENV=window.PLOTLYENV || {};                                    if (document.getElementById(\"5b0e4a6f-9eb7-4465-a04f-27af7376c6b2\")) {                    Plotly.newPlot(                        \"5b0e4a6f-9eb7-4465-a04f-27af7376c6b2\",                        [{\"coloraxis\":\"coloraxis\",\"hovertemplate\":\"<b>%{hovertext}</b><br><br>latitude=%{lat}<br>longitude=%{lon}<extra></extra>\",\"hovertext\":[\"Buckland Hospital, Dover\",\"West Kent Early Adopter Site\",\"Bexhill Hospital, Bexhill\",\"Queen Victoria Hospital\",\"Falmer Community Stadium, Brighton\",\"Southlands Hospital, Shoreham with Spoke at Bognor Regis War Memorial Hospital\",\"St Mary\\u2019s Community Hospital Campus, Portsmouth\\u00a0\",\"Lymington New Forest Hospital\",\"Aldershot Centre for Health\",\"St Marks Hospital Maidenhead\",\"Slough - King Edward V11 Hospital\",\"Slough - Wexham Park Hospital\",\"Amersham Hospital\",\"West Berkshire Community Hospital\",\"Milford\\u00a0Community Hospital - Guildford & Waverley\",\"Woking\\u00a0Community Hospital\"],\"lat\":[51.132061,51.278267,50.850706,51.135114,50.859137,50.840752,50.800122,50.769099,51.254364,51.524779,51.473543,51.532007,51.663005,51.406375,51.167749,51.315132],\"lon\":[1.292413,0.478818,0.475497,-0.0029,-0.089625,-0.256119,-1.063932,-1.545476,-0.76565,-0.74489,-0.614707,-0.573992,-0.621408,-1.291779,-0.623702,-0.556304],\"name\":\"\",\"radius\":10,\"subplot\":\"mapbox\",\"z\":[51.132061,51.278267,50.850706,51.135114,50.859137,50.840752,50.800122,50.769099,51.254364,51.524779,51.473543,51.532007,51.663005,51.406375,51.167749,51.315132],\"type\":\"densitymapbox\"}],                        {\"template\":{\"data\":{\"histogram2dcontour\":[{\"type\":\"histogram2dcontour\",\"colorbar\":{\"outlinewidth\":0,\"ticks\":\"\"},\"colorscale\":[[0.0,\"#0d0887\"],[0.1111111111111111,\"#46039f\"],[0.2222222222222222,\"#7201a8\"],[0.3333333333333333,\"#9c179e\"],[0.4444444444444444,\"#bd3786\"],[0.5555555555555556,\"#d8576b\"],[0.6666666666666666,\"#ed7953\"],[0.7777777777777778,\"#fb9f3a\"],[0.8888888888888888,\"#fdca26\"],[1.0,\"#f0f921\"]]}],\"choropleth\":[{\"type\":\"choropleth\",\"colorbar\":{\"outlinewidth\":0,\"ticks\":\"\"}}],\"histogram2d\":[{\"type\":\"histogram2d\",\"colorbar\":{\"outlinewidth\":0,\"ticks\":\"\"},\"colorscale\":[[0.0,\"#0d0887\"],[0.1111111111111111,\"#46039f\"],[0.2222222222222222,\"#7201a8\"],[0.3333333333333333,\"#9c179e\"],[0.4444444444444444,\"#bd3786\"],[0.5555555555555556,\"#d8576b\"],[0.6666666666666666,\"#ed7953\"],[0.7777777777777778,\"#fb9f3a\"],[0.8888888888888888,\"#fdca26\"],[1.0,\"#f0f921\"]]}],\"heatmap\":[{\"type\":\"heatmap\",\"colorbar\":{\"outlinewidth\":0,\"ticks\":\"\"},\"colorscale\":[[0.0,\"#0d0887\"],[0.1111111111111111,\"#46039f\"],[0.2222222222222222,\"#7201a8\"],[0.3333333333333333,\"#9c179e\"],[0.4444444444444444,\"#bd3786\"],[0.5555555555555556,\"#d8576b\"],[0.6666666666666666,\"#ed7953\"],[0.7777777777777778,\"#fb9f3a\"],[0.8888888888888888,\"#fdca26\"],[1.0,\"#f0f921\"]]}],\"heatmapgl\":[{\"type\":\"heatmapgl\",\"colorbar\":{\"outlinewidth\":0,\"ticks\":\"\"},\"colorscale\":[[0.0,\"#0d0887\"],[0.1111111111111111,\"#46039f\"],[0.2222222222222222,\"#7201a8\"],[0.3333333333333333,\"#9c179e\"],[0.4444444444444444,\"#bd3786\"],[0.5555555555555556,\"#d8576b\"],[0.6666666666666666,\"#ed7953\"],[0.7777777777777778,\"#fb9f3a\"],[0.8888888888888888,\"#fdca26\"],[1.0,\"#f0f921\"]]}],\"contourcarpet\":[{\"type\":\"contourcarpet\",\"colorbar\":{\"outlinewidth\":0,\"ticks\":\"\"}}],\"contour\":[{\"type\":\"contour\",\"colorbar\":{\"outlinewidth\":0,\"ticks\":\"\"},\"colorscale\":[[0.0,\"#0d0887\"],[0.1111111111111111,\"#46039f\"],[0.2222222222222222,\"#7201a8\"],[0.3333333333333333,\"#9c179e\"],[0.4444444444444444,\"#bd3786\"],[0.5555555555555556,\"#d8576b\"],[0.6666666666666666,\"#ed7953\"],[0.7777777777777778,\"#fb9f3a\"],[0.8888888888888888,\"#fdca26\"],[1.0,\"#f0f921\"]]}],\"surface\":[{\"type\":\"surface\",\"colorbar\":{\"outlinewidth\":0,\"ticks\":\"\"},\"colorscale\":[[0.0,\"#0d0887\"],[0.1111111111111111,\"#46039f\"],[0.2222222222222222,\"#7201a8\"],[0.3333333333333333,\"#9c179e\"],[0.4444444444444444,\"#bd3786\"],[0.5555555555555556,\"#d8576b\"],[0.6666666666666666,\"#ed7953\"],[0.7777777777777778,\"#fb9f3a\"],[0.8888888888888888,\"#fdca26\"],[1.0,\"#f0f921\"]]}],\"mesh3d\":[{\"type\":\"mesh3d\",\"colorbar\":{\"outlinewidth\":0,\"ticks\":\"\"}}],\"scatter\":[{\"fillpattern\":{\"fillmode\":\"overlay\",\"size\":10,\"solidity\":0.2},\"type\":\"scatter\"}],\"parcoords\":[{\"type\":\"parcoords\",\"line\":{\"colorbar\":{\"outlinewidth\":0,\"ticks\":\"\"}}}],\"scatterpolargl\":[{\"type\":\"scatterpolargl\",\"marker\":{\"colorbar\":{\"outlinewidth\":0,\"ticks\":\"\"}}}],\"bar\":[{\"error_x\":{\"color\":\"#2a3f5f\"},\"error_y\":{\"color\":\"#2a3f5f\"},\"marker\":{\"line\":{\"color\":\"#E5ECF6\",\"width\":0.5},\"pattern\":{\"fillmode\":\"overlay\",\"size\":10,\"solidity\":0.2}},\"type\":\"bar\"}],\"scattergeo\":[{\"type\":\"scattergeo\",\"marker\":{\"colorbar\":{\"outlinewidth\":0,\"ticks\":\"\"}}}],\"scatterpolar\":[{\"type\":\"scatterpolar\",\"marker\":{\"colorbar\":{\"outlinewidth\":0,\"ticks\":\"\"}}}],\"histogram\":[{\"marker\":{\"pattern\":{\"fillmode\":\"overlay\",\"size\":10,\"solidity\":0.2}},\"type\":\"histogram\"}],\"scattergl\":[{\"type\":\"scattergl\",\"marker\":{\"colorbar\":{\"outlinewidth\":0,\"ticks\":\"\"}}}],\"scatter3d\":[{\"type\":\"scatter3d\",\"line\":{\"colorbar\":{\"outlinewidth\":0,\"ticks\":\"\"}},\"marker\":{\"colorbar\":{\"outlinewidth\":0,\"ticks\":\"\"}}}],\"scattermapbox\":[{\"type\":\"scattermapbox\",\"marker\":{\"colorbar\":{\"outlinewidth\":0,\"ticks\":\"\"}}}],\"scatterternary\":[{\"type\":\"scatterternary\",\"marker\":{\"colorbar\":{\"outlinewidth\":0,\"ticks\":\"\"}}}],\"scattercarpet\":[{\"type\":\"scattercarpet\",\"marker\":{\"colorbar\":{\"outlinewidth\":0,\"ticks\":\"\"}}}],\"carpet\":[{\"aaxis\":{\"endlinecolor\":\"#2a3f5f\",\"gridcolor\":\"white\",\"linecolor\":\"white\",\"minorgridcolor\":\"white\",\"startlinecolor\":\"#2a3f5f\"},\"baxis\":{\"endlinecolor\":\"#2a3f5f\",\"gridcolor\":\"white\",\"linecolor\":\"white\",\"minorgridcolor\":\"white\",\"startlinecolor\":\"#2a3f5f\"},\"type\":\"carpet\"}],\"table\":[{\"cells\":{\"fill\":{\"color\":\"#EBF0F8\"},\"line\":{\"color\":\"white\"}},\"header\":{\"fill\":{\"color\":\"#C8D4E3\"},\"line\":{\"color\":\"white\"}},\"type\":\"table\"}],\"barpolar\":[{\"marker\":{\"line\":{\"color\":\"#E5ECF6\",\"width\":0.5},\"pattern\":{\"fillmode\":\"overlay\",\"size\":10,\"solidity\":0.2}},\"type\":\"barpolar\"}],\"pie\":[{\"automargin\":true,\"type\":\"pie\"}]},\"layout\":{\"autotypenumbers\":\"strict\",\"colorway\":[\"#636efa\",\"#EF553B\",\"#00cc96\",\"#ab63fa\",\"#FFA15A\",\"#19d3f3\",\"#FF6692\",\"#B6E880\",\"#FF97FF\",\"#FECB52\"],\"font\":{\"color\":\"#2a3f5f\"},\"hovermode\":\"closest\",\"hoverlabel\":{\"align\":\"left\"},\"paper_bgcolor\":\"white\",\"plot_bgcolor\":\"#E5ECF6\",\"polar\":{\"bgcolor\":\"#E5ECF6\",\"angularaxis\":{\"gridcolor\":\"white\",\"linecolor\":\"white\",\"ticks\":\"\"},\"radialaxis\":{\"gridcolor\":\"white\",\"linecolor\":\"white\",\"ticks\":\"\"}},\"ternary\":{\"bgcolor\":\"#E5ECF6\",\"aaxis\":{\"gridcolor\":\"white\",\"linecolor\":\"white\",\"ticks\":\"\"},\"baxis\":{\"gridcolor\":\"white\",\"linecolor\":\"white\",\"ticks\":\"\"},\"caxis\":{\"gridcolor\":\"white\",\"linecolor\":\"white\",\"ticks\":\"\"}},\"coloraxis\":{\"colorbar\":{\"outlinewidth\":0,\"ticks\":\"\"}},\"colorscale\":{\"sequential\":[[0.0,\"#0d0887\"],[0.1111111111111111,\"#46039f\"],[0.2222222222222222,\"#7201a8\"],[0.3333333333333333,\"#9c179e\"],[0.4444444444444444,\"#bd3786\"],[0.5555555555555556,\"#d8576b\"],[0.6666666666666666,\"#ed7953\"],[0.7777777777777778,\"#fb9f3a\"],[0.8888888888888888,\"#fdca26\"],[1.0,\"#f0f921\"]],\"sequentialminus\":[[0.0,\"#0d0887\"],[0.1111111111111111,\"#46039f\"],[0.2222222222222222,\"#7201a8\"],[0.3333333333333333,\"#9c179e\"],[0.4444444444444444,\"#bd3786\"],[0.5555555555555556,\"#d8576b\"],[0.6666666666666666,\"#ed7953\"],[0.7777777777777778,\"#fb9f3a\"],[0.8888888888888888,\"#fdca26\"],[1.0,\"#f0f921\"]],\"diverging\":[[0,\"#8e0152\"],[0.1,\"#c51b7d\"],[0.2,\"#de77ae\"],[0.3,\"#f1b6da\"],[0.4,\"#fde0ef\"],[0.5,\"#f7f7f7\"],[0.6,\"#e6f5d0\"],[0.7,\"#b8e186\"],[0.8,\"#7fbc41\"],[0.9,\"#4d9221\"],[1,\"#276419\"]]},\"xaxis\":{\"gridcolor\":\"white\",\"linecolor\":\"white\",\"ticks\":\"\",\"title\":{\"standoff\":15},\"zerolinecolor\":\"white\",\"automargin\":true,\"zerolinewidth\":2},\"yaxis\":{\"gridcolor\":\"white\",\"linecolor\":\"white\",\"ticks\":\"\",\"title\":{\"standoff\":15},\"zerolinecolor\":\"white\",\"automargin\":true,\"zerolinewidth\":2},\"scene\":{\"xaxis\":{\"backgroundcolor\":\"#E5ECF6\",\"gridcolor\":\"white\",\"linecolor\":\"white\",\"showbackground\":true,\"ticks\":\"\",\"zerolinecolor\":\"white\",\"gridwidth\":2},\"yaxis\":{\"backgroundcolor\":\"#E5ECF6\",\"gridcolor\":\"white\",\"linecolor\":\"white\",\"showbackground\":true,\"ticks\":\"\",\"zerolinecolor\":\"white\",\"gridwidth\":2},\"zaxis\":{\"backgroundcolor\":\"#E5ECF6\",\"gridcolor\":\"white\",\"linecolor\":\"white\",\"showbackground\":true,\"ticks\":\"\",\"zerolinecolor\":\"white\",\"gridwidth\":2}},\"shapedefaults\":{\"line\":{\"color\":\"#2a3f5f\"}},\"annotationdefaults\":{\"arrowcolor\":\"#2a3f5f\",\"arrowhead\":0,\"arrowwidth\":1},\"geo\":{\"bgcolor\":\"white\",\"landcolor\":\"#E5ECF6\",\"subunitcolor\":\"white\",\"showland\":true,\"showlakes\":true,\"lakecolor\":\"white\"},\"title\":{\"x\":0.05},\"mapbox\":{\"style\":\"light\"}}},\"mapbox\":{\"domain\":{\"x\":[0.0,1.0],\"y\":[0.0,1.0]},\"center\":{\"lat\":51.524779,\"lon\":0.614707},\"zoom\":3,\"style\":\"stamen-terrain\"},\"coloraxis\":{\"colorbar\":{\"title\":{\"text\":\"latitude\"}},\"colorscale\":[[0.0,\"#0d0887\"],[0.1111111111111111,\"#46039f\"],[0.2222222222222222,\"#7201a8\"],[0.3333333333333333,\"#9c179e\"],[0.4444444444444444,\"#bd3786\"],[0.5555555555555556,\"#d8576b\"],[0.6666666666666666,\"#ed7953\"],[0.7777777777777778,\"#fb9f3a\"],[0.8888888888888888,\"#fdca26\"],[1.0,\"#f0f921\"]]},\"legend\":{\"tracegroupgap\":0},\"margin\":{\"t\":60}},                        {\"responsive\": true}                    ).then(function(){\n",
              "                            \n",
              "var gd = document.getElementById('5b0e4a6f-9eb7-4465-a04f-27af7376c6b2');\n",
              "var x = new MutationObserver(function (mutations, observer) {{\n",
              "        var display = window.getComputedStyle(gd).display;\n",
              "        if (!display || display === 'none') {{\n",
              "            console.log([gd, 'removed!']);\n",
              "            Plotly.purge(gd);\n",
              "            observer.disconnect();\n",
              "        }}\n",
              "}});\n",
              "\n",
              "// Listen for the removal of the full notebook cells\n",
              "var notebookContainer = gd.closest('#notebook-container');\n",
              "if (notebookContainer) {{\n",
              "    x.observe(notebookContainer, {childList: true});\n",
              "}}\n",
              "\n",
              "// Listen for the clearing of the current output cell\n",
              "var outputEl = gd.closest('.output');\n",
              "if (outputEl) {{\n",
              "    x.observe(outputEl, {childList: true});\n",
              "}}\n",
              "\n",
              "                        })                };                });            </script>        </div>"
            ]
          },
          "metadata": {},
          "output_type": "display_data"
        }
      ],
      "source": [
        "import plotly.express as px\n",
        "fig = px.density_mapbox(df, lat='latitude', lon='longitude', z='latitude', radius=10,hover_name=\"Sites\",\n",
        "                        center=dict(lat=51.524779, lon=0.614707), zoom=3,\n",
        "                        mapbox_style=\"stamen-terrain\")\n",
        "fig.show()"
      ]
    },
    {
      "cell_type": "code",
      "execution_count": null,
      "id": "4b49d938",
      "metadata": {
        "id": "4b49d938"
      },
      "outputs": [],
      "source": [
        "import numpy as np\n",
        "\n",
        "def haversine_np(lon1, lat1, lon2, lat2):\n",
        "    \"\"\"\n",
        "    Calculate the great circle distance between two points\n",
        "    on the earth (specified in decimal degrees)\n",
        "\n",
        "    All args must be of equal length.    \n",
        "\n",
        "    \"\"\"\n",
        "    lon1, lat1, lon2, lat2 = map(np.radians, [lon1, lat1, lon2, lat2])\n",
        "\n",
        "    dlon = lon2 - lon1\n",
        "    dlat = lat2 - lat1\n",
        "\n",
        "    a = np.sin(dlat/2.0)**2 + np.cos(lat1) * np.cos(lat2) * np.sin(dlon/2.0)**2\n",
        "\n",
        "    c = 2 * np.arcsin(np.sqrt(a))\n",
        "    km = 6367 * c\n",
        "    return km"
      ]
    },
    {
      "cell_type": "code",
      "execution_count": null,
      "id": "3a01b724",
      "metadata": {
        "id": "3a01b724",
        "outputId": "2ca7f0d4-a6fc-4d54-8151-9d7533f589ce"
      },
      "outputs": [
        {
          "ename": "NameError",
          "evalue": "name 'haversine_np' is not defined",
          "output_type": "error",
          "traceback": [
            "\u001b[1;31m---------------------------------------------------------------------------\u001b[0m",
            "\u001b[1;31mNameError\u001b[0m                                 Traceback (most recent call last)",
            "Input \u001b[1;32mIn [1]\u001b[0m, in \u001b[0;36m<cell line: 1>\u001b[1;34m()\u001b[0m\n\u001b[1;32m----> 1\u001b[0m df[\u001b[38;5;124m'\u001b[39m\u001b[38;5;124mdistance\u001b[39m\u001b[38;5;124m'\u001b[39m] \u001b[38;5;241m=\u001b[39m \u001b[43mhaversine_np\u001b[49m(df[\u001b[38;5;124m'\u001b[39m\u001b[38;5;124mlongitude\u001b[39m\u001b[38;5;124m'\u001b[39m],df[\u001b[38;5;124m'\u001b[39m\u001b[38;5;124mlatitude\u001b[39m\u001b[38;5;124m'\u001b[39m],subset[\u001b[38;5;124m'\u001b[39m\u001b[38;5;124mlongitude\u001b[39m\u001b[38;5;124m'\u001b[39m],subset[\u001b[38;5;124m'\u001b[39m\u001b[38;5;124mlatitude\u001b[39m\u001b[38;5;124m'\u001b[39m])\n",
            "\u001b[1;31mNameError\u001b[0m: name 'haversine_np' is not defined"
          ]
        }
      ],
      "source": [
        "df['distance'] = haversine_np(df['longitude'],df['latitude'],subset['longitude'],subset['latitude'])"
      ]
    },
    {
      "cell_type": "code",
      "execution_count": null,
      "id": "13f67d22",
      "metadata": {
        "id": "13f67d22"
      },
      "outputs": [],
      "source": [
        "df"
      ]
    },
    {
      "cell_type": "code",
      "execution_count": null,
      "id": "2dda03ed",
      "metadata": {
        "id": "2dda03ed",
        "outputId": "02344b11-72fd-4622-cf29-0a086beae3ae"
      },
      "outputs": [
        {
          "data": {
            "image/png": "[encoded data removed]",
            "text/plain": [
              "<Figure size 432x288 with 1 Axes>"
            ]
          },
          "metadata": {
            "needs_background": "light"
          },
          "output_type": "display_data"
        }
      ],
      "source": [
        "import matplotlib.pyplot as plt\n",
        "plt.scatter(x=df['longitude'], y=df['latitude'])\n",
        "plt.show()"
      ]
    },
    {
      "cell_type": "code",
      "execution_count": null,
      "id": "533f314c",
      "metadata": {
        "id": "533f314c",
        "outputId": "e8e03121-838d-4463-a1ef-81b624d74846"
      },
      "outputs": [
        {
          "ename": "ModuleNotFoundError",
          "evalue": "No module named 'geopandas'",
          "output_type": "error",
          "traceback": [
            "\u001b[1;31m---------------------------------------------------------------------------\u001b[0m",
            "\u001b[1;31mModuleNotFoundError\u001b[0m                       Traceback (most recent call last)",
            "Input \u001b[1;32mIn [46]\u001b[0m, in \u001b[0;36m<cell line: 1>\u001b[1;34m()\u001b[0m\n\u001b[1;32m----> 1\u001b[0m \u001b[38;5;28;01mimport\u001b[39;00m \u001b[38;5;21;01mgeopandas\u001b[39;00m \u001b[38;5;28;01mas\u001b[39;00m \u001b[38;5;21;01mgpd\u001b[39;00m\n\u001b[0;32m      2\u001b[0m geometry \u001b[38;5;241m=\u001b[39m [Point(xy) \u001b[38;5;28;01mfor\u001b[39;00m xy \u001b[38;5;129;01min\u001b[39;00m \u001b[38;5;28mzip\u001b[39m(df[\u001b[38;5;124m'\u001b[39m\u001b[38;5;124mlongitude\u001b[39m\u001b[38;5;124m'\u001b[39m], df[\u001b[38;5;124m'\u001b[39m\u001b[38;5;124mlatitude\u001b[39m\u001b[38;5;124m'\u001b[39m])]\n\u001b[0;32m      3\u001b[0m gdf \u001b[38;5;241m=\u001b[39m GeoDataFrame(df, geometry\u001b[38;5;241m=\u001b[39mgeometry)   \n",
            "\u001b[1;31mModuleNotFoundError\u001b[0m: No module named 'geopandas'"
          ]
        }
      ],
      "source": [
        "import geopandas as gpd\n",
        "geometry = [Point(xy) for xy in zip(df['longitude'], df['latitude'])]\n",
        "gdf = GeoDataFrame(df, geometry=geometry)   \n",
        "\n",
        "#this is a simple map that goes with geopandas\n",
        "world = gpd.read_file(gpd.datasets.get_path('naturalearth_lowres'))\n",
        "gdf.plot(ax=world.plot(figsize=(10, 6)), marker='o', color='red', markersize=15);"
      ]
    },
    {
      "cell_type": "code",
      "execution_count": null,
      "id": "10c287f3",
      "metadata": {
        "id": "10c287f3"
      },
      "outputs": [],
      "source": []
    },
    {
      "cell_type": "code",
      "execution_count": null,
      "id": "594218db",
      "metadata": {
        "id": "594218db"
      },
      "outputs": [],
      "source": []
    },
    {
      "cell_type": "code",
      "execution_count": null,
      "id": "ee91c61a",
      "metadata": {
        "id": "ee91c61a"
      },
      "outputs": [],
      "source": [
        "# grid data processing"
      ]
    },
    {
      "cell_type": "code",
      "execution_count": null,
      "id": "766c51e5",
      "metadata": {
        "id": "766c51e5"
      },
      "outputs": [],
      "source": [
        "import pandas as pd"
      ]
    },
    {
      "cell_type": "code",
      "execution_count": null,
      "id": "3cd0e209",
      "metadata": {
        "id": "3cd0e209"
      },
      "outputs": [],
      "source": [
        "df=pd.read_csv('D:/Dis/GIS model/processed/TN402DZ.csv')"
      ]
    },
    {
      "cell_type": "code",
      "execution_count": null,
      "id": "e00c4fe9",
      "metadata": {
        "id": "e00c4fe9"
      },
      "outputs": [],
      "source": [
        "#df1 = df.loc[df['time'].str.contains(\"min|mins\", case=False)]"
      ]
    },
    {
      "cell_type": "code",
      "execution_count": null,
      "id": "17ff327f",
      "metadata": {
        "id": "17ff327f",
        "outputId": "997ac27d-faf5-42e4-8bb5-16bf79de550e"
      },
      "outputs": [
        {
          "data": {
            "text/html": [
              "<div>\n",
              "<style scoped>\n",
              "    .dataframe tbody tr th:only-of-type {\n",
              "        vertical-align: middle;\n",
              "    }\n",
              "\n",
              "    .dataframe tbody tr th {\n",
              "        vertical-align: top;\n",
              "    }\n",
              "\n",
              "    .dataframe thead th {\n",
              "        text-align: right;\n",
              "    }\n",
              "</style>\n",
              "<table border=\"1\" class=\"dataframe\">\n",
              "  <thead>\n",
              "    <tr style=\"text-align: right;\">\n",
              "      <th></th>\n",
              "      <th>Unnamed: 0</th>\n",
              "      <th>lat</th>\n",
              "      <th>lon</th>\n",
              "      <th>distance</th>\n",
              "      <th>time</th>\n",
              "      <th>dist</th>\n",
              "      <th>mins</th>\n",
              "    </tr>\n",
              "  </thead>\n",
              "  <tbody>\n",
              "    <tr>\n",
              "      <th>0</th>\n",
              "      <td>0</td>\n",
              "      <td>52.081379</td>\n",
              "      <td>-0.951754</td>\n",
              "      <td>146 mi</td>\n",
              "      <td>2 hours 52 mins</td>\n",
              "      <td>146.0</td>\n",
              "      <td>s 52 mins</td>\n",
              "    </tr>\n",
              "    <tr>\n",
              "      <th>1</th>\n",
              "      <td>1</td>\n",
              "      <td>52.081379</td>\n",
              "      <td>-0.933767</td>\n",
              "      <td>144 mi</td>\n",
              "      <td>2 hours 49 mins</td>\n",
              "      <td>144.0</td>\n",
              "      <td>s 49 mins</td>\n",
              "    </tr>\n",
              "    <tr>\n",
              "      <th>2</th>\n",
              "      <td>2</td>\n",
              "      <td>52.063393</td>\n",
              "      <td>-1.041686</td>\n",
              "      <td>151 mi</td>\n",
              "      <td>2 hours 52 mins</td>\n",
              "      <td>151.0</td>\n",
              "      <td>s 52 mins</td>\n",
              "    </tr>\n",
              "    <tr>\n",
              "      <th>3</th>\n",
              "      <td>3</td>\n",
              "      <td>52.063393</td>\n",
              "      <td>-1.023699</td>\n",
              "      <td>151 mi</td>\n",
              "      <td>2 hours 49 mins</td>\n",
              "      <td>151.0</td>\n",
              "      <td>s 49 mins</td>\n",
              "    </tr>\n",
              "    <tr>\n",
              "      <th>4</th>\n",
              "      <td>4</td>\n",
              "      <td>52.063393</td>\n",
              "      <td>-1.005713</td>\n",
              "      <td>151 mi</td>\n",
              "      <td>2 hours 54 mins</td>\n",
              "      <td>151.0</td>\n",
              "      <td>s 54 mins</td>\n",
              "    </tr>\n",
              "    <tr>\n",
              "      <th>...</th>\n",
              "      <td>...</td>\n",
              "      <td>...</td>\n",
              "      <td>...</td>\n",
              "      <td>...</td>\n",
              "      <td>...</td>\n",
              "      <td>...</td>\n",
              "      <td>...</td>\n",
              "    </tr>\n",
              "    <tr>\n",
              "      <th>6597</th>\n",
              "      <td>6597</td>\n",
              "      <td>50.732399</td>\n",
              "      <td>0.253338</td>\n",
              "      <td>15.9 mi</td>\n",
              "      <td>36 mins</td>\n",
              "      <td>15.0</td>\n",
              "      <td>36 mins</td>\n",
              "    </tr>\n",
              "    <tr>\n",
              "      <th>6598</th>\n",
              "      <td>6598</td>\n",
              "      <td>50.732399</td>\n",
              "      <td>0.271325</td>\n",
              "      <td>15.7 mi</td>\n",
              "      <td>36 mins</td>\n",
              "      <td>15.0</td>\n",
              "      <td>36 mins</td>\n",
              "    </tr>\n",
              "    <tr>\n",
              "      <th>6599</th>\n",
              "      <td>6599</td>\n",
              "      <td>50.714413</td>\n",
              "      <td>-1.599266</td>\n",
              "      <td>122 mi</td>\n",
              "      <td>2 hours 50 mins</td>\n",
              "      <td>122.0</td>\n",
              "      <td>s 50 mins</td>\n",
              "    </tr>\n",
              "    <tr>\n",
              "      <th>6600</th>\n",
              "      <td>6600</td>\n",
              "      <td>50.714413</td>\n",
              "      <td>-1.581279</td>\n",
              "      <td>122 mi</td>\n",
              "      <td>2 hours 52 mins</td>\n",
              "      <td>122.0</td>\n",
              "      <td>s 52 mins</td>\n",
              "    </tr>\n",
              "    <tr>\n",
              "      <th>6601</th>\n",
              "      <td>6601</td>\n",
              "      <td>50.714413</td>\n",
              "      <td>-0.789876</td>\n",
              "      <td>71.2 mi</td>\n",
              "      <td>1 hour 51 mins</td>\n",
              "      <td>71.0</td>\n",
              "      <td>r 51 mins</td>\n",
              "    </tr>\n",
              "  </tbody>\n",
              "</table>\n",
              "<p>6602 rows × 7 columns</p>\n",
              "</div>"
            ],
            "text/plain": [
              "      Unnamed: 0        lat       lon distance             time   dist  \\\n",
              "0              0  52.081379 -0.951754   146 mi  2 hours 52 mins  146.0   \n",
              "1              1  52.081379 -0.933767   144 mi  2 hours 49 mins  144.0   \n",
              "2              2  52.063393 -1.041686   151 mi  2 hours 52 mins  151.0   \n",
              "3              3  52.063393 -1.023699   151 mi  2 hours 49 mins  151.0   \n",
              "4              4  52.063393 -1.005713   151 mi  2 hours 54 mins  151.0   \n",
              "...          ...        ...       ...      ...              ...    ...   \n",
              "6597        6597  50.732399  0.253338  15.9 mi          36 mins   15.0   \n",
              "6598        6598  50.732399  0.271325  15.7 mi          36 mins   15.0   \n",
              "6599        6599  50.714413 -1.599266   122 mi  2 hours 50 mins  122.0   \n",
              "6600        6600  50.714413 -1.581279   122 mi  2 hours 52 mins  122.0   \n",
              "6601        6601  50.714413 -0.789876  71.2 mi   1 hour 51 mins   71.0   \n",
              "\n",
              "           mins  \n",
              "0     s 52 mins  \n",
              "1     s 49 mins  \n",
              "2     s 52 mins  \n",
              "3     s 49 mins  \n",
              "4     s 54 mins  \n",
              "...         ...  \n",
              "6597    36 mins  \n",
              "6598    36 mins  \n",
              "6599  s 50 mins  \n",
              "6600  s 52 mins  \n",
              "6601  r 51 mins  \n",
              "\n",
              "[6602 rows x 7 columns]"
            ]
          },
          "execution_count": 403,
          "metadata": {},
          "output_type": "execute_result"
        }
      ],
      "source": [
        "df['mins'] = df.time.astype(str).str[-9:]\n",
        "df"
      ]
    },
    {
      "cell_type": "code",
      "execution_count": null,
      "id": "7a85b65f",
      "metadata": {
        "id": "7a85b65f",
        "outputId": "60dd11fb-397d-4c95-f380-0f9d73cd07b0"
      },
      "outputs": [
        {
          "data": {
            "text/html": [
              "<div>\n",
              "<style scoped>\n",
              "    .dataframe tbody tr th:only-of-type {\n",
              "        vertical-align: middle;\n",
              "    }\n",
              "\n",
              "    .dataframe tbody tr th {\n",
              "        vertical-align: top;\n",
              "    }\n",
              "\n",
              "    .dataframe thead th {\n",
              "        text-align: right;\n",
              "    }\n",
              "</style>\n",
              "<table border=\"1\" class=\"dataframe\">\n",
              "  <thead>\n",
              "    <tr style=\"text-align: right;\">\n",
              "      <th></th>\n",
              "      <th>Unnamed: 0</th>\n",
              "      <th>lat</th>\n",
              "      <th>lon</th>\n",
              "      <th>distance</th>\n",
              "      <th>time</th>\n",
              "      <th>dist</th>\n",
              "      <th>mins</th>\n",
              "      <th>min</th>\n",
              "    </tr>\n",
              "  </thead>\n",
              "  <tbody>\n",
              "    <tr>\n",
              "      <th>0</th>\n",
              "      <td>0</td>\n",
              "      <td>52.081379</td>\n",
              "      <td>-0.951754</td>\n",
              "      <td>146 mi</td>\n",
              "      <td>2 hours 52 mins</td>\n",
              "      <td>146.0</td>\n",
              "      <td>s 52 mins</td>\n",
              "      <td>52.0</td>\n",
              "    </tr>\n",
              "    <tr>\n",
              "      <th>1</th>\n",
              "      <td>1</td>\n",
              "      <td>52.081379</td>\n",
              "      <td>-0.933767</td>\n",
              "      <td>144 mi</td>\n",
              "      <td>2 hours 49 mins</td>\n",
              "      <td>144.0</td>\n",
              "      <td>s 49 mins</td>\n",
              "      <td>49.0</td>\n",
              "    </tr>\n",
              "    <tr>\n",
              "      <th>2</th>\n",
              "      <td>2</td>\n",
              "      <td>52.063393</td>\n",
              "      <td>-1.041686</td>\n",
              "      <td>151 mi</td>\n",
              "      <td>2 hours 52 mins</td>\n",
              "      <td>151.0</td>\n",
              "      <td>s 52 mins</td>\n",
              "      <td>52.0</td>\n",
              "    </tr>\n",
              "    <tr>\n",
              "      <th>3</th>\n",
              "      <td>3</td>\n",
              "      <td>52.063393</td>\n",
              "      <td>-1.023699</td>\n",
              "      <td>151 mi</td>\n",
              "      <td>2 hours 49 mins</td>\n",
              "      <td>151.0</td>\n",
              "      <td>s 49 mins</td>\n",
              "      <td>49.0</td>\n",
              "    </tr>\n",
              "    <tr>\n",
              "      <th>4</th>\n",
              "      <td>4</td>\n",
              "      <td>52.063393</td>\n",
              "      <td>-1.005713</td>\n",
              "      <td>151 mi</td>\n",
              "      <td>2 hours 54 mins</td>\n",
              "      <td>151.0</td>\n",
              "      <td>s 54 mins</td>\n",
              "      <td>54.0</td>\n",
              "    </tr>\n",
              "    <tr>\n",
              "      <th>...</th>\n",
              "      <td>...</td>\n",
              "      <td>...</td>\n",
              "      <td>...</td>\n",
              "      <td>...</td>\n",
              "      <td>...</td>\n",
              "      <td>...</td>\n",
              "      <td>...</td>\n",
              "      <td>...</td>\n",
              "    </tr>\n",
              "    <tr>\n",
              "      <th>6597</th>\n",
              "      <td>6597</td>\n",
              "      <td>50.732399</td>\n",
              "      <td>0.253338</td>\n",
              "      <td>15.9 mi</td>\n",
              "      <td>36 mins</td>\n",
              "      <td>15.0</td>\n",
              "      <td>36 mins</td>\n",
              "      <td>36.0</td>\n",
              "    </tr>\n",
              "    <tr>\n",
              "      <th>6598</th>\n",
              "      <td>6598</td>\n",
              "      <td>50.732399</td>\n",
              "      <td>0.271325</td>\n",
              "      <td>15.7 mi</td>\n",
              "      <td>36 mins</td>\n",
              "      <td>15.0</td>\n",
              "      <td>36 mins</td>\n",
              "      <td>36.0</td>\n",
              "    </tr>\n",
              "    <tr>\n",
              "      <th>6599</th>\n",
              "      <td>6599</td>\n",
              "      <td>50.714413</td>\n",
              "      <td>-1.599266</td>\n",
              "      <td>122 mi</td>\n",
              "      <td>2 hours 50 mins</td>\n",
              "      <td>122.0</td>\n",
              "      <td>s 50 mins</td>\n",
              "      <td>50.0</td>\n",
              "    </tr>\n",
              "    <tr>\n",
              "      <th>6600</th>\n",
              "      <td>6600</td>\n",
              "      <td>50.714413</td>\n",
              "      <td>-1.581279</td>\n",
              "      <td>122 mi</td>\n",
              "      <td>2 hours 52 mins</td>\n",
              "      <td>122.0</td>\n",
              "      <td>s 52 mins</td>\n",
              "      <td>52.0</td>\n",
              "    </tr>\n",
              "    <tr>\n",
              "      <th>6601</th>\n",
              "      <td>6601</td>\n",
              "      <td>50.714413</td>\n",
              "      <td>-0.789876</td>\n",
              "      <td>71.2 mi</td>\n",
              "      <td>1 hour 51 mins</td>\n",
              "      <td>71.0</td>\n",
              "      <td>r 51 mins</td>\n",
              "      <td>51.0</td>\n",
              "    </tr>\n",
              "  </tbody>\n",
              "</table>\n",
              "<p>6602 rows × 8 columns</p>\n",
              "</div>"
            ],
            "text/plain": [
              "      Unnamed: 0        lat       lon distance             time   dist  \\\n",
              "0              0  52.081379 -0.951754   146 mi  2 hours 52 mins  146.0   \n",
              "1              1  52.081379 -0.933767   144 mi  2 hours 49 mins  144.0   \n",
              "2              2  52.063393 -1.041686   151 mi  2 hours 52 mins  151.0   \n",
              "3              3  52.063393 -1.023699   151 mi  2 hours 49 mins  151.0   \n",
              "4              4  52.063393 -1.005713   151 mi  2 hours 54 mins  151.0   \n",
              "...          ...        ...       ...      ...              ...    ...   \n",
              "6597        6597  50.732399  0.253338  15.9 mi          36 mins   15.0   \n",
              "6598        6598  50.732399  0.271325  15.7 mi          36 mins   15.0   \n",
              "6599        6599  50.714413 -1.599266   122 mi  2 hours 50 mins  122.0   \n",
              "6600        6600  50.714413 -1.581279   122 mi  2 hours 52 mins  122.0   \n",
              "6601        6601  50.714413 -0.789876  71.2 mi   1 hour 51 mins   71.0   \n",
              "\n",
              "           mins   min  \n",
              "0     s 52 mins  52.0  \n",
              "1     s 49 mins  49.0  \n",
              "2     s 52 mins  52.0  \n",
              "3     s 49 mins  49.0  \n",
              "4     s 54 mins  54.0  \n",
              "...         ...   ...  \n",
              "6597    36 mins  36.0  \n",
              "6598    36 mins  36.0  \n",
              "6599  s 50 mins  50.0  \n",
              "6600  s 52 mins  52.0  \n",
              "6601  r 51 mins  51.0  \n",
              "\n",
              "[6602 rows x 8 columns]"
            ]
          },
          "execution_count": 404,
          "metadata": {},
          "output_type": "execute_result"
        }
      ],
      "source": [
        "df['min']=df['mins'].str.extract('(\\d+)').astype(float)\n",
        "df"
      ]
    },
    {
      "cell_type": "code",
      "execution_count": null,
      "id": "2a740819",
      "metadata": {
        "id": "2a740819",
        "outputId": "88846fce-cf6b-48dc-b1a9-58526ce4f8ba"
      },
      "outputs": [
        {
          "data": {
            "text/html": [
              "<div>\n",
              "<style scoped>\n",
              "    .dataframe tbody tr th:only-of-type {\n",
              "        vertical-align: middle;\n",
              "    }\n",
              "\n",
              "    .dataframe tbody tr th {\n",
              "        vertical-align: top;\n",
              "    }\n",
              "\n",
              "    .dataframe thead th {\n",
              "        text-align: right;\n",
              "    }\n",
              "</style>\n",
              "<table border=\"1\" class=\"dataframe\">\n",
              "  <thead>\n",
              "    <tr style=\"text-align: right;\">\n",
              "      <th></th>\n",
              "      <th>Unnamed: 0</th>\n",
              "      <th>lat</th>\n",
              "      <th>lon</th>\n",
              "      <th>distance</th>\n",
              "      <th>time</th>\n",
              "      <th>dist</th>\n",
              "      <th>mins</th>\n",
              "      <th>min</th>\n",
              "    </tr>\n",
              "  </thead>\n",
              "  <tbody>\n",
              "    <tr>\n",
              "      <th>0</th>\n",
              "      <td>0</td>\n",
              "      <td>52.081379</td>\n",
              "      <td>-0.951754</td>\n",
              "      <td>146 mi</td>\n",
              "      <td>2 hours 52 mins</td>\n",
              "      <td>146.0</td>\n",
              "      <td>s 52 mins</td>\n",
              "      <td>52.0</td>\n",
              "    </tr>\n",
              "    <tr>\n",
              "      <th>1</th>\n",
              "      <td>1</td>\n",
              "      <td>52.081379</td>\n",
              "      <td>-0.933767</td>\n",
              "      <td>144 mi</td>\n",
              "      <td>2 hours 49 mins</td>\n",
              "      <td>144.0</td>\n",
              "      <td>s 49 mins</td>\n",
              "      <td>49.0</td>\n",
              "    </tr>\n",
              "    <tr>\n",
              "      <th>2</th>\n",
              "      <td>2</td>\n",
              "      <td>52.063393</td>\n",
              "      <td>-1.041686</td>\n",
              "      <td>151 mi</td>\n",
              "      <td>2 hours 52 mins</td>\n",
              "      <td>151.0</td>\n",
              "      <td>s 52 mins</td>\n",
              "      <td>52.0</td>\n",
              "    </tr>\n",
              "    <tr>\n",
              "      <th>3</th>\n",
              "      <td>3</td>\n",
              "      <td>52.063393</td>\n",
              "      <td>-1.023699</td>\n",
              "      <td>151 mi</td>\n",
              "      <td>2 hours 49 mins</td>\n",
              "      <td>151.0</td>\n",
              "      <td>s 49 mins</td>\n",
              "      <td>49.0</td>\n",
              "    </tr>\n",
              "    <tr>\n",
              "      <th>4</th>\n",
              "      <td>4</td>\n",
              "      <td>52.063393</td>\n",
              "      <td>-1.005713</td>\n",
              "      <td>151 mi</td>\n",
              "      <td>2 hours 54 mins</td>\n",
              "      <td>151.0</td>\n",
              "      <td>s 54 mins</td>\n",
              "      <td>54.0</td>\n",
              "    </tr>\n",
              "    <tr>\n",
              "      <th>...</th>\n",
              "      <td>...</td>\n",
              "      <td>...</td>\n",
              "      <td>...</td>\n",
              "      <td>...</td>\n",
              "      <td>...</td>\n",
              "      <td>...</td>\n",
              "      <td>...</td>\n",
              "      <td>...</td>\n",
              "    </tr>\n",
              "    <tr>\n",
              "      <th>6592</th>\n",
              "      <td>6592</td>\n",
              "      <td>50.732399</td>\n",
              "      <td>-0.789876</td>\n",
              "      <td>70.8 mi</td>\n",
              "      <td>1 hour 51 mins</td>\n",
              "      <td>70.0</td>\n",
              "      <td>r 51 mins</td>\n",
              "      <td>51.0</td>\n",
              "    </tr>\n",
              "    <tr>\n",
              "      <th>6593</th>\n",
              "      <td>6593</td>\n",
              "      <td>50.732399</td>\n",
              "      <td>-0.771889</td>\n",
              "      <td>70.8 mi</td>\n",
              "      <td>1 hour 50 mins</td>\n",
              "      <td>70.0</td>\n",
              "      <td>r 50 mins</td>\n",
              "      <td>50.0</td>\n",
              "    </tr>\n",
              "    <tr>\n",
              "      <th>6599</th>\n",
              "      <td>6599</td>\n",
              "      <td>50.714413</td>\n",
              "      <td>-1.599266</td>\n",
              "      <td>122 mi</td>\n",
              "      <td>2 hours 50 mins</td>\n",
              "      <td>122.0</td>\n",
              "      <td>s 50 mins</td>\n",
              "      <td>50.0</td>\n",
              "    </tr>\n",
              "    <tr>\n",
              "      <th>6600</th>\n",
              "      <td>6600</td>\n",
              "      <td>50.714413</td>\n",
              "      <td>-1.581279</td>\n",
              "      <td>122 mi</td>\n",
              "      <td>2 hours 52 mins</td>\n",
              "      <td>122.0</td>\n",
              "      <td>s 52 mins</td>\n",
              "      <td>52.0</td>\n",
              "    </tr>\n",
              "    <tr>\n",
              "      <th>6601</th>\n",
              "      <td>6601</td>\n",
              "      <td>50.714413</td>\n",
              "      <td>-0.789876</td>\n",
              "      <td>71.2 mi</td>\n",
              "      <td>1 hour 51 mins</td>\n",
              "      <td>71.0</td>\n",
              "      <td>r 51 mins</td>\n",
              "      <td>51.0</td>\n",
              "    </tr>\n",
              "  </tbody>\n",
              "</table>\n",
              "<p>5424 rows × 8 columns</p>\n",
              "</div>"
            ],
            "text/plain": [
              "      Unnamed: 0        lat       lon distance             time   dist  \\\n",
              "0              0  52.081379 -0.951754   146 mi  2 hours 52 mins  146.0   \n",
              "1              1  52.081379 -0.933767   144 mi  2 hours 49 mins  144.0   \n",
              "2              2  52.063393 -1.041686   151 mi  2 hours 52 mins  151.0   \n",
              "3              3  52.063393 -1.023699   151 mi  2 hours 49 mins  151.0   \n",
              "4              4  52.063393 -1.005713   151 mi  2 hours 54 mins  151.0   \n",
              "...          ...        ...       ...      ...              ...    ...   \n",
              "6592        6592  50.732399 -0.789876  70.8 mi   1 hour 51 mins   70.0   \n",
              "6593        6593  50.732399 -0.771889  70.8 mi   1 hour 50 mins   70.0   \n",
              "6599        6599  50.714413 -1.599266   122 mi  2 hours 50 mins  122.0   \n",
              "6600        6600  50.714413 -1.581279   122 mi  2 hours 52 mins  122.0   \n",
              "6601        6601  50.714413 -0.789876  71.2 mi   1 hour 51 mins   71.0   \n",
              "\n",
              "           mins   min  \n",
              "0     s 52 mins  52.0  \n",
              "1     s 49 mins  49.0  \n",
              "2     s 52 mins  52.0  \n",
              "3     s 49 mins  49.0  \n",
              "4     s 54 mins  54.0  \n",
              "...         ...   ...  \n",
              "6592  r 51 mins  51.0  \n",
              "6593  r 50 mins  50.0  \n",
              "6599  s 50 mins  50.0  \n",
              "6600  s 52 mins  52.0  \n",
              "6601  r 51 mins  51.0  \n",
              "\n",
              "[5424 rows x 8 columns]"
            ]
          },
          "execution_count": 405,
          "metadata": {},
          "output_type": "execute_result"
        }
      ],
      "source": [
        "df1=df.loc[df['time'].str.contains(\"hour|hours\", case=False)]\n",
        "df1"
      ]
    },
    {
      "cell_type": "code",
      "execution_count": null,
      "id": "5a60611b",
      "metadata": {
        "id": "5a60611b",
        "outputId": "3fe73223-4e25-4e83-d8c3-916aa3019fab"
      },
      "outputs": [
        {
          "name": "stderr",
          "output_type": "stream",
          "text": [
            "C:\\Users\\didar\\AppData\\Local\\Temp\\ipykernel_5472\\2666268926.py:1: SettingWithCopyWarning: \n",
            "A value is trying to be set on a copy of a slice from a DataFrame.\n",
            "Try using .loc[row_indexer,col_indexer] = value instead\n",
            "\n",
            "See the caveats in the documentation: https://pandas.pydata.org/pandas-docs/stable/user_guide/indexing.html#returning-a-view-versus-a-copy\n",
            "  df1['hours'] = df1.time.astype(str).str[:4]\n",
            "C:\\Users\\didar\\AppData\\Local\\Temp\\ipykernel_5472\\2666268926.py:2: SettingWithCopyWarning: \n",
            "A value is trying to be set on a copy of a slice from a DataFrame.\n",
            "Try using .loc[row_indexer,col_indexer] = value instead\n",
            "\n",
            "See the caveats in the documentation: https://pandas.pydata.org/pandas-docs/stable/user_guide/indexing.html#returning-a-view-versus-a-copy\n",
            "  df1['hour']=df1['hours'].str.extract('(\\d+)').astype(float)\n"
          ]
        }
      ],
      "source": [
        "df1['hours'] = df1.time.astype(str).str[:4]\n",
        "df1['hour']=df1['hours'].str.extract('(\\d+)').astype(float)\n"
      ]
    },
    {
      "cell_type": "code",
      "execution_count": null,
      "id": "bcba0cbe",
      "metadata": {
        "id": "bcba0cbe",
        "outputId": "42528d43-12ca-4aa5-9cf0-fa0e2f91f861"
      },
      "outputs": [
        {
          "data": {
            "text/html": [
              "<div>\n",
              "<style scoped>\n",
              "    .dataframe tbody tr th:only-of-type {\n",
              "        vertical-align: middle;\n",
              "    }\n",
              "\n",
              "    .dataframe tbody tr th {\n",
              "        vertical-align: top;\n",
              "    }\n",
              "\n",
              "    .dataframe thead th {\n",
              "        text-align: right;\n",
              "    }\n",
              "</style>\n",
              "<table border=\"1\" class=\"dataframe\">\n",
              "  <thead>\n",
              "    <tr style=\"text-align: right;\">\n",
              "      <th></th>\n",
              "      <th>Unnamed: 0</th>\n",
              "      <th>dist</th>\n",
              "      <th>hour</th>\n",
              "    </tr>\n",
              "  </thead>\n",
              "  <tbody>\n",
              "    <tr>\n",
              "      <th>0</th>\n",
              "      <td>0</td>\n",
              "      <td>146.0</td>\n",
              "      <td>2.0</td>\n",
              "    </tr>\n",
              "    <tr>\n",
              "      <th>1</th>\n",
              "      <td>1</td>\n",
              "      <td>144.0</td>\n",
              "      <td>2.0</td>\n",
              "    </tr>\n",
              "    <tr>\n",
              "      <th>2</th>\n",
              "      <td>2</td>\n",
              "      <td>151.0</td>\n",
              "      <td>2.0</td>\n",
              "    </tr>\n",
              "    <tr>\n",
              "      <th>3</th>\n",
              "      <td>3</td>\n",
              "      <td>151.0</td>\n",
              "      <td>2.0</td>\n",
              "    </tr>\n",
              "    <tr>\n",
              "      <th>4</th>\n",
              "      <td>4</td>\n",
              "      <td>151.0</td>\n",
              "      <td>2.0</td>\n",
              "    </tr>\n",
              "    <tr>\n",
              "      <th>...</th>\n",
              "      <td>...</td>\n",
              "      <td>...</td>\n",
              "      <td>...</td>\n",
              "    </tr>\n",
              "    <tr>\n",
              "      <th>6592</th>\n",
              "      <td>6592</td>\n",
              "      <td>70.0</td>\n",
              "      <td>1.0</td>\n",
              "    </tr>\n",
              "    <tr>\n",
              "      <th>6593</th>\n",
              "      <td>6593</td>\n",
              "      <td>70.0</td>\n",
              "      <td>1.0</td>\n",
              "    </tr>\n",
              "    <tr>\n",
              "      <th>6599</th>\n",
              "      <td>6599</td>\n",
              "      <td>122.0</td>\n",
              "      <td>2.0</td>\n",
              "    </tr>\n",
              "    <tr>\n",
              "      <th>6600</th>\n",
              "      <td>6600</td>\n",
              "      <td>122.0</td>\n",
              "      <td>2.0</td>\n",
              "    </tr>\n",
              "    <tr>\n",
              "      <th>6601</th>\n",
              "      <td>6601</td>\n",
              "      <td>71.0</td>\n",
              "      <td>1.0</td>\n",
              "    </tr>\n",
              "  </tbody>\n",
              "</table>\n",
              "<p>5424 rows × 3 columns</p>\n",
              "</div>"
            ],
            "text/plain": [
              "      Unnamed: 0   dist  hour\n",
              "0              0  146.0   2.0\n",
              "1              1  144.0   2.0\n",
              "2              2  151.0   2.0\n",
              "3              3  151.0   2.0\n",
              "4              4  151.0   2.0\n",
              "...          ...    ...   ...\n",
              "6592        6592   70.0   1.0\n",
              "6593        6593   70.0   1.0\n",
              "6599        6599  122.0   2.0\n",
              "6600        6600  122.0   2.0\n",
              "6601        6601   71.0   1.0\n",
              "\n",
              "[5424 rows x 3 columns]"
            ]
          },
          "execution_count": 407,
          "metadata": {},
          "output_type": "execute_result"
        }
      ],
      "source": [
        "df1 = df1.drop(columns=['lat', 'lon','distance','time','mins','min','hours'])\n",
        "df1"
      ]
    },
    {
      "cell_type": "code",
      "execution_count": null,
      "id": "1c334666",
      "metadata": {
        "id": "1c334666",
        "outputId": "1c1ef303-b96a-4e8d-c677-8b1f9d8bbd99"
      },
      "outputs": [
        {
          "data": {
            "text/html": [
              "<div>\n",
              "<style scoped>\n",
              "    .dataframe tbody tr th:only-of-type {\n",
              "        vertical-align: middle;\n",
              "    }\n",
              "\n",
              "    .dataframe tbody tr th {\n",
              "        vertical-align: top;\n",
              "    }\n",
              "\n",
              "    .dataframe thead th {\n",
              "        text-align: right;\n",
              "    }\n",
              "</style>\n",
              "<table border=\"1\" class=\"dataframe\">\n",
              "  <thead>\n",
              "    <tr style=\"text-align: right;\">\n",
              "      <th></th>\n",
              "      <th>Unnamed: 0</th>\n",
              "      <th>lat</th>\n",
              "      <th>lon</th>\n",
              "      <th>distance</th>\n",
              "      <th>time</th>\n",
              "      <th>dist</th>\n",
              "      <th>mins</th>\n",
              "      <th>min</th>\n",
              "      <th>Unnamed: 0</th>\n",
              "      <th>dist</th>\n",
              "      <th>hour</th>\n",
              "    </tr>\n",
              "  </thead>\n",
              "  <tbody>\n",
              "    <tr>\n",
              "      <th>0</th>\n",
              "      <td>0</td>\n",
              "      <td>52.081379</td>\n",
              "      <td>-0.951754</td>\n",
              "      <td>146 mi</td>\n",
              "      <td>2 hours 52 mins</td>\n",
              "      <td>146.0</td>\n",
              "      <td>s 52 mins</td>\n",
              "      <td>52.0</td>\n",
              "      <td>0.0</td>\n",
              "      <td>146.0</td>\n",
              "      <td>2.0</td>\n",
              "    </tr>\n",
              "    <tr>\n",
              "      <th>1</th>\n",
              "      <td>1</td>\n",
              "      <td>52.081379</td>\n",
              "      <td>-0.933767</td>\n",
              "      <td>144 mi</td>\n",
              "      <td>2 hours 49 mins</td>\n",
              "      <td>144.0</td>\n",
              "      <td>s 49 mins</td>\n",
              "      <td>49.0</td>\n",
              "      <td>1.0</td>\n",
              "      <td>144.0</td>\n",
              "      <td>2.0</td>\n",
              "    </tr>\n",
              "    <tr>\n",
              "      <th>2</th>\n",
              "      <td>2</td>\n",
              "      <td>52.063393</td>\n",
              "      <td>-1.041686</td>\n",
              "      <td>151 mi</td>\n",
              "      <td>2 hours 52 mins</td>\n",
              "      <td>151.0</td>\n",
              "      <td>s 52 mins</td>\n",
              "      <td>52.0</td>\n",
              "      <td>2.0</td>\n",
              "      <td>151.0</td>\n",
              "      <td>2.0</td>\n",
              "    </tr>\n",
              "    <tr>\n",
              "      <th>3</th>\n",
              "      <td>3</td>\n",
              "      <td>52.063393</td>\n",
              "      <td>-1.023699</td>\n",
              "      <td>151 mi</td>\n",
              "      <td>2 hours 49 mins</td>\n",
              "      <td>151.0</td>\n",
              "      <td>s 49 mins</td>\n",
              "      <td>49.0</td>\n",
              "      <td>3.0</td>\n",
              "      <td>151.0</td>\n",
              "      <td>2.0</td>\n",
              "    </tr>\n",
              "    <tr>\n",
              "      <th>4</th>\n",
              "      <td>4</td>\n",
              "      <td>52.063393</td>\n",
              "      <td>-1.005713</td>\n",
              "      <td>151 mi</td>\n",
              "      <td>2 hours 54 mins</td>\n",
              "      <td>151.0</td>\n",
              "      <td>s 54 mins</td>\n",
              "      <td>54.0</td>\n",
              "      <td>4.0</td>\n",
              "      <td>151.0</td>\n",
              "      <td>2.0</td>\n",
              "    </tr>\n",
              "    <tr>\n",
              "      <th>...</th>\n",
              "      <td>...</td>\n",
              "      <td>...</td>\n",
              "      <td>...</td>\n",
              "      <td>...</td>\n",
              "      <td>...</td>\n",
              "      <td>...</td>\n",
              "      <td>...</td>\n",
              "      <td>...</td>\n",
              "      <td>...</td>\n",
              "      <td>...</td>\n",
              "      <td>...</td>\n",
              "    </tr>\n",
              "    <tr>\n",
              "      <th>6597</th>\n",
              "      <td>6597</td>\n",
              "      <td>50.732399</td>\n",
              "      <td>0.253338</td>\n",
              "      <td>15.9 mi</td>\n",
              "      <td>36 mins</td>\n",
              "      <td>15.0</td>\n",
              "      <td>36 mins</td>\n",
              "      <td>36.0</td>\n",
              "      <td>NaN</td>\n",
              "      <td>NaN</td>\n",
              "      <td>NaN</td>\n",
              "    </tr>\n",
              "    <tr>\n",
              "      <th>6598</th>\n",
              "      <td>6598</td>\n",
              "      <td>50.732399</td>\n",
              "      <td>0.271325</td>\n",
              "      <td>15.7 mi</td>\n",
              "      <td>36 mins</td>\n",
              "      <td>15.0</td>\n",
              "      <td>36 mins</td>\n",
              "      <td>36.0</td>\n",
              "      <td>NaN</td>\n",
              "      <td>NaN</td>\n",
              "      <td>NaN</td>\n",
              "    </tr>\n",
              "    <tr>\n",
              "      <th>6599</th>\n",
              "      <td>6599</td>\n",
              "      <td>50.714413</td>\n",
              "      <td>-1.599266</td>\n",
              "      <td>122 mi</td>\n",
              "      <td>2 hours 50 mins</td>\n",
              "      <td>122.0</td>\n",
              "      <td>s 50 mins</td>\n",
              "      <td>50.0</td>\n",
              "      <td>6599.0</td>\n",
              "      <td>122.0</td>\n",
              "      <td>2.0</td>\n",
              "    </tr>\n",
              "    <tr>\n",
              "      <th>6600</th>\n",
              "      <td>6600</td>\n",
              "      <td>50.714413</td>\n",
              "      <td>-1.581279</td>\n",
              "      <td>122 mi</td>\n",
              "      <td>2 hours 52 mins</td>\n",
              "      <td>122.0</td>\n",
              "      <td>s 52 mins</td>\n",
              "      <td>52.0</td>\n",
              "      <td>6600.0</td>\n",
              "      <td>122.0</td>\n",
              "      <td>2.0</td>\n",
              "    </tr>\n",
              "    <tr>\n",
              "      <th>6601</th>\n",
              "      <td>6601</td>\n",
              "      <td>50.714413</td>\n",
              "      <td>-0.789876</td>\n",
              "      <td>71.2 mi</td>\n",
              "      <td>1 hour 51 mins</td>\n",
              "      <td>71.0</td>\n",
              "      <td>r 51 mins</td>\n",
              "      <td>51.0</td>\n",
              "      <td>6601.0</td>\n",
              "      <td>71.0</td>\n",
              "      <td>1.0</td>\n",
              "    </tr>\n",
              "  </tbody>\n",
              "</table>\n",
              "<p>6602 rows × 11 columns</p>\n",
              "</div>"
            ],
            "text/plain": [
              "      Unnamed: 0        lat       lon distance             time   dist  \\\n",
              "0              0  52.081379 -0.951754   146 mi  2 hours 52 mins  146.0   \n",
              "1              1  52.081379 -0.933767   144 mi  2 hours 49 mins  144.0   \n",
              "2              2  52.063393 -1.041686   151 mi  2 hours 52 mins  151.0   \n",
              "3              3  52.063393 -1.023699   151 mi  2 hours 49 mins  151.0   \n",
              "4              4  52.063393 -1.005713   151 mi  2 hours 54 mins  151.0   \n",
              "...          ...        ...       ...      ...              ...    ...   \n",
              "6597        6597  50.732399  0.253338  15.9 mi          36 mins   15.0   \n",
              "6598        6598  50.732399  0.271325  15.7 mi          36 mins   15.0   \n",
              "6599        6599  50.714413 -1.599266   122 mi  2 hours 50 mins  122.0   \n",
              "6600        6600  50.714413 -1.581279   122 mi  2 hours 52 mins  122.0   \n",
              "6601        6601  50.714413 -0.789876  71.2 mi   1 hour 51 mins   71.0   \n",
              "\n",
              "           mins   min  Unnamed: 0   dist  hour  \n",
              "0     s 52 mins  52.0         0.0  146.0   2.0  \n",
              "1     s 49 mins  49.0         1.0  144.0   2.0  \n",
              "2     s 52 mins  52.0         2.0  151.0   2.0  \n",
              "3     s 49 mins  49.0         3.0  151.0   2.0  \n",
              "4     s 54 mins  54.0         4.0  151.0   2.0  \n",
              "...         ...   ...         ...    ...   ...  \n",
              "6597    36 mins  36.0         NaN    NaN   NaN  \n",
              "6598    36 mins  36.0         NaN    NaN   NaN  \n",
              "6599  s 50 mins  50.0      6599.0  122.0   2.0  \n",
              "6600  s 52 mins  52.0      6600.0  122.0   2.0  \n",
              "6601  r 51 mins  51.0      6601.0   71.0   1.0  \n",
              "\n",
              "[6602 rows x 11 columns]"
            ]
          },
          "execution_count": 408,
          "metadata": {},
          "output_type": "execute_result"
        }
      ],
      "source": [
        "df3 = pd.concat([df, df1], axis=1)\n",
        "df3"
      ]
    },
    {
      "cell_type": "code",
      "execution_count": null,
      "id": "b0c8ca31",
      "metadata": {
        "id": "b0c8ca31",
        "outputId": "3d548d6e-a51c-4a7d-f34d-d5beb1672fa2"
      },
      "outputs": [
        {
          "data": {
            "text/html": [
              "<div>\n",
              "<style scoped>\n",
              "    .dataframe tbody tr th:only-of-type {\n",
              "        vertical-align: middle;\n",
              "    }\n",
              "\n",
              "    .dataframe tbody tr th {\n",
              "        vertical-align: top;\n",
              "    }\n",
              "\n",
              "    .dataframe thead th {\n",
              "        text-align: right;\n",
              "    }\n",
              "</style>\n",
              "<table border=\"1\" class=\"dataframe\">\n",
              "  <thead>\n",
              "    <tr style=\"text-align: right;\">\n",
              "      <th></th>\n",
              "      <th>Unnamed: 0</th>\n",
              "      <th>lat</th>\n",
              "      <th>lon</th>\n",
              "      <th>distance</th>\n",
              "      <th>time</th>\n",
              "      <th>dist</th>\n",
              "      <th>mins</th>\n",
              "      <th>min</th>\n",
              "      <th>Unnamed: 0</th>\n",
              "      <th>dist</th>\n",
              "      <th>hour</th>\n",
              "    </tr>\n",
              "  </thead>\n",
              "  <tbody>\n",
              "    <tr>\n",
              "      <th>0</th>\n",
              "      <td>0</td>\n",
              "      <td>52.081379</td>\n",
              "      <td>-0.951754</td>\n",
              "      <td>146 mi</td>\n",
              "      <td>2 hours 52 mins</td>\n",
              "      <td>146.0</td>\n",
              "      <td>s 52 mins</td>\n",
              "      <td>52.0</td>\n",
              "      <td>0.0</td>\n",
              "      <td>146.0</td>\n",
              "      <td>120.0</td>\n",
              "    </tr>\n",
              "    <tr>\n",
              "      <th>1</th>\n",
              "      <td>1</td>\n",
              "      <td>52.081379</td>\n",
              "      <td>-0.933767</td>\n",
              "      <td>144 mi</td>\n",
              "      <td>2 hours 49 mins</td>\n",
              "      <td>144.0</td>\n",
              "      <td>s 49 mins</td>\n",
              "      <td>49.0</td>\n",
              "      <td>1.0</td>\n",
              "      <td>144.0</td>\n",
              "      <td>120.0</td>\n",
              "    </tr>\n",
              "    <tr>\n",
              "      <th>2</th>\n",
              "      <td>2</td>\n",
              "      <td>52.063393</td>\n",
              "      <td>-1.041686</td>\n",
              "      <td>151 mi</td>\n",
              "      <td>2 hours 52 mins</td>\n",
              "      <td>151.0</td>\n",
              "      <td>s 52 mins</td>\n",
              "      <td>52.0</td>\n",
              "      <td>2.0</td>\n",
              "      <td>151.0</td>\n",
              "      <td>120.0</td>\n",
              "    </tr>\n",
              "    <tr>\n",
              "      <th>3</th>\n",
              "      <td>3</td>\n",
              "      <td>52.063393</td>\n",
              "      <td>-1.023699</td>\n",
              "      <td>151 mi</td>\n",
              "      <td>2 hours 49 mins</td>\n",
              "      <td>151.0</td>\n",
              "      <td>s 49 mins</td>\n",
              "      <td>49.0</td>\n",
              "      <td>3.0</td>\n",
              "      <td>151.0</td>\n",
              "      <td>120.0</td>\n",
              "    </tr>\n",
              "    <tr>\n",
              "      <th>4</th>\n",
              "      <td>4</td>\n",
              "      <td>52.063393</td>\n",
              "      <td>-1.005713</td>\n",
              "      <td>151 mi</td>\n",
              "      <td>2 hours 54 mins</td>\n",
              "      <td>151.0</td>\n",
              "      <td>s 54 mins</td>\n",
              "      <td>54.0</td>\n",
              "      <td>4.0</td>\n",
              "      <td>151.0</td>\n",
              "      <td>120.0</td>\n",
              "    </tr>\n",
              "    <tr>\n",
              "      <th>...</th>\n",
              "      <td>...</td>\n",
              "      <td>...</td>\n",
              "      <td>...</td>\n",
              "      <td>...</td>\n",
              "      <td>...</td>\n",
              "      <td>...</td>\n",
              "      <td>...</td>\n",
              "      <td>...</td>\n",
              "      <td>...</td>\n",
              "      <td>...</td>\n",
              "      <td>...</td>\n",
              "    </tr>\n",
              "    <tr>\n",
              "      <th>6597</th>\n",
              "      <td>6597</td>\n",
              "      <td>50.732399</td>\n",
              "      <td>0.253338</td>\n",
              "      <td>15.9 mi</td>\n",
              "      <td>36 mins</td>\n",
              "      <td>15.0</td>\n",
              "      <td>36 mins</td>\n",
              "      <td>36.0</td>\n",
              "      <td>NaN</td>\n",
              "      <td>NaN</td>\n",
              "      <td>0.0</td>\n",
              "    </tr>\n",
              "    <tr>\n",
              "      <th>6598</th>\n",
              "      <td>6598</td>\n",
              "      <td>50.732399</td>\n",
              "      <td>0.271325</td>\n",
              "      <td>15.7 mi</td>\n",
              "      <td>36 mins</td>\n",
              "      <td>15.0</td>\n",
              "      <td>36 mins</td>\n",
              "      <td>36.0</td>\n",
              "      <td>NaN</td>\n",
              "      <td>NaN</td>\n",
              "      <td>0.0</td>\n",
              "    </tr>\n",
              "    <tr>\n",
              "      <th>6599</th>\n",
              "      <td>6599</td>\n",
              "      <td>50.714413</td>\n",
              "      <td>-1.599266</td>\n",
              "      <td>122 mi</td>\n",
              "      <td>2 hours 50 mins</td>\n",
              "      <td>122.0</td>\n",
              "      <td>s 50 mins</td>\n",
              "      <td>50.0</td>\n",
              "      <td>6599.0</td>\n",
              "      <td>122.0</td>\n",
              "      <td>120.0</td>\n",
              "    </tr>\n",
              "    <tr>\n",
              "      <th>6600</th>\n",
              "      <td>6600</td>\n",
              "      <td>50.714413</td>\n",
              "      <td>-1.581279</td>\n",
              "      <td>122 mi</td>\n",
              "      <td>2 hours 52 mins</td>\n",
              "      <td>122.0</td>\n",
              "      <td>s 52 mins</td>\n",
              "      <td>52.0</td>\n",
              "      <td>6600.0</td>\n",
              "      <td>122.0</td>\n",
              "      <td>120.0</td>\n",
              "    </tr>\n",
              "    <tr>\n",
              "      <th>6601</th>\n",
              "      <td>6601</td>\n",
              "      <td>50.714413</td>\n",
              "      <td>-0.789876</td>\n",
              "      <td>71.2 mi</td>\n",
              "      <td>1 hour 51 mins</td>\n",
              "      <td>71.0</td>\n",
              "      <td>r 51 mins</td>\n",
              "      <td>51.0</td>\n",
              "      <td>6601.0</td>\n",
              "      <td>71.0</td>\n",
              "      <td>60.0</td>\n",
              "    </tr>\n",
              "  </tbody>\n",
              "</table>\n",
              "<p>6602 rows × 11 columns</p>\n",
              "</div>"
            ],
            "text/plain": [
              "      Unnamed: 0        lat       lon distance             time   dist  \\\n",
              "0              0  52.081379 -0.951754   146 mi  2 hours 52 mins  146.0   \n",
              "1              1  52.081379 -0.933767   144 mi  2 hours 49 mins  144.0   \n",
              "2              2  52.063393 -1.041686   151 mi  2 hours 52 mins  151.0   \n",
              "3              3  52.063393 -1.023699   151 mi  2 hours 49 mins  151.0   \n",
              "4              4  52.063393 -1.005713   151 mi  2 hours 54 mins  151.0   \n",
              "...          ...        ...       ...      ...              ...    ...   \n",
              "6597        6597  50.732399  0.253338  15.9 mi          36 mins   15.0   \n",
              "6598        6598  50.732399  0.271325  15.7 mi          36 mins   15.0   \n",
              "6599        6599  50.714413 -1.599266   122 mi  2 hours 50 mins  122.0   \n",
              "6600        6600  50.714413 -1.581279   122 mi  2 hours 52 mins  122.0   \n",
              "6601        6601  50.714413 -0.789876  71.2 mi   1 hour 51 mins   71.0   \n",
              "\n",
              "           mins   min  Unnamed: 0   dist   hour  \n",
              "0     s 52 mins  52.0         0.0  146.0  120.0  \n",
              "1     s 49 mins  49.0         1.0  144.0  120.0  \n",
              "2     s 52 mins  52.0         2.0  151.0  120.0  \n",
              "3     s 49 mins  49.0         3.0  151.0  120.0  \n",
              "4     s 54 mins  54.0         4.0  151.0  120.0  \n",
              "...         ...   ...         ...    ...    ...  \n",
              "6597    36 mins  36.0         NaN    NaN    0.0  \n",
              "6598    36 mins  36.0         NaN    NaN    0.0  \n",
              "6599  s 50 mins  50.0      6599.0  122.0  120.0  \n",
              "6600  s 52 mins  52.0      6600.0  122.0  120.0  \n",
              "6601  r 51 mins  51.0      6601.0   71.0   60.0  \n",
              "\n",
              "[6602 rows x 11 columns]"
            ]
          },
          "execution_count": 409,
          "metadata": {},
          "output_type": "execute_result"
        }
      ],
      "source": [
        "df3['hour'] = df3['hour'].fillna(0)\n",
        "df3['hour'] = df3['hour']*60 # converting hours to minute\n",
        "df3"
      ]
    },
    {
      "cell_type": "code",
      "execution_count": null,
      "id": "7fcbf95d",
      "metadata": {
        "id": "7fcbf95d",
        "outputId": "441a188d-3c3c-4c69-b875-a9db048497de"
      },
      "outputs": [
        {
          "data": {
            "text/plain": [
              "False"
            ]
          },
          "execution_count": 410,
          "metadata": {},
          "output_type": "execute_result"
        }
      ],
      "source": [
        "df3['min'].isnull().values.any()"
      ]
    },
    {
      "cell_type": "code",
      "execution_count": null,
      "id": "6b01b2b0",
      "metadata": {
        "id": "6b01b2b0",
        "outputId": "52f1ecf8-d457-4a84-8a9e-d08b87233125"
      },
      "outputs": [
        {
          "data": {
            "text/html": [
              "<div>\n",
              "<style scoped>\n",
              "    .dataframe tbody tr th:only-of-type {\n",
              "        vertical-align: middle;\n",
              "    }\n",
              "\n",
              "    .dataframe tbody tr th {\n",
              "        vertical-align: top;\n",
              "    }\n",
              "\n",
              "    .dataframe thead th {\n",
              "        text-align: right;\n",
              "    }\n",
              "</style>\n",
              "<table border=\"1\" class=\"dataframe\">\n",
              "  <thead>\n",
              "    <tr style=\"text-align: right;\">\n",
              "      <th></th>\n",
              "      <th>Unnamed: 0</th>\n",
              "      <th>lat</th>\n",
              "      <th>lon</th>\n",
              "      <th>distance</th>\n",
              "      <th>time</th>\n",
              "      <th>dist</th>\n",
              "      <th>mins</th>\n",
              "      <th>min</th>\n",
              "      <th>Unnamed: 0</th>\n",
              "      <th>dist</th>\n",
              "      <th>hour</th>\n",
              "      <th>travel_time</th>\n",
              "    </tr>\n",
              "  </thead>\n",
              "  <tbody>\n",
              "    <tr>\n",
              "      <th>0</th>\n",
              "      <td>0</td>\n",
              "      <td>52.081379</td>\n",
              "      <td>-0.951754</td>\n",
              "      <td>146 mi</td>\n",
              "      <td>2 hours 52 mins</td>\n",
              "      <td>146.0</td>\n",
              "      <td>s 52 mins</td>\n",
              "      <td>52.0</td>\n",
              "      <td>0.0</td>\n",
              "      <td>146.0</td>\n",
              "      <td>120.0</td>\n",
              "      <td>172</td>\n",
              "    </tr>\n",
              "    <tr>\n",
              "      <th>1</th>\n",
              "      <td>1</td>\n",
              "      <td>52.081379</td>\n",
              "      <td>-0.933767</td>\n",
              "      <td>144 mi</td>\n",
              "      <td>2 hours 49 mins</td>\n",
              "      <td>144.0</td>\n",
              "      <td>s 49 mins</td>\n",
              "      <td>49.0</td>\n",
              "      <td>1.0</td>\n",
              "      <td>144.0</td>\n",
              "      <td>120.0</td>\n",
              "      <td>169</td>\n",
              "    </tr>\n",
              "    <tr>\n",
              "      <th>2</th>\n",
              "      <td>2</td>\n",
              "      <td>52.063393</td>\n",
              "      <td>-1.041686</td>\n",
              "      <td>151 mi</td>\n",
              "      <td>2 hours 52 mins</td>\n",
              "      <td>151.0</td>\n",
              "      <td>s 52 mins</td>\n",
              "      <td>52.0</td>\n",
              "      <td>2.0</td>\n",
              "      <td>151.0</td>\n",
              "      <td>120.0</td>\n",
              "      <td>172</td>\n",
              "    </tr>\n",
              "    <tr>\n",
              "      <th>3</th>\n",
              "      <td>3</td>\n",
              "      <td>52.063393</td>\n",
              "      <td>-1.023699</td>\n",
              "      <td>151 mi</td>\n",
              "      <td>2 hours 49 mins</td>\n",
              "      <td>151.0</td>\n",
              "      <td>s 49 mins</td>\n",
              "      <td>49.0</td>\n",
              "      <td>3.0</td>\n",
              "      <td>151.0</td>\n",
              "      <td>120.0</td>\n",
              "      <td>169</td>\n",
              "    </tr>\n",
              "    <tr>\n",
              "      <th>4</th>\n",
              "      <td>4</td>\n",
              "      <td>52.063393</td>\n",
              "      <td>-1.005713</td>\n",
              "      <td>151 mi</td>\n",
              "      <td>2 hours 54 mins</td>\n",
              "      <td>151.0</td>\n",
              "      <td>s 54 mins</td>\n",
              "      <td>54.0</td>\n",
              "      <td>4.0</td>\n",
              "      <td>151.0</td>\n",
              "      <td>120.0</td>\n",
              "      <td>174</td>\n",
              "    </tr>\n",
              "    <tr>\n",
              "      <th>...</th>\n",
              "      <td>...</td>\n",
              "      <td>...</td>\n",
              "      <td>...</td>\n",
              "      <td>...</td>\n",
              "      <td>...</td>\n",
              "      <td>...</td>\n",
              "      <td>...</td>\n",
              "      <td>...</td>\n",
              "      <td>...</td>\n",
              "      <td>...</td>\n",
              "      <td>...</td>\n",
              "      <td>...</td>\n",
              "    </tr>\n",
              "    <tr>\n",
              "      <th>6597</th>\n",
              "      <td>6597</td>\n",
              "      <td>50.732399</td>\n",
              "      <td>0.253338</td>\n",
              "      <td>15.9 mi</td>\n",
              "      <td>36 mins</td>\n",
              "      <td>15.0</td>\n",
              "      <td>36 mins</td>\n",
              "      <td>36.0</td>\n",
              "      <td>NaN</td>\n",
              "      <td>NaN</td>\n",
              "      <td>0.0</td>\n",
              "      <td>36</td>\n",
              "    </tr>\n",
              "    <tr>\n",
              "      <th>6598</th>\n",
              "      <td>6598</td>\n",
              "      <td>50.732399</td>\n",
              "      <td>0.271325</td>\n",
              "      <td>15.7 mi</td>\n",
              "      <td>36 mins</td>\n",
              "      <td>15.0</td>\n",
              "      <td>36 mins</td>\n",
              "      <td>36.0</td>\n",
              "      <td>NaN</td>\n",
              "      <td>NaN</td>\n",
              "      <td>0.0</td>\n",
              "      <td>36</td>\n",
              "    </tr>\n",
              "    <tr>\n",
              "      <th>6599</th>\n",
              "      <td>6599</td>\n",
              "      <td>50.714413</td>\n",
              "      <td>-1.599266</td>\n",
              "      <td>122 mi</td>\n",
              "      <td>2 hours 50 mins</td>\n",
              "      <td>122.0</td>\n",
              "      <td>s 50 mins</td>\n",
              "      <td>50.0</td>\n",
              "      <td>6599.0</td>\n",
              "      <td>122.0</td>\n",
              "      <td>120.0</td>\n",
              "      <td>170</td>\n",
              "    </tr>\n",
              "    <tr>\n",
              "      <th>6600</th>\n",
              "      <td>6600</td>\n",
              "      <td>50.714413</td>\n",
              "      <td>-1.581279</td>\n",
              "      <td>122 mi</td>\n",
              "      <td>2 hours 52 mins</td>\n",
              "      <td>122.0</td>\n",
              "      <td>s 52 mins</td>\n",
              "      <td>52.0</td>\n",
              "      <td>6600.0</td>\n",
              "      <td>122.0</td>\n",
              "      <td>120.0</td>\n",
              "      <td>172</td>\n",
              "    </tr>\n",
              "    <tr>\n",
              "      <th>6601</th>\n",
              "      <td>6601</td>\n",
              "      <td>50.714413</td>\n",
              "      <td>-0.789876</td>\n",
              "      <td>71.2 mi</td>\n",
              "      <td>1 hour 51 mins</td>\n",
              "      <td>71.0</td>\n",
              "      <td>r 51 mins</td>\n",
              "      <td>51.0</td>\n",
              "      <td>6601.0</td>\n",
              "      <td>71.0</td>\n",
              "      <td>60.0</td>\n",
              "      <td>111</td>\n",
              "    </tr>\n",
              "  </tbody>\n",
              "</table>\n",
              "<p>6602 rows × 12 columns</p>\n",
              "</div>"
            ],
            "text/plain": [
              "      Unnamed: 0        lat       lon distance             time   dist  \\\n",
              "0              0  52.081379 -0.951754   146 mi  2 hours 52 mins  146.0   \n",
              "1              1  52.081379 -0.933767   144 mi  2 hours 49 mins  144.0   \n",
              "2              2  52.063393 -1.041686   151 mi  2 hours 52 mins  151.0   \n",
              "3              3  52.063393 -1.023699   151 mi  2 hours 49 mins  151.0   \n",
              "4              4  52.063393 -1.005713   151 mi  2 hours 54 mins  151.0   \n",
              "...          ...        ...       ...      ...              ...    ...   \n",
              "6597        6597  50.732399  0.253338  15.9 mi          36 mins   15.0   \n",
              "6598        6598  50.732399  0.271325  15.7 mi          36 mins   15.0   \n",
              "6599        6599  50.714413 -1.599266   122 mi  2 hours 50 mins  122.0   \n",
              "6600        6600  50.714413 -1.581279   122 mi  2 hours 52 mins  122.0   \n",
              "6601        6601  50.714413 -0.789876  71.2 mi   1 hour 51 mins   71.0   \n",
              "\n",
              "           mins   min  Unnamed: 0   dist   hour  travel_time  \n",
              "0     s 52 mins  52.0         0.0  146.0  120.0          172  \n",
              "1     s 49 mins  49.0         1.0  144.0  120.0          169  \n",
              "2     s 52 mins  52.0         2.0  151.0  120.0          172  \n",
              "3     s 49 mins  49.0         3.0  151.0  120.0          169  \n",
              "4     s 54 mins  54.0         4.0  151.0  120.0          174  \n",
              "...         ...   ...         ...    ...    ...          ...  \n",
              "6597    36 mins  36.0         NaN    NaN    0.0           36  \n",
              "6598    36 mins  36.0         NaN    NaN    0.0           36  \n",
              "6599  s 50 mins  50.0      6599.0  122.0  120.0          170  \n",
              "6600  s 52 mins  52.0      6600.0  122.0  120.0          172  \n",
              "6601  r 51 mins  51.0      6601.0   71.0   60.0          111  \n",
              "\n",
              "[6602 rows x 12 columns]"
            ]
          },
          "execution_count": 411,
          "metadata": {},
          "output_type": "execute_result"
        }
      ],
      "source": [
        "df3['travel_time'] = df3['min'].astype(int) + df3['hour'].astype(int)\n",
        "df3"
      ]
    },
    {
      "cell_type": "code",
      "execution_count": null,
      "id": "3b4be5ac",
      "metadata": {
        "id": "3b4be5ac"
      },
      "outputs": [],
      "source": [
        "df4 = df3.drop(columns=['time','mins','Unnamed: 0'])"
      ]
    },
    {
      "cell_type": "code",
      "execution_count": null,
      "id": "c5f8f942",
      "metadata": {
        "id": "c5f8f942"
      },
      "outputs": [],
      "source": [
        "df4.to_csv('D:/Dis/GIS model/processed/final/TN402DZ.csv',index=False)"
      ]
    },
    {
      "cell_type": "code",
      "execution_count": null,
      "id": "fec1dbf6",
      "metadata": {
        "id": "fec1dbf6"
      },
      "outputs": [],
      "source": []
    },
    {
      "cell_type": "code",
      "execution_count": null,
      "id": "85912099",
      "metadata": {
        "id": "85912099"
      },
      "outputs": [],
      "source": []
    }
  ],
  "metadata": {
    "kernelspec": {
      "display_name": "Python 3 (ipykernel)",
      "language": "python",
      "name": "python3"
    },
    "language_info": {
      "codemirror_mode": {
        "name": "ipython",
        "version": 3
      },
      "file_extension": ".py",
      "mimetype": "text/x-python",
      "name": "python",
      "nbconvert_exporter": "python",
      "pygments_lexer": "ipython3",
      "version": "3.10.6"
    },
    "colab": {
      "provenance": [],
      "collapsed_sections": []
    }
  },
  "nbformat": 4,
  "nbformat_minor": 5
}